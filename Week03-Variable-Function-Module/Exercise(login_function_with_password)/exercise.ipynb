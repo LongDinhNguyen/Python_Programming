{
 "cells": [
  {
   "cell_type": "code",
   "execution_count": null,
   "id": "0916731e",
   "metadata": {},
   "outputs": [],
   "source": [
    "# viet chuong trinh dang nhap "
   ]
  },
  {
   "cell_type": "code",
   "execution_count": 2,
   "id": "5f4bcecc",
   "metadata": {},
   "outputs": [],
   "source": [
    "import time"
   ]
  },
  {
   "cell_type": "code",
   "execution_count": 8,
   "id": "ab513bfd",
   "metadata": {},
   "outputs": [],
   "source": [
    "def login():\n",
    "    while 3>1:\n",
    "        keywork = input(\"vui long nhap password: \")\n",
    "    #     print(keywork)\n",
    "        if keywork == \"123456\":\n",
    "            print(\"ban da nhap dung mat ma. Tiep tuc code\")\n",
    "            break;\n",
    "        else:\n",
    "            print(\"ban nhap sai mat ma. Vui long cho 2s va dang nhap lai!\")\n",
    "            time.sleep(2)"
   ]
  },
  {
   "cell_type": "code",
   "execution_count": 9,
   "id": "e2ca928b",
   "metadata": {},
   "outputs": [
    {
     "name": "stdout",
     "output_type": "stream",
     "text": [
      "vui long nhap password: 123\n",
      "ban nhap sai mat ma. Vui long cho 2s va dang nhap lai!\n",
      "vui long nhap password: 123456\n",
      "ban da nhap dung mat ma. Tiep tuc code\n"
     ]
    }
   ],
   "source": [
    "login()"
   ]
  },
  {
   "cell_type": "code",
   "execution_count": null,
   "id": "95266173",
   "metadata": {},
   "outputs": [],
   "source": []
  }
 ],
 "metadata": {
  "kernelspec": {
   "display_name": "Python 3 (ipykernel)",
   "language": "python",
   "name": "python3"
  },
  "language_info": {
   "codemirror_mode": {
    "name": "ipython",
    "version": 3
   },
   "file_extension": ".py",
   "mimetype": "text/x-python",
   "name": "python",
   "nbconvert_exporter": "python",
   "pygments_lexer": "ipython3",
   "version": "3.9.12"
  }
 },
 "nbformat": 4,
 "nbformat_minor": 5
}
