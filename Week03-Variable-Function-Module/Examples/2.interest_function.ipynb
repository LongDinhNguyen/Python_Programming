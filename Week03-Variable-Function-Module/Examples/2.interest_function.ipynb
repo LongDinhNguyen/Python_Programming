{
 "cells": [
  {
   "cell_type": "code",
   "execution_count": null,
   "id": "3388c213",
   "metadata": {},
   "outputs": [],
   "source": [
    "# viet function tinh gia tri tien goi voi lai suat theo nam"
   ]
  },
  {
   "cell_type": "code",
   "execution_count": 1,
   "id": "22adb66d",
   "metadata": {},
   "outputs": [],
   "source": [
    "import math"
   ]
  },
  {
   "cell_type": "code",
   "execution_count": 2,
   "id": "827464c7",
   "metadata": {},
   "outputs": [],
   "source": [
    "def compute_interest(amount, rate, year):\n",
    "    value = amount*(1+rate/100)**year\n",
    "    return value"
   ]
  },
  {
   "cell_type": "code",
   "execution_count": 7,
   "id": "fad8e04d",
   "metadata": {},
   "outputs": [
    {
     "name": "stdout",
     "output_type": "stream",
     "text": [
      "so tien tiet kiem sau 100 nam la: 131.50125784630401 ty dong\n"
     ]
    }
   ],
   "source": [
    "money = compute_interest(1000000000, 5, 100)\n",
    "print(\"so tien tiet kiem sau\", 100, \"nam la:\", money/1e9, \"ty dong\")"
   ]
  },
  {
   "cell_type": "code",
   "execution_count": null,
   "id": "2f3f7726",
   "metadata": {},
   "outputs": [],
   "source": []
  }
 ],
 "metadata": {
  "kernelspec": {
   "display_name": "Python 3 (ipykernel)",
   "language": "python",
   "name": "python3"
  },
  "language_info": {
   "codemirror_mode": {
    "name": "ipython",
    "version": 3
   },
   "file_extension": ".py",
   "mimetype": "text/x-python",
   "name": "python",
   "nbconvert_exporter": "python",
   "pygments_lexer": "ipython3",
   "version": "3.9.12"
  }
 },
 "nbformat": 4,
 "nbformat_minor": 5
}
