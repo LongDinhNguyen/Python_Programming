{
 "cells": [
  {
   "cell_type": "code",
   "execution_count": 1,
   "id": "aba37b25",
   "metadata": {},
   "outputs": [],
   "source": [
    "import math"
   ]
  },
  {
   "cell_type": "code",
   "execution_count": 5,
   "id": "da554a58",
   "metadata": {},
   "outputs": [],
   "source": [
    "# viet function tinh phuong trinh bac 2\n",
    "so_bac = 2 # global varible\n",
    "\n",
    "def quadractic(a, b, c, x):\n",
    "    quad_expression = a*x**so_bac + b*x + c\n",
    "    # quad_expression is local variable\n",
    "    return quad_expression"
   ]
  },
  {
   "cell_type": "code",
   "execution_count": 6,
   "id": "56c737ac",
   "metadata": {},
   "outputs": [
    {
     "name": "stdout",
     "output_type": "stream",
     "text": [
      "ket qua phuong trinh bac 2: 18\n"
     ]
    }
   ],
   "source": [
    "quad_result = quadractic(2, 3, 4, 2)\n",
    "print(\"ket qua phuong trinh bac 2:\", quad_result)"
   ]
  },
  {
   "cell_type": "code",
   "execution_count": null,
   "id": "04cdeb6c",
   "metadata": {},
   "outputs": [],
   "source": []
  }
 ],
 "metadata": {
  "kernelspec": {
   "display_name": "Python 3 (ipykernel)",
   "language": "python",
   "name": "python3"
  },
  "language_info": {
   "codemirror_mode": {
    "name": "ipython",
    "version": 3
   },
   "file_extension": ".py",
   "mimetype": "text/x-python",
   "name": "python",
   "nbconvert_exporter": "python",
   "pygments_lexer": "ipython3",
   "version": "3.9.12"
  }
 },
 "nbformat": 4,
 "nbformat_minor": 5
}
