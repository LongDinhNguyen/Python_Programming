{
 "cells": [
  {
   "cell_type": "code",
   "execution_count": 1,
   "id": "183a1b6e",
   "metadata": {},
   "outputs": [],
   "source": [
    "# viet chuong trinh thuc hien phep tinh trung binh cong"
   ]
  },
  {
   "cell_type": "code",
   "execution_count": 2,
   "id": "e4b8bdec",
   "metadata": {},
   "outputs": [],
   "source": [
    "import math"
   ]
  },
  {
   "cell_type": "code",
   "execution_count": 13,
   "id": "f1029ca0",
   "metadata": {},
   "outputs": [],
   "source": [
    "def avg(data, start=0, end=None):\n",
    "    if not end:\n",
    "        end = len(data) # dem so chieu (phan tu) trong mang data\n",
    "    avg_expression = sum(data[start:end])/float(end-start)\n",
    "    return avg_expression"
   ]
  },
  {
   "cell_type": "code",
   "execution_count": 15,
   "id": "cfdf0353",
   "metadata": {},
   "outputs": [
    {
     "name": "stdout",
     "output_type": "stream",
     "text": [
      "gia tri trung binh cua data la: 3.0\n"
     ]
    }
   ],
   "source": [
    "data = [1, 2, 3, 4, 5]\n",
    "avg_value = avg(data)\n",
    "print(\"gia tri trung binh cua data la:\" ,avg_value)"
   ]
  },
  {
   "cell_type": "code",
   "execution_count": 17,
   "id": "7681393a",
   "metadata": {},
   "outputs": [
    {
     "name": "stdout",
     "output_type": "stream",
     "text": [
      "gia tri trung binh theo dieu kien: 4.0\n"
     ]
    }
   ],
   "source": [
    "data = [1, 2, 3, 4, 5]\n",
    "avg_value = avg(data, 2)\n",
    "print(\"gia tri trung binh theo dieu kien:\" ,avg_value)"
   ]
  },
  {
   "cell_type": "code",
   "execution_count": 19,
   "id": "5c0dddd4",
   "metadata": {},
   "outputs": [
    {
     "name": "stdout",
     "output_type": "stream",
     "text": [
      "gia tri trung binh theo dieu kien: 3.0\n"
     ]
    }
   ],
   "source": [
    "data = [1, 2, 3, 4, 5]\n",
    "avg_value = avg(data, 1, 4)\n",
    "print(\"gia tri trung binh theo dieu kien:\" ,avg_value)"
   ]
  },
  {
   "cell_type": "code",
   "execution_count": null,
   "id": "b0e841fc",
   "metadata": {},
   "outputs": [],
   "source": []
  }
 ],
 "metadata": {
  "kernelspec": {
   "display_name": "Python 3 (ipykernel)",
   "language": "python",
   "name": "python3"
  },
  "language_info": {
   "codemirror_mode": {
    "name": "ipython",
    "version": 3
   },
   "file_extension": ".py",
   "mimetype": "text/x-python",
   "name": "python",
   "nbconvert_exporter": "python",
   "pygments_lexer": "ipython3",
   "version": "3.9.12"
  }
 },
 "nbformat": 4,
 "nbformat_minor": 5
}
