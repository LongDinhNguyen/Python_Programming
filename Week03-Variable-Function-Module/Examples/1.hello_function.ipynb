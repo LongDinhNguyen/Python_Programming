{
 "cells": [
  {
   "cell_type": "code",
   "execution_count": 5,
   "id": "852935be",
   "metadata": {},
   "outputs": [],
   "source": [
    "def sayHello(a):\n",
    "    if a > 0:\n",
    "        print(\"Hello cac ban DH21HM.\")\n",
    "    else:\n",
    "        print(\"No welcome you.\")\n",
    "    "
   ]
  },
  {
   "cell_type": "code",
   "execution_count": 6,
   "id": "95b5dc08",
   "metadata": {},
   "outputs": [
    {
     "name": "stdout",
     "output_type": "stream",
     "text": [
      "No welcome you.\n"
     ]
    }
   ],
   "source": [
    "a = -1\n",
    "sayHello(a)"
   ]
  },
  {
   "cell_type": "code",
   "execution_count": 7,
   "id": "f46dbe81",
   "metadata": {},
   "outputs": [
    {
     "name": "stdout",
     "output_type": "stream",
     "text": [
      "Hello cac ban DH21HM.\n"
     ]
    }
   ],
   "source": [
    "a = 2\n",
    "sayHello(a)"
   ]
  },
  {
   "cell_type": "code",
   "execution_count": null,
   "id": "13c9eb72",
   "metadata": {},
   "outputs": [],
   "source": []
  }
 ],
 "metadata": {
  "kernelspec": {
   "display_name": "Python 3 (ipykernel)",
   "language": "python",
   "name": "python3"
  },
  "language_info": {
   "codemirror_mode": {
    "name": "ipython",
    "version": 3
   },
   "file_extension": ".py",
   "mimetype": "text/x-python",
   "name": "python",
   "nbconvert_exporter": "python",
   "pygments_lexer": "ipython3",
   "version": "3.9.12"
  }
 },
 "nbformat": 4,
 "nbformat_minor": 5
}
