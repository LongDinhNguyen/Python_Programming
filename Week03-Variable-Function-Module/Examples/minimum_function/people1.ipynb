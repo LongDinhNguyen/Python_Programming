{
 "cells": [
  {
   "cell_type": "code",
   "execution_count": 1,
   "id": "d679b02e",
   "metadata": {},
   "outputs": [
    {
     "name": "stdout",
     "output_type": "stream",
     "text": [
      "[0.59, 0.81, 0.87, 0.8, 0.24, 0.77, 0.03, 0.5, 0.34]\n"
     ]
    }
   ],
   "source": [
    "X = [0.59, 0.81, 0.87, 0.8,  0.24, 0.77, 0.03, 0.5,  0.34]\n",
    "print(X)"
   ]
  },
  {
   "cell_type": "code",
   "execution_count": 6,
   "id": "aaf5283d",
   "metadata": {},
   "outputs": [],
   "source": [
    "min_temp = X[0]\n",
    "range_X = len(X)\n",
    "for m in range(range_X-1):\n",
    "    if min_temp <= X[m+1]:\n",
    "        min_value = min_temp\n",
    "    else:\n",
    "        min_temp = X[m+1]\n",
    "        min_value = min_temp"
   ]
  },
  {
   "cell_type": "code",
   "execution_count": 8,
   "id": "dc0bbd96",
   "metadata": {},
   "outputs": [
    {
     "name": "stdout",
     "output_type": "stream",
     "text": [
      "minimum value of array X:  0.03\n"
     ]
    }
   ],
   "source": [
    "print(\"minimum value of array X: \", min_value)"
   ]
  },
  {
   "cell_type": "code",
   "execution_count": null,
   "id": "54df1b8c",
   "metadata": {},
   "outputs": [],
   "source": []
  }
 ],
 "metadata": {
  "kernelspec": {
   "display_name": "Python 3 (ipykernel)",
   "language": "python",
   "name": "python3"
  },
  "language_info": {
   "codemirror_mode": {
    "name": "ipython",
    "version": 3
   },
   "file_extension": ".py",
   "mimetype": "text/x-python",
   "name": "python",
   "nbconvert_exporter": "python",
   "pygments_lexer": "ipython3",
   "version": "3.9.12"
  }
 },
 "nbformat": 4,
 "nbformat_minor": 5
}
