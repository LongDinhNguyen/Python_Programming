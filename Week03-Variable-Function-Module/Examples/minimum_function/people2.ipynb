{
 "cells": [
  {
   "cell_type": "code",
   "execution_count": 2,
   "id": "73dab311",
   "metadata": {},
   "outputs": [
    {
     "name": "stdout",
     "output_type": "stream",
     "text": [
      "[0.59, 0.81, 0.87, 0.8, 0.24, 0.77, 0.03, 0.5, 0.34]\n"
     ]
    }
   ],
   "source": [
    "X = [0.59, 0.81, 0.87, 0.8,  0.24, 0.77, 0.03, 0.5,  0.34]\n",
    "print(X)"
   ]
  },
  {
   "cell_type": "code",
   "execution_count": 3,
   "id": "9255c569",
   "metadata": {},
   "outputs": [],
   "source": [
    "def minX(a,b,c):\n",
    "    if a <= b:\n",
    "        min_value = a\n",
    "        if a <= c:\n",
    "            min_value = a\n",
    "        else:\n",
    "            min_value = c\n",
    "    else:\n",
    "        if b <= c:\n",
    "            min_value = b\n",
    "        else:\n",
    "            min_value = c\n",
    "    return min_value"
   ]
  },
  {
   "cell_type": "code",
   "execution_count": 4,
   "id": "f74ee2cf",
   "metadata": {},
   "outputs": [
    {
     "name": "stdout",
     "output_type": "stream",
     "text": [
      "0.59\n",
      "0.24\n",
      "0.03\n",
      "minimum value of array X:  0.03\n"
     ]
    }
   ],
   "source": [
    "min_X1 = minX(X[0], X[1],X[2])\n",
    "print(min_X1)\n",
    "min_X2 = minX(X[3], X[4],X[5])\n",
    "print(min_X2)\n",
    "min_X3 = minX(X[6], X[7],X[8])\n",
    "print(min_X3)\n",
    "\n",
    "min_final = minX(min_X1, min_X2, min_X3)\n",
    "print(\"minimum value of array X: \", min_final)"
   ]
  },
  {
   "cell_type": "code",
   "execution_count": null,
   "id": "88d1ef2e",
   "metadata": {},
   "outputs": [],
   "source": []
  }
 ],
 "metadata": {
  "kernelspec": {
   "display_name": "Python 3 (ipykernel)",
   "language": "python",
   "name": "python3"
  },
  "language_info": {
   "codemirror_mode": {
    "name": "ipython",
    "version": 3
   },
   "file_extension": ".py",
   "mimetype": "text/x-python",
   "name": "python",
   "nbconvert_exporter": "python",
   "pygments_lexer": "ipython3",
   "version": "3.9.12"
  }
 },
 "nbformat": 4,
 "nbformat_minor": 5
}
