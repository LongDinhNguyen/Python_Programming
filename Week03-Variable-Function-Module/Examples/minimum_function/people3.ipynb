{
 "cells": [
  {
   "cell_type": "code",
   "execution_count": 2,
   "id": "5ac854dd",
   "metadata": {},
   "outputs": [
    {
     "name": "stdout",
     "output_type": "stream",
     "text": [
      "[0.59, 0.81, 0.87, 0.8, 0.24, 0.77, 0.03, 0.5, 0.34]\n"
     ]
    }
   ],
   "source": [
    "X = [0.59, 0.81, 0.87, 0.8,  0.24, 0.77, 0.03, 0.5,  0.34]\n",
    "print(X)"
   ]
  },
  {
   "cell_type": "code",
   "execution_count": 3,
   "id": "07670590",
   "metadata": {},
   "outputs": [],
   "source": [
    "import numpy as np"
   ]
  },
  {
   "cell_type": "code",
   "execution_count": 5,
   "id": "396266f3",
   "metadata": {},
   "outputs": [
    {
     "name": "stdout",
     "output_type": "stream",
     "text": [
      "minimum value of array X:  0.03\n"
     ]
    }
   ],
   "source": [
    "min_value = np.min(X)\n",
    "print(\"minimum value of array X: \", min_value)"
   ]
  },
  {
   "cell_type": "code",
   "execution_count": null,
   "id": "07d68704",
   "metadata": {},
   "outputs": [],
   "source": []
  }
 ],
 "metadata": {
  "kernelspec": {
   "display_name": "Python 3 (ipykernel)",
   "language": "python",
   "name": "python3"
  },
  "language_info": {
   "codemirror_mode": {
    "name": "ipython",
    "version": 3
   },
   "file_extension": ".py",
   "mimetype": "text/x-python",
   "name": "python",
   "nbconvert_exporter": "python",
   "pygments_lexer": "ipython3",
   "version": "3.9.12"
  }
 },
 "nbformat": 4,
 "nbformat_minor": 5
}
