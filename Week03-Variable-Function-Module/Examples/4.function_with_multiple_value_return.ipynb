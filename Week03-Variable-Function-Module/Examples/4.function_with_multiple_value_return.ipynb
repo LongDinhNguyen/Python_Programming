{
 "cells": [
  {
   "cell_type": "code",
   "execution_count": 1,
   "id": "6f76d1a4",
   "metadata": {},
   "outputs": [],
   "source": [
    "def identify():\n",
    "    student_name = \"Nguyen van A\"\n",
    "    student_ID = 123456\n",
    "    student_age = 2003\n",
    "    return student_name, student_ID, student_age"
   ]
  },
  {
   "cell_type": "code",
   "execution_count": 4,
   "id": "a716aaaa",
   "metadata": {},
   "outputs": [
    {
     "name": "stdout",
     "output_type": "stream",
     "text": [
      "ten sinh vien: Nguyen van A\n",
      "ID sinh vien: 123456\n",
      "nam sinh sinh vien: 2003\n"
     ]
    }
   ],
   "source": [
    "name, ID, age = identify()\n",
    "print(\"ten sinh vien:\", name)\n",
    "print(\"ID sinh vien:\", ID)\n",
    "print(\"nam sinh sinh vien:\", age)"
   ]
  },
  {
   "cell_type": "code",
   "execution_count": null,
   "id": "312daa20",
   "metadata": {},
   "outputs": [],
   "source": []
  }
 ],
 "metadata": {
  "kernelspec": {
   "display_name": "Python 3 (ipykernel)",
   "language": "python",
   "name": "python3"
  },
  "language_info": {
   "codemirror_mode": {
    "name": "ipython",
    "version": 3
   },
   "file_extension": ".py",
   "mimetype": "text/x-python",
   "name": "python",
   "nbconvert_exporter": "python",
   "pygments_lexer": "ipython3",
   "version": "3.9.12"
  }
 },
 "nbformat": 4,
 "nbformat_minor": 5
}
