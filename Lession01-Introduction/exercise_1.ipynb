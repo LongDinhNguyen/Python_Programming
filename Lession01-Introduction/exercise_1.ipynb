{
 "cells": [
  {
   "cell_type": "code",
   "execution_count": null,
   "id": "112bc5a2",
   "metadata": {},
   "outputs": [],
   "source": [
    "# chuong trinh tinh tuoi, nam hien tai 2022"
   ]
  },
  {
   "cell_type": "code",
   "execution_count": 2,
   "id": "23a5c4cd",
   "metadata": {},
   "outputs": [],
   "source": [
    "import math"
   ]
  },
  {
   "cell_type": "code",
   "execution_count": null,
   "id": "22ddbf0f",
   "metadata": {},
   "outputs": [],
   "source": [
    "nam_hien_tai = 2022\n",
    "nam_sinh = int(input(\"Nhap nam sinh cua ban: \"))\n",
    "# tinh tuoi bang cach lay nam_hien_tai tru di nam_sinh\n",
    "so_tuoi = nam_hien_tai - nam_sinh\n",
    "print(\"so tuoi cua ban la: \", so_tuoi)"
   ]
  },
  {
   "cell_type": "code",
   "execution_count": null,
   "id": "ce9a11c3",
   "metadata": {},
   "outputs": [],
   "source": []
  }
 ],
 "metadata": {
  "kernelspec": {
   "display_name": "Python 3 (ipykernel)",
   "language": "python",
   "name": "python3"
  },
  "language_info": {
   "codemirror_mode": {
    "name": "ipython",
    "version": 3
   },
   "file_extension": ".py",
   "mimetype": "text/x-python",
   "name": "python",
   "nbconvert_exporter": "python",
   "pygments_lexer": "ipython3",
   "version": "3.9.12"
  }
 },
 "nbformat": 4,
 "nbformat_minor": 5
}
