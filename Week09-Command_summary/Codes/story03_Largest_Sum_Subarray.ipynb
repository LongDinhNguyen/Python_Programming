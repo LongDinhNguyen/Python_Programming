{
 "cells": [
  {
   "cell_type": "code",
   "execution_count": 82,
   "id": "155c484c",
   "metadata": {},
   "outputs": [],
   "source": [
    "import numpy as np"
   ]
  },
  {
   "cell_type": "code",
   "execution_count": 119,
   "id": "3b216cf4",
   "metadata": {},
   "outputs": [
    {
     "name": "stdout",
     "output_type": "stream",
     "text": [
      "13\n"
     ]
    }
   ],
   "source": [
    "# A = [-4, 2, -5, 1, 2, 3, 6, -5, 1]\n",
    "\n",
    "A = [2, 1, 2, -4, 6, 1, 0, 5]\n",
    "# print(type(A))\n",
    "print(sum(A))"
   ]
  },
  {
   "cell_type": "code",
   "execution_count": 120,
   "id": "b0074cd7",
   "metadata": {},
   "outputs": [
    {
     "name": "stdout",
     "output_type": "stream",
     "text": [
      "3\n",
      "5\n",
      "5\n",
      "7\n",
      "8\n",
      "8\n",
      "13\n",
      "13\n"
     ]
    }
   ],
   "source": [
    "current_max = A[0]\n",
    "global_max = A[0]\n",
    "size = len(A)\n",
    "for i in range(1, size):\n",
    "    if current_max <= 0:\n",
    "        if current_max <= sum(A[i:]):\n",
    "            current_max = A[i]\n",
    "        else:             \n",
    "            current_max = current_max + A[i]\n",
    "    else:\n",
    "        current_max = current_max + A[i]\n",
    "        \n",
    "    if global_max <= current_max: \n",
    "        global_max = current_max\n",
    "    print(global_max)\n",
    "    \n",
    "print(global_max)"
   ]
  },
  {
   "cell_type": "code",
   "execution_count": null,
   "id": "c93796fb",
   "metadata": {},
   "outputs": [],
   "source": [
    "# current_max = A[0]\n",
    "# global_max = A[0]\n",
    "# for i in range(len(A)):\n",
    "#     if current_max <= A[i]:\n",
    "#         current_max = A[i]\n",
    "#     else: \n",
    "#         current_max = current_max + A[i]\n",
    "        \n",
    "#     if global_max <= current_max: \n",
    "#         global_max = current_max\n",
    "#     print(current_max)\n",
    "    \n",
    "# print(global_max)"
   ]
  },
  {
   "cell_type": "code",
   "execution_count": null,
   "id": "ea2d8673",
   "metadata": {},
   "outputs": [],
   "source": [
    "current_max = A[0]\n",
    "global_max = A[0]\n",
    "size = len(A)\n",
    "for i in range(1, size):\n",
    "    if current_max <= 0:\n",
    "        if current_max <= sum(A[i:]):\n",
    "            current_max = A[i]\n",
    "        else:             \n",
    "            current_max = current_max + A[i]\n",
    "    else:\n",
    "        if i == 0:\n",
    "            current_max = A[i]\n",
    "        else:\n",
    "            current_max = current_max + A[i]\n",
    "        \n",
    "    if global_max <= current_max: \n",
    "        global_max = current_max\n",
    "    print(global_max)\n",
    "    \n",
    "print(global_max)"
   ]
  }
 ],
 "metadata": {
  "kernelspec": {
   "display_name": "Python 3 (ipykernel)",
   "language": "python",
   "name": "python3"
  },
  "language_info": {
   "codemirror_mode": {
    "name": "ipython",
    "version": 3
   },
   "file_extension": ".py",
   "mimetype": "text/x-python",
   "name": "python",
   "nbconvert_exporter": "python",
   "pygments_lexer": "ipython3",
   "version": "3.9.12"
  }
 },
 "nbformat": 4,
 "nbformat_minor": 5
}
