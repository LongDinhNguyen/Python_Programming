{
 "cells": [
  {
   "cell_type": "code",
   "execution_count": null,
   "id": "b5e1de3b",
   "metadata": {},
   "outputs": [],
   "source": [
    "# Set columns and rows as zeroes"
   ]
  },
  {
   "cell_type": "code",
   "execution_count": null,
   "id": "12a7d1dc",
   "metadata": {},
   "outputs": [],
   "source": [
    "A = [ [5,4,3,9], [2,7,0,6], [1,3,4,4], [8,9,0,3] ]\n",
    "len(A)"
   ]
  },
  {
   "cell_type": "code",
   "execution_count": null,
   "id": "14f9ee3d",
   "metadata": {},
   "outputs": [],
   "source": [
    "len_row = len(A[0][:])\n",
    "print(len_row)\n",
    "len_col = len(A[:][0])\n",
    "print(len_col)"
   ]
  },
  {
   "cell_type": "code",
   "execution_count": null,
   "id": "bc1e2a3a",
   "metadata": {},
   "outputs": [],
   "source": [
    "set_matrix = A\n",
    "set_pos = []\n",
    "for i in range(len_row):\n",
    "    for j in range(len_col):\n",
    "        if A[i][j] == 0:\n",
    "            set_pos.append([i, j]) \n",
    "\n",
    "print(set_pos)\n",
    "set_pos_size_row = len(set_pos[0][:])\n",
    "\n",
    "for l in range(set_pos_size_row):\n",
    "    for q in range(len_col):\n",
    "        set_matrix[set_pos[l][0]][q] = 0\n",
    "    for p in range(len_row):\n",
    "        set_matrix[p][set_pos[l][1]] = 0\n",
    "        \n",
    "print(set_matrix)"
   ]
  }
 ],
 "metadata": {
  "kernelspec": {
   "display_name": "Python 3 (ipykernel)",
   "language": "python",
   "name": "python3"
  },
  "language_info": {
   "codemirror_mode": {
    "name": "ipython",
    "version": 3
   },
   "file_extension": ".py",
   "mimetype": "text/x-python",
   "name": "python",
   "nbconvert_exporter": "python",
   "pygments_lexer": "ipython3",
   "version": "3.9.12"
  }
 },
 "nbformat": 4,
 "nbformat_minor": 5
}
