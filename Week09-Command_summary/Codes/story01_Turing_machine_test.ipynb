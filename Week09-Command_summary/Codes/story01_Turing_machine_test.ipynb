{
 "cells": [
  {
   "cell_type": "code",
   "execution_count": 3,
   "id": "0c813472",
   "metadata": {},
   "outputs": [],
   "source": [
    "class Tape(object):\n",
    "    \n",
    "    blank_symbol = \" \"\n",
    "    \n",
    "    def __init__(self, tape_string = \"\"):\n",
    "        self.__tape = dict((enumerate(tape_string)))\n",
    "        \n",
    "    def __str__(self):\n",
    "        s = \"\"\n",
    "        min_used_index = min(self.__tape.keys()) \n",
    "        max_used_index = max(self.__tape.keys())\n",
    "        for i in range(min_used_index, max_used_index):\n",
    "            s += self.__tape[i]\n",
    "        return s    \n",
    "   \n",
    "    def __getitem__(self,index):\n",
    "        if index in self.__tape:\n",
    "            return self.__tape[index]\n",
    "        else:\n",
    "            return Tape.blank_symbol\n",
    "\n",
    "    def __setitem__(self, pos, char):\n",
    "        self.__tape[pos] = char \n",
    "\n",
    "        \n",
    "class TuringMachine(object):\n",
    "    \n",
    "    def __init__(self, \n",
    "                 tape = \"\", \n",
    "                 blank_symbol = \" \",\n",
    "                 initial_state = \"\",\n",
    "                 final_states = None,\n",
    "                 transition_function = None):\n",
    "        self.__tape = Tape(tape)\n",
    "        self.__head_position = 0\n",
    "        self.__blank_symbol = blank_symbol\n",
    "        self.__current_state = initial_state\n",
    "        if transition_function == None:\n",
    "            self.__transition_function = {}\n",
    "        else:\n",
    "            self.__transition_function = transition_function\n",
    "        if final_states == None:\n",
    "            self.__final_states = set()\n",
    "        else:\n",
    "            self.__final_states = set(final_states)\n",
    "        \n",
    "    def get_tape(self): \n",
    "        return str(self.__tape)\n",
    "    \n",
    "    def step(self):\n",
    "        char_under_head = self.__tape[self.__head_position]\n",
    "        x = (self.__current_state, char_under_head)\n",
    "        if x in self.__transition_function:\n",
    "            y = self.__transition_function[x]\n",
    "            self.__tape[self.__head_position] = y[1]\n",
    "            if y[2] == \"R\":\n",
    "                self.__head_position += 1\n",
    "            elif y[2] == \"L\":\n",
    "                self.__head_position -= 1\n",
    "            self.__current_state = y[0]\n",
    "\n",
    "    def final(self):\n",
    "        if self.__current_state in self.__final_states:\n",
    "            return True\n",
    "        else:\n",
    "            return False"
   ]
  },
  {
   "cell_type": "code",
   "execution_count": 7,
   "id": "dbf34ddd",
   "metadata": {},
   "outputs": [
    {
     "name": "stdout",
     "output_type": "stream",
     "text": [
      "Input on Tape:\n",
      "01001100\n",
      "Result of the Turing machine calculation:\n",
      "101100110\n"
     ]
    }
   ],
   "source": [
    "initial_state = \"init\",\n",
    "accepting_states = [\"final\"],\n",
    "transition_function = {(\"init\",\"0\"):(\"init\", \"1\", \"R\"),\n",
    "                       (\"init\",\"1\"):(\"init\", \"0\", \"R\"),\n",
    "                       (\"init\",\" \"):(\"final\",\" \", \"N\"),\n",
    "                       }\n",
    "final_states = {\"final\"}\n",
    "\n",
    "t = TuringMachine(\"010011001\", \n",
    "                  initial_state = \"init\",\n",
    "                  final_states = final_states,\n",
    "                  transition_function=transition_function)\n",
    "\n",
    "print(\"Input on Tape:\\n\" + t.get_tape())\n",
    "\n",
    "while not t.final():\n",
    "    t.step()\n",
    "\n",
    "print(\"Result of the Turing machine calculation:\")    \n",
    "print(t.get_tape())"
   ]
  },
  {
   "cell_type": "code",
   "execution_count": null,
   "id": "bb1ccaee",
   "metadata": {},
   "outputs": [],
   "source": []
  }
 ],
 "metadata": {
  "kernelspec": {
   "display_name": "Python 3 (ipykernel)",
   "language": "python",
   "name": "python3"
  },
  "language_info": {
   "codemirror_mode": {
    "name": "ipython",
    "version": 3
   },
   "file_extension": ".py",
   "mimetype": "text/x-python",
   "name": "python",
   "nbconvert_exporter": "python",
   "pygments_lexer": "ipython3",
   "version": "3.9.12"
  }
 },
 "nbformat": 4,
 "nbformat_minor": 5
}
