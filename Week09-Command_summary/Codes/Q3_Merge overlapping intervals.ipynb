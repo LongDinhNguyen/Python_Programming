{
 "cells": [
  {
   "cell_type": "code",
   "execution_count": 7,
   "id": "bd627123",
   "metadata": {},
   "outputs": [],
   "source": [
    "# [2,4][1,2][4,9][0,3][2,7]"
   ]
  },
  {
   "cell_type": "code",
   "execution_count": 8,
   "id": "87154635",
   "metadata": {},
   "outputs": [],
   "source": [
    "# create left interval\n",
    "fis_int = [2, 1, 4, 0, 2]\n",
    "\n",
    "# create right interval\n",
    "rig_int = [4, 2, 9, 3, 7]"
   ]
  },
  {
   "cell_type": "code",
   "execution_count": 9,
   "id": "9f81d6fa",
   "metadata": {},
   "outputs": [],
   "source": [
    "def merge_overlap(fis_int, rig_int):\n",
    "    left = min(fis_int)\n",
    "    right = max(rig_int)\n",
    "    return left, right"
   ]
  },
  {
   "cell_type": "code",
   "execution_count": 11,
   "id": "8a988261",
   "metadata": {},
   "outputs": [
    {
     "name": "stdout",
     "output_type": "stream",
     "text": [
      "merge_interval is: [ 0 ,  9 ]\n"
     ]
    }
   ],
   "source": [
    "left, right = merge_overlap(fis_int, rig_int)\n",
    "print(\"merge_interval is: [\", left, \", \", right, \"]\")"
   ]
  },
  {
   "cell_type": "code",
   "execution_count": null,
   "id": "1021d990",
   "metadata": {},
   "outputs": [],
   "source": []
  }
 ],
 "metadata": {
  "kernelspec": {
   "display_name": "Python 3 (ipykernel)",
   "language": "python",
   "name": "python3"
  },
  "language_info": {
   "codemirror_mode": {
    "name": "ipython",
    "version": 3
   },
   "file_extension": ".py",
   "mimetype": "text/x-python",
   "name": "python",
   "nbconvert_exporter": "python",
   "pygments_lexer": "ipython3",
   "version": "3.9.12"
  }
 },
 "nbformat": 4,
 "nbformat_minor": 5
}
