{
 "cells": [
  {
   "cell_type": "code",
   "execution_count": null,
   "id": "e35567e7",
   "metadata": {},
   "outputs": [],
   "source": [
    "# Find the maximum single sell profit\n",
    "A = [12, 15, 19, 14, 11, 9, 10, 6, 17, 3]"
   ]
  },
  {
   "cell_type": "code",
   "execution_count": null,
   "id": "7f369196",
   "metadata": {},
   "outputs": [],
   "source": [
    "current_max = A[1] - A[0]\n",
    "global_max = A[1] - A[0]\n",
    "len_A = len(A)\n",
    "\n",
    "min(A[1:])"
   ]
  },
  {
   "cell_type": "code",
   "execution_count": null,
   "id": "5e962a87",
   "metadata": {},
   "outputs": [],
   "source": [
    "for i in range(len_A-1):\n",
    "    left = A[i]\n",
    "    right = max(A[i+1:])\n",
    "    current_max = right - left\n",
    "    \n",
    "    \n",
    "    if global_max <= current_max:\n",
    "        global_max = current_max\n",
    "        buy = left\n",
    "        sell = right\n",
    "\n",
    "print(\"buy price is :\" , buy)\n",
    "print(\"sell price is :\" , sell)\n",
    "print(\"max sell profit is :\" , global_max)"
   ]
  },
  {
   "cell_type": "code",
   "execution_count": null,
   "id": "cbce01a4",
   "metadata": {},
   "outputs": [],
   "source": []
  }
 ],
 "metadata": {
  "kernelspec": {
   "display_name": "Python 3 (ipykernel)",
   "language": "python",
   "name": "python3"
  },
  "language_info": {
   "codemirror_mode": {
    "name": "ipython",
    "version": 3
   },
   "file_extension": ".py",
   "mimetype": "text/x-python",
   "name": "python",
   "nbconvert_exporter": "python",
   "pygments_lexer": "ipython3",
   "version": "3.9.12"
  }
 },
 "nbformat": 4,
 "nbformat_minor": 5
}
