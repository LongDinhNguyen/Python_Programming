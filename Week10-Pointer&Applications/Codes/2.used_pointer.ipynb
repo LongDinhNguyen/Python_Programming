{
 "cells": [
  {
   "cell_type": "code",
   "execution_count": 2,
   "id": "72752d17",
   "metadata": {},
   "outputs": [
    {
     "name": "stdout",
     "output_type": "stream",
     "text": [
      "2\n",
      "True\n",
      "Bob\n",
      "True\n",
      "[1, 2, 3]\n",
      "True\n",
      "{10, 20, 30}\n",
      "True\n",
      "(100, 200, 300)\n",
      "True\n",
      "{'0': 1922, '1': 'BMW', '2': 100}\n",
      "True\n"
     ]
    }
   ],
   "source": [
    "# assigning an integer value\n",
    "a = 2\n",
    "print(a)\n",
    "# checking if integer is an object or not\n",
    "print(isinstance(a, object))\n",
    "\n",
    "# assigning a string value\n",
    "b = \"Bob\"\n",
    "print(b)\n",
    "# checking if string is an object or not\n",
    "print(isinstance(b, object))\n",
    "\n",
    "# assigning a list value\n",
    "inputList = [1,2,3]\n",
    "print(inputList)\n",
    "# checking if list is an object or not\n",
    "print(isinstance(inputList, object))\n",
    "\n",
    "# assigning a set value\n",
    "inputSet = {10,20,30}\n",
    "print(inputSet)\n",
    "# checking if set is an object or not\n",
    "print(isinstance(inputSet, object))\n",
    "\n",
    "# assigning a tuple value\n",
    "inputTuple = (100, 200, 300)\n",
    "print(inputTuple)\n",
    "#checking if tuple object or not\n",
    "print(isinstance(inputTuple, object))\n",
    "\n",
    "# assigning a dictionary value\n",
    "inputDict =   {\n",
    "\"0\": 1922,\n",
    "\"1\": \"BMW\",\n",
    "\"2\": 100\n",
    "}\n",
    "print(inputDict)\n",
    "# checking if  dictionary is an object or not\n",
    "print(isinstance(inputDict, object))"
   ]
  },
  {
   "cell_type": "code",
   "execution_count": 3,
   "id": "5c68deda",
   "metadata": {},
   "outputs": [
    {
     "name": "stdout",
     "output_type": "stream",
     "text": [
      "Python Programming \n",
      "2696032994688\n",
      "Python Programming Language\n",
      "2696109016848\n"
     ]
    }
   ],
   "source": [
    "str = \"Python Programming \"\n",
    "print(str)\n",
    "print(id(str))\n",
    "str += \"Language\"\n",
    "print(str)\n",
    "print(id(str))"
   ]
  },
  {
   "cell_type": "code",
   "execution_count": 5,
   "id": "b54129ff",
   "metadata": {},
   "outputs": [
    {
     "name": "stdout",
     "output_type": "stream",
     "text": [
      "2689784709184\n",
      "2689784709184\n",
      "2689784686976\n"
     ]
    },
    {
     "ename": "AttributeError",
     "evalue": "'int' object has no attribute 'copy'",
     "output_type": "error",
     "traceback": [
      "\u001b[1;31m---------------------------------------------------------------------------\u001b[0m",
      "\u001b[1;31mAttributeError\u001b[0m                            Traceback (most recent call last)",
      "Input \u001b[1;32mIn [5]\u001b[0m, in \u001b[0;36m<cell line: 11>\u001b[1;34m()\u001b[0m\n\u001b[0;32m      8\u001b[0m \u001b[38;5;28mprint\u001b[39m(\u001b[38;5;28mid\u001b[39m(de))\n\u001b[0;32m     10\u001b[0m a \u001b[38;5;241m=\u001b[39m \u001b[38;5;241m1\u001b[39m\n\u001b[1;32m---> 11\u001b[0m b \u001b[38;5;241m=\u001b[39m \u001b[43ma\u001b[49m\u001b[38;5;241;43m.\u001b[39;49m\u001b[43mcopy\u001b[49m()\n\u001b[0;32m     13\u001b[0m de \u001b[38;5;241m=\u001b[39m num\u001b[38;5;241m.\u001b[39mcopy()\n\u001b[0;32m     14\u001b[0m \u001b[38;5;28mprint\u001b[39m(\u001b[38;5;28mid\u001b[39m(de))\n",
      "\u001b[1;31mAttributeError\u001b[0m: 'int' object has no attribute 'copy'"
     ]
    }
   ],
   "source": [
    "num = [\"hello\"]\n",
    "print(id(num))\n",
    "\n",
    "abc = num\n",
    "print(id(abc))\n",
    "\n",
    "de = num.copy()\n",
    "print(id(de))\n",
    "\n",
    "a = 1\n",
    "b = a.copy()\n",
    "\n",
    "de = num.copy()\n",
    "print(id(de))\n",
    "\n",
    "de = num.copy()\n",
    "print(id(de))"
   ]
  },
  {
   "cell_type": "code",
   "execution_count": 5,
   "id": "85cd4dc4",
   "metadata": {},
   "outputs": [
    {
     "name": "stdout",
     "output_type": "stream",
     "text": [
      "x =  10 \n",
      "\n",
      "Address of x 2696022878800\n",
      "Now x =  11 \n",
      "\n",
      "Address of x 2696022878832\n"
     ]
    }
   ],
   "source": [
    "# using the incrementing operator\n",
    "x = 10\n",
    "print(\"x = \" ,x, \"\\n\")\n",
    "print(\"Address of x\", id(x))\n",
    "x += 1\n",
    "print(\"Now x = \",x, \"\\n\")\n",
    "# print(x)\n",
    "# using the id() function to get the memory address\n",
    "print(\"Address of x\", id(x))"
   ]
  },
  {
   "cell_type": "code",
   "execution_count": 6,
   "id": "c145a99b",
   "metadata": {},
   "outputs": [
    {
     "name": "stdout",
     "output_type": "stream",
     "text": [
      "x =  10 \n",
      "\n",
      "y =  20 \n",
      "\n",
      "Address of x 2696022878800\n",
      "x = y + 3 \n",
      "\n",
      "Now x =  23 \n",
      "\n",
      "Address of x 2696022879216\n"
     ]
    }
   ],
   "source": [
    "# Addition Operator: It performs the addition of two operands\n",
    "\n",
    "#using the addition operator\n",
    "#using the addition operator\n",
    "x = 10\n",
    "y = 20\n",
    "print(\"x = \" ,x, \"\\n\")\n",
    "print(\"y = \" ,y, \"\\n\")\n",
    "print(\"Address of x\", id(x))\n",
    "x = y + 3\n",
    "print(\"x = y + 3 \\n\")\n",
    "print(\"Now x = \",x, \"\\n\")\n",
    "# using the id() function to get the memory address\n",
    "print(\"Address of x\", id(x))"
   ]
  },
  {
   "cell_type": "code",
   "execution_count": 7,
   "id": "4c99e1be",
   "metadata": {},
   "outputs": [
    {
     "name": "stdout",
     "output_type": "stream",
     "text": [
      "x = 100\n",
      "address of x 2696023070160\n",
      "y = 100\n",
      "address of y  2696023070160\n"
     ]
    }
   ],
   "source": [
    "# the same memory address as that of x\n",
    "\n",
    "x = 100\n",
    "print(\"x =\", x)\n",
    "print(\"address of x\", id(x))\n",
    "y = x\n",
    "print(\"y =\", y)\n",
    "print(\"address of y \", id(y))"
   ]
  },
  {
   "cell_type": "code",
   "execution_count": 8,
   "id": "0998aeab",
   "metadata": {},
   "outputs": [
    {
     "name": "stdout",
     "output_type": "stream",
     "text": [
      "True\n",
      "False\n"
     ]
    }
   ],
   "source": [
    "x = 100\n",
    "y = x\n",
    "print(y is x)\n",
    "y = y + 1\n",
    "print(y is x)"
   ]
  },
  {
   "cell_type": "code",
   "execution_count": 11,
   "id": "e18c8fea",
   "metadata": {},
   "outputs": [
    {
     "name": "stdout",
     "output_type": "stream",
     "text": [
      "101 102 103 104\n"
     ]
    }
   ],
   "source": [
    "# Pointers to Pointers\n",
    "\n",
    "def fun(a, b, c, d):\n",
    "    print(a,b,c,d)\n",
    "x = (101, 102, 103, 104)\n",
    "fun(*x)"
   ]
  },
  {
   "cell_type": "code",
   "execution_count": 12,
   "id": "21e1cf0b",
   "metadata": {},
   "outputs": [
    {
     "name": "stdout",
     "output_type": "stream",
     "text": [
      "I like python programming\n"
     ]
    }
   ],
   "source": [
    "def fun (a,b,c,d):\n",
    "    print(a,b,c,d)\n",
    "y = {'a':'I', 'b':'like','c':'python','d':'programming'}\n",
    "fun(**y)"
   ]
  },
  {
   "cell_type": "code",
   "execution_count": 13,
   "id": "65806016",
   "metadata": {},
   "outputs": [
    {
     "name": "stdout",
     "output_type": "stream",
     "text": [
      "100\n",
      "200\n",
      "300\n",
      "400\n",
      "I\n",
      "like\n",
      "python\n",
      "programming\n"
     ]
    }
   ],
   "source": [
    "def fun (a,b,c,d):\n",
    "    print(a)\n",
    "    print(b)\n",
    "    print(c)\n",
    "    print(d)\n",
    "x = (100,200,300,400)\n",
    "fun(*x)\n",
    "y = {'a':'I', 'b':'like','c':'python','d':'programming'}\n",
    "fun(**y)"
   ]
  },
  {
   "cell_type": "code",
   "execution_count": null,
   "id": "f15821ce",
   "metadata": {},
   "outputs": [],
   "source": []
  }
 ],
 "metadata": {
  "kernelspec": {
   "display_name": "Python 3 (ipykernel)",
   "language": "python",
   "name": "python3"
  },
  "language_info": {
   "codemirror_mode": {
    "name": "ipython",
    "version": 3
   },
   "file_extension": ".py",
   "mimetype": "text/x-python",
   "name": "python",
   "nbconvert_exporter": "python",
   "pygments_lexer": "ipython3",
   "version": "3.9.12"
  }
 },
 "nbformat": 4,
 "nbformat_minor": 5
}
