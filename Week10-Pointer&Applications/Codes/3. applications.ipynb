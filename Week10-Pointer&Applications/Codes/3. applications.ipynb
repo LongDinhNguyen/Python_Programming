{
 "cells": [
  {
   "cell_type": "code",
   "execution_count": 2,
   "id": "62c6ee46",
   "metadata": {},
   "outputs": [],
   "source": [
    "import time\n",
    "import numpy"
   ]
  },
  {
   "cell_type": "code",
   "execution_count": 3,
   "id": "e5221f5b",
   "metadata": {},
   "outputs": [],
   "source": [
    "# This code is contributed by maheshwaripiyush9\n",
    "# Naive solution to find if there is a\n",
    "# pair in A[0..N-1] with given sum.\n",
    "def isPairSum(A, N, X):\n",
    "    for i in range(N):\n",
    "        for j in range(N):\n",
    "            if(i == j):    # as equal i and j means same element\n",
    "                continue\n",
    "            if (A[i] + A[j] == X):    # pair exists\n",
    "                return True\n",
    "            if (A[i] + A[j] > X):  # as the array is sorted\n",
    "                break         \n",
    "    return 0     # No pair found with given sum\n",
    "\n",
    "# Time Complexity: O(n2)"
   ]
  },
  {
   "cell_type": "code",
   "execution_count": 4,
   "id": "566ba7e8",
   "metadata": {},
   "outputs": [
    {
     "name": "stdout",
     "output_type": "stream",
     "text": [
      "5000000\n",
      "True\n",
      "0.00518345832824707\n"
     ]
    }
   ],
   "source": [
    "# example\n",
    "# arr = [3, 5, 9, 2, 8, 10, 11]\n",
    "arr = numpy.random.randint(10, size=(5000000))\n",
    "arr = numpy.array(arr)\n",
    "print(len(arr))\n",
    "val = 12\n",
    "\n",
    "start_time = time.time()\n",
    "print(isPairSum(arr, len(arr), val))\n",
    "\n",
    "print(time.time() - start_time)"
   ]
  },
  {
   "cell_type": "code",
   "execution_count": 5,
   "id": "afc46de3",
   "metadata": {},
   "outputs": [],
   "source": [
    "# This code is contributed by maheshwaripiyush9.\n",
    "# Two pointer technique based solution to find\n",
    "# if there is a pair in A[0..N-1] with a given sum.\n",
    "def isPairSum(A, N, X):   \n",
    "    i = 0        # represents first pointer\n",
    "    j = N - 1    # represents second pointer\n",
    "    while(i < j):\n",
    "        if (A[i] + A[j] == X):   # If we find a pair\n",
    "            return True\n",
    "        # If sum of elements at current pointers is less, we move towards higher values by doing i += 1\n",
    "        elif(A[i] + A[j] < X):\n",
    "            i += 1\n",
    "        # If sum of elements at current pointers is more, we move towards lower values by doing j -= 1\n",
    "        else:\n",
    "            j -= 1\n",
    "    return 0\n",
    "\n",
    "# Time Complexity:  O(n)"
   ]
  },
  {
   "cell_type": "code",
   "execution_count": 6,
   "id": "adb3e5c1",
   "metadata": {},
   "outputs": [
    {
     "name": "stdout",
     "output_type": "stream",
     "text": [
      "True\n",
      "0.0009958744049072266\n"
     ]
    }
   ],
   "source": [
    "# array declaration\n",
    "# arr = [3, 5, 9, 2, 8, 10, 11]\n",
    " \n",
    "# arr = numpy.random.randint(10, size=(3000000))\n",
    "# arr = numpy.array(arr)\n",
    "# print(len(arr))\n",
    "val = 12\n",
    "\n",
    "start_time = time.time()\n",
    "print(isPairSum(arr, len(arr), val))\n",
    "\n",
    "print(time.time() - start_time)"
   ]
  },
  {
   "cell_type": "code",
   "execution_count": 1,
   "id": "92b65de6",
   "metadata": {},
   "outputs": [
    {
     "name": "stdout",
     "output_type": "stream",
     "text": [
      "[50, 40, 30, 20, 10]\n"
     ]
    }
   ],
   "source": [
    "def reverseArray(array):\n",
    "    start, end = 0, len(array)-1\n",
    "    while start< end:\n",
    "        array[start], array[end] = array[end] , array[start]\n",
    "        start += 1\n",
    "        end -= 1\n",
    "  \n",
    "arr = [10, 20, 30, 40, 50]      \n",
    "reverseArray(arr)\n",
    "print(arr)"
   ]
  },
  {
   "cell_type": "code",
   "execution_count": null,
   "id": "eb34875b",
   "metadata": {},
   "outputs": [],
   "source": []
  }
 ],
 "metadata": {
  "kernelspec": {
   "display_name": "Python 3 (ipykernel)",
   "language": "python",
   "name": "python3"
  },
  "language_info": {
   "codemirror_mode": {
    "name": "ipython",
    "version": 3
   },
   "file_extension": ".py",
   "mimetype": "text/x-python",
   "name": "python",
   "nbconvert_exporter": "python",
   "pygments_lexer": "ipython3",
   "version": "3.9.12"
  }
 },
 "nbformat": 4,
 "nbformat_minor": 5
}
