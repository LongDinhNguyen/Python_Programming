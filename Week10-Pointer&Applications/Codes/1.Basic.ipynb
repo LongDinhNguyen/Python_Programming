{
 "cells": [
  {
   "cell_type": "code",
   "execution_count": 1,
   "id": "c62e9cfc",
   "metadata": {},
   "outputs": [
    {
     "name": "stdout",
     "output_type": "stream",
     "text": [
      "m = [9, 2, 3, 4]\n",
      "l = [9, 2, 3, 4]\n"
     ]
    }
   ],
   "source": [
    "#Assign\n",
    "l = [1,2,3,4]\n",
    "m = l\n",
    "#Modify only m\n",
    "m[0] = 9\n",
    "#changes reflected by both m and l\n",
    "print(\"m =\", m)\n",
    "print(\"l =\", l)"
   ]
  },
  {
   "cell_type": "code",
   "execution_count": 2,
   "id": "ddc28e90",
   "metadata": {},
   "outputs": [
    {
     "name": "stdout",
     "output_type": "stream",
     "text": [
      "True\n"
     ]
    }
   ],
   "source": [
    ">>> l = [1,2,3,4]\n",
    ">>> m = l\n",
    ">>> print(m is l)"
   ]
  },
  {
   "cell_type": "code",
   "execution_count": 4,
   "id": "4653db22",
   "metadata": {},
   "outputs": [
    {
     "data": {
      "text/plain": [
       "['string', 42]"
      ]
     },
     "execution_count": 4,
     "metadata": {},
     "output_type": "execute_result"
    }
   ],
   "source": [
    "a = [\"string\", 42]\n",
    "a"
   ]
  },
  {
   "cell_type": "code",
   "execution_count": 7,
   "id": "d5e55dca",
   "metadata": {},
   "outputs": [
    {
     "name": "stdout",
     "output_type": "stream",
     "text": [
      "['some words', 42]\n",
      "['some words', 42]\n"
     ]
    }
   ],
   "source": [
    "b = a\n",
    "b[0] = \"some words\"\n",
    "print(b)\n",
    "print(a)"
   ]
  },
  {
   "cell_type": "code",
   "execution_count": 8,
   "id": "b5c3a872",
   "metadata": {},
   "outputs": [
    {
     "name": "stdout",
     "output_type": "stream",
     "text": [
      "['hello!', 42]\n",
      "['some words', 42]\n"
     ]
    }
   ],
   "source": [
    "c = a.copy()\n",
    "c[0] = \"hello!\"\n",
    "print(c)\n",
    "print(a)"
   ]
  },
  {
   "cell_type": "code",
   "execution_count": null,
   "id": "2aa66865",
   "metadata": {},
   "outputs": [],
   "source": []
  }
 ],
 "metadata": {
  "kernelspec": {
   "display_name": "Python 3 (ipykernel)",
   "language": "python",
   "name": "python3"
  },
  "language_info": {
   "codemirror_mode": {
    "name": "ipython",
    "version": 3
   },
   "file_extension": ".py",
   "mimetype": "text/x-python",
   "name": "python",
   "nbconvert_exporter": "python",
   "pygments_lexer": "ipython3",
   "version": "3.9.12"
  }
 },
 "nbformat": 4,
 "nbformat_minor": 5
}
