{
 "cells": [
  {
   "cell_type": "code",
   "execution_count": 1,
   "id": "0c25e318",
   "metadata": {},
   "outputs": [
    {
     "name": "stdout",
     "output_type": "stream",
     "text": [
      "gcd( 10 , 15 ) =  5\n",
      "gcd( 35 , 10 ) =  5\n",
      "gcd( 31 , 2 ) =  1\n"
     ]
    }
   ],
   "source": [
    "# Python3 program to demonstrate Basic Euclidean Algorithm\n",
    "# Code Contributed By Mohit Gupta_OMG <(0_o)>\n",
    "\n",
    "# Function to return gcd of a and b\n",
    "def gcd(a, b):\n",
    "    if a == 0:\n",
    "        return b\n",
    "    return gcd(b % a, a)\n",
    " \n",
    "# Driver code\n",
    "if __name__ == \"__main__\":\n",
    "  a = 10\n",
    "  b = 15\n",
    "  print(\"gcd(\", a, \",\", b, \") = \", gcd(a, b))\n",
    " \n",
    "  a = 35\n",
    "  b = 10\n",
    "  print(\"gcd(\", a, \",\", b, \") = \", gcd(a, b))\n",
    " \n",
    "  a = 31\n",
    "  b = 2\n",
    "  print(\"gcd(\", a, \",\", b, \") = \", gcd(a, b))"
   ]
  },
  {
   "cell_type": "code",
   "execution_count": null,
   "id": "0bc171f7",
   "metadata": {},
   "outputs": [],
   "source": []
  }
 ],
 "metadata": {
  "kernelspec": {
   "display_name": "Python 3 (ipykernel)",
   "language": "python",
   "name": "python3"
  },
  "language_info": {
   "codemirror_mode": {
    "name": "ipython",
    "version": 3
   },
   "file_extension": ".py",
   "mimetype": "text/x-python",
   "name": "python",
   "nbconvert_exporter": "python",
   "pygments_lexer": "ipython3",
   "version": "3.9.12"
  }
 },
 "nbformat": 4,
 "nbformat_minor": 5
}
