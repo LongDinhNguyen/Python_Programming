{
 "cells": [
  {
   "cell_type": "code",
   "execution_count": 4,
   "id": "ba79baa7",
   "metadata": {},
   "outputs": [
    {
     "name": "stdout",
     "output_type": "stream",
     "text": [
      "x\t\t5/x\t\tMean\n",
      "2.000000\t2.500000\t2.250000\n",
      "2.250000\t2.222222\t2.236111\n",
      "2.236111\t2.236025\t2.236068\n",
      "2.236068\t2.236068\t2.236068\n",
      "2.236068\t2.236068\t2.236068\n",
      "The square root of 5 is close to 2.236068\n"
     ]
    }
   ],
   "source": [
    "def babylonian_algorithm(S, x):\n",
    "    print(f\"x\\t\\t{S}/x\\t\\tMean\")\n",
    "    for i in range(5):\n",
    "        estimate = S / x\n",
    "        mean = (x + estimate) / 2\n",
    "        print(f\"{x:f}\\t{estimate:f}\\t{mean:f}\")\n",
    "        x = mean\n",
    "    return x\n",
    "\n",
    "\n",
    "S = 5  # Number to find the square root of\n",
    "x = 2  # Initial guess\n",
    "print(f\"The square root of {S} is close to {round(babylonian_algorithm(S, x), 6)}\")"
   ]
  },
  {
   "cell_type": "code",
   "execution_count": 3,
   "id": "a8b9355d",
   "metadata": {},
   "outputs": [
    {
     "name": "stdout",
     "output_type": "stream",
     "text": [
      "x\t\t5/x\t\tMean\n",
      "2.333333\t1.666667\t2.333333\n",
      "2.238095\t2.142857\t2.238095\n",
      "2.236069\t2.234043\t2.236069\n",
      "\n",
      "The square root of 5 is close to 2.236069\n",
      "\n",
      "x\t\t64/x\t\tMean\n",
      "17.234615\t1.969231\t17.234615\n",
      "10.474036\t3.713457\t10.474036\n",
      "8.292192\t6.110347\t8.292192\n",
      "8.005148\t7.718104\t8.005148\n",
      "8.000002\t7.994855\t8.000002\n",
      "8.000000\t7.999998\t8.000000\n",
      "\n",
      "The square root of 64 is close to 8.000000\n"
     ]
    }
   ],
   "source": [
    "def babylonian_algorithm(S):\n",
    "    e = 0.00001\n",
    "    mean = (S + 1) / 2  # This is the first pass of the algorithm\n",
    "    print(f\"x\\t\\t{S}/x\\t\\tMean\")\n",
    "    while abs(mean ** 2 - S) > e:\n",
    "        estimate = S / mean\n",
    "        mean = (mean + estimate) / 2\n",
    "        print(f\"{mean:f}\\t{estimate:f}\\t{mean:f}\")\n",
    "    return mean\n",
    "\n",
    "\n",
    "S = 5  # Number to find the square root of\n",
    "print(f\"\\nThe square root of {S} is close to {babylonian_algorithm(S):f}\\n\")\n",
    "S = 64  # Number to find the square root of\n",
    "print(f\"\\nThe square root of {S} is close to {babylonian_algorithm(S):f}\")"
   ]
  },
  {
   "cell_type": "code",
   "execution_count": null,
   "id": "3e93f804",
   "metadata": {},
   "outputs": [],
   "source": []
  }
 ],
 "metadata": {
  "kernelspec": {
   "display_name": "Python 3 (ipykernel)",
   "language": "python",
   "name": "python3"
  },
  "language_info": {
   "codemirror_mode": {
    "name": "ipython",
    "version": 3
   },
   "file_extension": ".py",
   "mimetype": "text/x-python",
   "name": "python",
   "nbconvert_exporter": "python",
   "pygments_lexer": "ipython3",
   "version": "3.9.12"
  }
 },
 "nbformat": 4,
 "nbformat_minor": 5
}
