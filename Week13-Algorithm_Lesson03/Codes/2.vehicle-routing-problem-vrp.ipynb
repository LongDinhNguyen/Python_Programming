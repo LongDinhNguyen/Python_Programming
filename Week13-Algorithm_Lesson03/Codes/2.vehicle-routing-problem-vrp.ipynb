{
 "cells": [
  {
   "cell_type": "code",
   "execution_count": 1,
   "id": "9f35e271",
   "metadata": {},
   "outputs": [],
   "source": [
    "from typing import Dict, List\n",
    "import numpy as np"
   ]
  },
  {
   "cell_type": "code",
   "execution_count": 16,
   "id": "b16a9c58",
   "metadata": {},
   "outputs": [],
   "source": [
    "def shortest_path(graph: Dict[int, set], node1: int, node2: int) -> List[int]:\n",
    "     pass"
   ]
  },
  {
   "cell_type": "code",
   "execution_count": 17,
   "id": "8309655a",
   "metadata": {},
   "outputs": [],
   "source": [
    "def shortest_path(graph, node1, node2):\n",
    "    path_list = [[node1]]\n",
    "    path_index = 0\n",
    "    # To keep track of previously visited nodes\n",
    "    previous_nodes = {node1}\n",
    "    if node1 == node2:\n",
    "        return path_list[0]\n",
    "        \n",
    "    while path_index < len(path_list):\n",
    "        current_path = path_list[path_index]\n",
    "        last_node = current_path[-1]\n",
    "        next_nodes = graph[last_node]\n",
    "        # Search goal node\n",
    "        if node2 in next_nodes:\n",
    "            current_path.append(node2)\n",
    "            return current_path\n",
    "        # Add new paths\n",
    "        for next_node in next_nodes:\n",
    "            if not next_node in previous_nodes:\n",
    "                new_path = current_path[:]\n",
    "                new_path.append(next_node)\n",
    "                path_list.append(new_path)\n",
    "                # To avoid backtracking\n",
    "                previous_nodes.add(next_node)\n",
    "        # Continue to next path in list\n",
    "        path_index += 1\n",
    "    # No path is found\n",
    "    return []"
   ]
  },
  {
   "cell_type": "code",
   "execution_count": 23,
   "id": "5b22fee1",
   "metadata": {},
   "outputs": [
    {
     "data": {
      "text/plain": [
       "[1, 5, 8, 9]"
      ]
     },
     "execution_count": 23,
     "metadata": {},
     "output_type": "execute_result"
    }
   ],
   "source": [
    "# testbed 1\n",
    "graph = {}\n",
    "graph[1] = {2, 3, 5}\n",
    "graph[2] = {1, 3, 4}\n",
    "graph[3] = {1, 2, 4, 5}\n",
    "graph[4] = {3, 3, 5, 6, 7}\n",
    "graph[5] = {1, 3, 4, 6, 8}\n",
    "graph[6] = {4, 5, 7, 8}\n",
    "graph[7] = {4, 5, 8, 9}\n",
    "graph[8] = {5, 6, 7, 9}\n",
    "graph[9] = {7, 8}\n",
    "\n",
    "# find the shortest path from node A to node F\n",
    "shortest_path(graph, 1, 9)"
   ]
  },
  {
   "cell_type": "code",
   "execution_count": null,
   "id": "a7ab16d8",
   "metadata": {},
   "outputs": [],
   "source": []
  }
 ],
 "metadata": {
  "kernelspec": {
   "display_name": "Python 3 (ipykernel)",
   "language": "python",
   "name": "python3"
  },
  "language_info": {
   "codemirror_mode": {
    "name": "ipython",
    "version": 3
   },
   "file_extension": ".py",
   "mimetype": "text/x-python",
   "name": "python",
   "nbconvert_exporter": "python",
   "pygments_lexer": "ipython3",
   "version": "3.9.12"
  }
 },
 "nbformat": 4,
 "nbformat_minor": 5
}
