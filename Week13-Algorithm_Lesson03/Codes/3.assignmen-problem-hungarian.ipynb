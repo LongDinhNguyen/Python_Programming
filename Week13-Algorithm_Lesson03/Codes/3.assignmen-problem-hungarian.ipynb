{
 "cells": [
  {
   "cell_type": "code",
   "execution_count": 1,
   "id": "6336fece",
   "metadata": {},
   "outputs": [],
   "source": [
    "from typing import List, Tuple\n",
    "import itertools\n",
    "import numpy as np\n",
    "from scipy.optimize import linear_sum_assignment"
   ]
  },
  {
   "cell_type": "code",
   "execution_count": 2,
   "id": "a50ca44e",
   "metadata": {},
   "outputs": [],
   "source": [
    "def linear_sum_assignment_brute_force(\n",
    "        cost_matrix: np.ndarray,\n",
    "        maximize: bool = False) -> Tuple[List[int], List[int]]:\n",
    "\n",
    "    h = cost_matrix.shape[0]\n",
    "    w = cost_matrix.shape[1]\n",
    "\n",
    "    if maximize is True:\n",
    "        cost_matrix = -cost_matrix\n",
    "\n",
    "    minimum_cost = float(\"inf\")\n",
    "\n",
    "    if h >= w:\n",
    "        for i_idices in itertools.permutations(list(range(h)), min(h, w)):\n",
    "            row_ind = i_idices\n",
    "            col_ind = list(range(w))\n",
    "            cost = cost_matrix[row_ind, col_ind].sum()\n",
    "            if cost < minimum_cost:\n",
    "                minimum_cost = cost\n",
    "                optimal_row_ind = row_ind\n",
    "                optimal_col_ind = col_ind\n",
    "    if h < w:\n",
    "        for j_idices in itertools.permutations(list(range(w)), min(h, w)):\n",
    "            row_ind = list(range(h))\n",
    "            col_ind = j_idices\n",
    "            cost = cost_matrix[row_ind, col_ind].sum()\n",
    "            if cost < minimum_cost:\n",
    "                minimum_cost = cost\n",
    "                optimal_row_ind = row_ind\n",
    "                optimal_col_ind = col_ind\n",
    "\n",
    "    return optimal_row_ind, optimal_col_ind"
   ]
  },
  {
   "cell_type": "code",
   "execution_count": 5,
   "id": "0dee9b1e",
   "metadata": {},
   "outputs": [
    {
     "name": "stdout",
     "output_type": "stream",
     "text": [
      "The optimal assignment from brute force algorithm is: [(0, 0), (1, 1), (2, 2)].\n",
      "The minimum cost from brute force algorithm is: 418.\n"
     ]
    }
   ],
   "source": [
    "if __name__ == \"__main__\":\n",
    "\n",
    "    cost_matrix = np.array([[108, 125, 150], [150, 135, 175], [150, 135, 175]])\n",
    "\n",
    "    row_ind, col_ind = linear_sum_assignment_brute_force(\n",
    "        cost_matrix=cost_matrix, maximize=False)\n",
    "\n",
    "    minimum_cost = cost_matrix[row_ind, col_ind].sum()\n",
    "\n",
    "    print(f\"The optimal assignment from brute force algorithm is: {list(zip(row_ind, col_ind))}.\")\n",
    "    print(f\"The minimum cost from brute force algorithm is: {minimum_cost}.\")\n",
    "\n",
    "    row_ind, col_ind = linear_sum_assignment(cost_matrix=cost_matrix, maximize=False)\n",
    "\n",
    "#     minimum_cost = cost_matrix[row_ind, col_ind].sum()\n",
    "\n",
    "#     print(f\"The optimal assignment from Hungarian algorithm is: {list(zip(row_ind, col_ind))}.\")\n",
    "#     print(f\"The minimum cost from Hungarian algorithm is: {minimum_cost}.\")"
   ]
  },
  {
   "cell_type": "code",
   "execution_count": null,
   "id": "f95e5e02",
   "metadata": {},
   "outputs": [],
   "source": []
  }
 ],
 "metadata": {
  "kernelspec": {
   "display_name": "Python 3 (ipykernel)",
   "language": "python",
   "name": "python3"
  },
  "language_info": {
   "codemirror_mode": {
    "name": "ipython",
    "version": 3
   },
   "file_extension": ".py",
   "mimetype": "text/x-python",
   "name": "python",
   "nbconvert_exporter": "python",
   "pygments_lexer": "ipython3",
   "version": "3.9.12"
  }
 },
 "nbformat": 4,
 "nbformat_minor": 5
}
