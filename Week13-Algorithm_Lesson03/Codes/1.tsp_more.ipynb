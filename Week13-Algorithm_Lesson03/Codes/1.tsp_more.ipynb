{
 "cells": [
  {
   "cell_type": "code",
   "execution_count": 1,
   "id": "388ffaea",
   "metadata": {},
   "outputs": [
    {
     "name": "stdout",
     "output_type": "stream",
     "text": [
      "Collecting python-tsp\n",
      "  Downloading python_tsp-0.3.1-py3-none-any.whl (18 kB)\n",
      "Collecting requests<3.0.0,>=2.28.0\n",
      "  Using cached requests-2.28.1-py3-none-any.whl (62 kB)\n",
      "Requirement already satisfied: numpy in c:\\users\\dinhl\\anaconda3\\lib\\site-packages (from python-tsp) (1.21.5)\n",
      "Collecting tsplib95<0.8.0,>=0.7.1\n",
      "  Downloading tsplib95-0.7.1-py2.py3-none-any.whl (25 kB)\n",
      "Requirement already satisfied: urllib3<1.27,>=1.21.1 in c:\\users\\dinhl\\anaconda3\\lib\\site-packages (from requests<3.0.0,>=2.28.0->python-tsp) (1.26.9)\n",
      "Requirement already satisfied: charset-normalizer<3,>=2 in c:\\users\\dinhl\\anaconda3\\lib\\site-packages (from requests<3.0.0,>=2.28.0->python-tsp) (2.0.4)\n",
      "Requirement already satisfied: idna<4,>=2.5 in c:\\users\\dinhl\\anaconda3\\lib\\site-packages (from requests<3.0.0,>=2.28.0->python-tsp) (3.3)\n",
      "Requirement already satisfied: certifi>=2017.4.17 in c:\\users\\dinhl\\anaconda3\\lib\\site-packages (from requests<3.0.0,>=2.28.0->python-tsp) (2021.10.8)\n",
      "Requirement already satisfied: Click>=6.0 in c:\\users\\dinhl\\anaconda3\\lib\\site-packages (from tsplib95<0.8.0,>=0.7.1->python-tsp) (8.0.4)\n",
      "Collecting Deprecated~=1.2.9\n",
      "  Downloading Deprecated-1.2.13-py2.py3-none-any.whl (9.6 kB)\n",
      "Requirement already satisfied: networkx~=2.1 in c:\\users\\dinhl\\anaconda3\\lib\\site-packages (from tsplib95<0.8.0,>=0.7.1->python-tsp) (2.7.1)\n",
      "Requirement already satisfied: tabulate~=0.8.7 in c:\\users\\dinhl\\anaconda3\\lib\\site-packages (from tsplib95<0.8.0,>=0.7.1->python-tsp) (0.8.9)\n",
      "Requirement already satisfied: colorama in c:\\users\\dinhl\\anaconda3\\lib\\site-packages (from Click>=6.0->tsplib95<0.8.0,>=0.7.1->python-tsp) (0.4.4)\n",
      "Requirement already satisfied: wrapt<2,>=1.10 in c:\\users\\dinhl\\anaconda3\\lib\\site-packages (from Deprecated~=1.2.9->tsplib95<0.8.0,>=0.7.1->python-tsp) (1.12.1)\n",
      "Installing collected packages: Deprecated, tsplib95, requests, python-tsp\n",
      "  Attempting uninstall: requests\n",
      "    Found existing installation: requests 2.27.1\n",
      "    Uninstalling requests-2.27.1:\n",
      "      Successfully uninstalled requests-2.27.1\n",
      "Successfully installed Deprecated-1.2.13 python-tsp-0.3.1 requests-2.28.1 tsplib95-0.7.1\n",
      "Note: you may need to restart the kernel to use updated packages.\n"
     ]
    },
    {
     "name": "stderr",
     "output_type": "stream",
     "text": [
      "ERROR: pip's dependency resolver does not currently take into account all the packages that are installed. This behaviour is the source of the following dependency conflicts.\n",
      "conda-repo-cli 1.0.4 requires pathlib, which is not installed.\n",
      "anaconda-project 0.10.2 requires ruamel-yaml, which is not installed.\n"
     ]
    }
   ],
   "source": [
    "pip install python-tsp"
   ]
  },
  {
   "cell_type": "code",
   "execution_count": 3,
   "id": "5532115a",
   "metadata": {},
   "outputs": [],
   "source": [
    "import numpy as np\n",
    "from python_tsp.exact import solve_tsp_dynamic_programming"
   ]
  },
  {
   "cell_type": "code",
   "execution_count": 5,
   "id": "a0704648",
   "metadata": {},
   "outputs": [
    {
     "name": "stdout",
     "output_type": "stream",
     "text": [
      "[0, 1, 3, 2, 4]\n",
      "21\n"
     ]
    }
   ],
   "source": [
    "# example 1\n",
    "distance_matrix = np.array([\n",
    "    [0,  5, 4, 10, 4],\n",
    "    [5,  0, 8,  5, 8],\n",
    "    [4,  8, 0,  3, 1],\n",
    "    [10, 5, 3,  0, 3],\n",
    "    [7, 8, 5,  6, 2]\n",
    "])\n",
    "permutation, distance = solve_tsp_dynamic_programming(distance_matrix)\n",
    "print(permutation)\n",
    "print(distance)"
   ]
  },
  {
   "cell_type": "code",
   "execution_count": 8,
   "id": "5d18da7f",
   "metadata": {},
   "outputs": [
    {
     "name": "stdout",
     "output_type": "stream",
     "text": [
      "[0, 1, 3, 5, 6, 4, 2]\n",
      "63\n"
     ]
    }
   ],
   "source": [
    "# example 2: a, b, c, d, e, f, g\n",
    "distance_matrix = np.array([\n",
    "    [0,  12, 10, 100, 100, 100, 12],\n",
    "    [12,  0, 8, 12, 100, 100, 100],\n",
    "    [10,  8, 0, 11, 3, 100, 9],\n",
    "    [100,  12, 11, 0, 11, 10, 100],\n",
    "    [100,  100, 3, 11, 0, 6, 7],\n",
    "    [100,  100, 100, 10, 6, 0, 9],\n",
    "    [12,  100, 9, 100, 7, 9, 0]\n",
    "])\n",
    "permutation, distance = solve_tsp_dynamic_programming(distance_matrix)\n",
    "print(permutation)\n",
    "print(distance)"
   ]
  },
  {
   "cell_type": "code",
   "execution_count": null,
   "id": "3f1b8527",
   "metadata": {},
   "outputs": [],
   "source": [
    "distance_matrix = np.array([\n",
    "    [0,  12, 10, 0, 0, 0, 12],\n",
    "    [12,  0, 8, 12, 0, 0, 0],\n",
    "    [10,  8, 0, 11, 3, 0, 9],\n",
    "    [0,  12, 11, 0, 11, 10, 0],\n",
    "    [0,  0, 3, 11, 0, 6, 7],\n",
    "    [0,  0, 0, 10, 6, 0, 9],\n",
    "    [12,  0, 9, 0, 7, 9, 0]\n",
    "])"
   ]
  }
 ],
 "metadata": {
  "kernelspec": {
   "display_name": "Python 3 (ipykernel)",
   "language": "python",
   "name": "python3"
  },
  "language_info": {
   "codemirror_mode": {
    "name": "ipython",
    "version": 3
   },
   "file_extension": ".py",
   "mimetype": "text/x-python",
   "name": "python",
   "nbconvert_exporter": "python",
   "pygments_lexer": "ipython3",
   "version": "3.9.12"
  }
 },
 "nbformat": 4,
 "nbformat_minor": 5
}
