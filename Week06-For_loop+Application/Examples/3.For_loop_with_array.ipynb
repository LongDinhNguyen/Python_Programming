{
 "cells": [
  {
   "cell_type": "code",
   "execution_count": null,
   "id": "9fe1827c",
   "metadata": {},
   "outputs": [],
   "source": [
    "import numpy as np\n",
    "arr1 = np.array([2, 1, 4])\n",
    "\n",
    "for x in arr1:\n",
    "    print(x)"
   ]
  },
  {
   "cell_type": "code",
   "execution_count": null,
   "id": "f4b853fd",
   "metadata": {},
   "outputs": [],
   "source": [
    "import numpy as np\n",
    "arr1 = np.array([[2, 1, 4],[2, 4, 6]])\n",
    "arr2 = np.array([[8, 16, 44],[22, 40, 16]])\n",
    "arr3 = np.array([[7, 14, 21],[0, 4, 7]])\n",
    "\n",
    "for x in arr1,arr2, arr3:\n",
    "    print(x)"
   ]
  },
  {
   "cell_type": "code",
   "execution_count": null,
   "id": "6096a9b0",
   "metadata": {},
   "outputs": [],
   "source": [
    "import numpy as np\n",
    "arr1 = np.array([[8, 16, 44],[22, 40, 16]])\n",
    "\n",
    "for x in arr1:\n",
    "for y in x:\n",
    "print(y)"
   ]
  },
  {
   "cell_type": "code",
   "execution_count": null,
   "id": "2b242948",
   "metadata": {},
   "outputs": [],
   "source": [
    "import numpy as np\n",
    "arr = np.array([[[8, 16, 44], [0, 4, 7]], [[22, 40, 16], [7, 14, 21]]])\n",
    "for x in arr:\n",
    "for y in x:\n",
    "for z in y:\n",
    "print(z)"
   ]
  },
  {
   "cell_type": "code",
   "execution_count": null,
   "id": "d0609b56",
   "metadata": {},
   "outputs": [],
   "source": [
    "import numpy as np\n",
    "arr = np.array([[[4, 3], [1, 4]], [[7, 6], [3, 2]]])\n",
    "\n",
    "for x in np.nditer(arr):\n",
    "    print(x)"
   ]
  },
  {
   "cell_type": "code",
   "execution_count": null,
   "id": "9ef3e36d",
   "metadata": {},
   "outputs": [],
   "source": [
    "# For loop with array\n",
    "import numpy as np\n",
    "np.random.seed(0)  # seed for reproducibility\n",
    "x = np.random.randint(10, size=6)\n",
    "y = np.random.randint(10, size=6)\n",
    "\n",
    "for val in x:\n",
    "    print(val)"
   ]
  },
  {
   "cell_type": "code",
   "execution_count": null,
   "id": "864a79a5",
   "metadata": {},
   "outputs": [],
   "source": [
    "# creating our 2-dimensional array\n",
    "z = np.array([x, y])\n",
    "\n",
    "for val in z:\n",
    "    print(val)"
   ]
  },
  {
   "cell_type": "code",
   "execution_count": null,
   "id": "ebac1dab",
   "metadata": {},
   "outputs": [],
   "source": [
    "for val in np.nditer(z):\n",
    "    print(val)"
   ]
  },
  {
   "cell_type": "code",
   "execution_count": 89,
   "id": "01a39ce8",
   "metadata": {},
   "outputs": [],
   "source": [
    "import pandas as pd\n",
    "import pandas as pd\n",
    "import matplotlib.pyplot as plt"
   ]
  },
  {
   "cell_type": "code",
   "execution_count": 90,
   "id": "062b33de",
   "metadata": {},
   "outputs": [
    {
     "name": "stdout",
     "output_type": "stream",
     "text": [
      "Capital\n",
      "GDP ($US Trillion)\n",
      "Population\n"
     ]
    }
   ],
   "source": [
    "df = pd.read_csv('gdp.csv')\n",
    "Country_list = df[['Country']]\n",
    "df.set_index('Country', inplace=True)\n",
    "\n",
    "df = pd.read_csv('gdp.csv', index_col=0)\n",
    "\n",
    "for val in df:\n",
    "    print(val)"
   ]
  },
  {
   "cell_type": "code",
   "execution_count": 91,
   "id": "5aa373f6",
   "metadata": {},
   "outputs": [
    {
     "name": "stdout",
     "output_type": "stream",
     "text": [
      "Ireland\n",
      "Capital                Dublin\n",
      "GDP ($US Trillion)     0.3337\n",
      "Population            4784000\n",
      "Name: Ireland, dtype: object\n",
      "United Kingdom\n",
      "Capital                 London\n",
      "GDP ($US Trillion)       2.622\n",
      "Population            66040000\n",
      "Name: United Kingdom, dtype: object\n",
      "United States\n",
      "Capital               Washington, D.C.\n",
      "GDP ($US Trillion)               19.39\n",
      "Population                   327200000\n",
      "Name: United States, dtype: object\n",
      "China\n",
      "Capital                  Beijing\n",
      "GDP ($US Trillion)         12.24\n",
      "Population            1386000000\n",
      "Name: China, dtype: object\n",
      "India\n",
      "Capital                New Delhi\n",
      "GDP ($US Trillion)         2.597\n",
      "Population            1339000000\n",
      "Name: India, dtype: object\n",
      "Germany\n",
      "Capital                 Berlin\n",
      "GDP ($US Trillion)       3.677\n",
      "Population            82790000\n",
      "Name: Germany, dtype: object\n"
     ]
    }
   ],
   "source": [
    "# df.astype({'Country':'str'}).dtypes\n",
    "# df.astype({'Capital':'str'}).dtypes\n",
    "\n",
    "for label, row in df.iterrows():\n",
    "    print(label)\n",
    "    print(row)\n",
    "#     print(type(label))\n",
    "#     print(type(row))"
   ]
  },
  {
   "cell_type": "code",
   "execution_count": 92,
   "id": "f3108c02",
   "metadata": {},
   "outputs": [
    {
     "name": "stdout",
     "output_type": "stream",
     "text": [
      "Ireland : Dublin\n",
      "United Kingdom : London\n",
      "United States : Washington, D.C.\n",
      "China : Beijing\n",
      "India : New Delhi\n",
      "Germany : Berlin\n"
     ]
    }
   ],
   "source": [
    "for label, row in df.iterrows():\n",
    "    print(label + \" : \" + row['Capital'])"
   ]
  },
  {
   "cell_type": "code",
   "execution_count": 93,
   "id": "3f673c47",
   "metadata": {},
   "outputs": [
    {
     "name": "stdout",
     "output_type": "stream",
     "text": [
      "                         Capital  GDP ($US Trillion)  Population   gdp_per_cap\n",
      "Country                                                                       \n",
      "Ireland                   Dublin              0.3337     4784000  69753.344482\n",
      "United Kingdom            London              2.6220    66040000  39703.210176\n",
      "United States   Washington, D.C.             19.3900   327200000  59260.391198\n",
      "China                    Beijing             12.2400  1386000000   8831.168831\n",
      "India                  New Delhi              2.5970  1339000000   1939.507095\n",
      "Germany                   Berlin              3.6770    82790000  44413.576519\n"
     ]
    }
   ],
   "source": [
    "for label, row in df.iterrows():\n",
    "    df.loc[label,'gdp_per_cap'] = row['GDP ($US Trillion)']/row['Population'] * 1000000000000\n",
    "print(df)"
   ]
  },
  {
   "cell_type": "code",
   "execution_count": 95,
   "id": "de522fcf",
   "metadata": {},
   "outputs": [
    {
     "data": {
      "text/plain": [
       "Text(0, 0.5, 'GDP')"
      ]
     },
     "execution_count": 95,
     "metadata": {},
     "output_type": "execute_result"
    },
    {
     "data": {
      "text/plain": [
       "<Figure size 800x480 with 0 Axes>"
      ]
     },
     "metadata": {},
     "output_type": "display_data"
    },
    {
     "data": {
      "image/png": "[encoded data removed]",
      "text/plain": [
       "<Figure size 800x480 with 1 Axes>"
      ]
     },
     "metadata": {
      "needs_background": "light"
     },
     "output_type": "display_data"
    }
   ],
   "source": [
    "# Capital = df[['Capital']]\n",
    "# GDP_value = df.GDP.values\n",
    "\n",
    "colors = {'setosa':'r', 'versicolor':'g', 'virginica':'b'}\n",
    "# create a figure and axis\n",
    "fig, ax = plt.subplots(figsize=(10, 6), dpi=80)\n",
    "\n",
    "# plot each data-point\n",
    "for i in range(len(Country_list)):\n",
    "    ax.scatter(df.index[i], df['GDP ($US Trillion)'][i])\n",
    "\n",
    "# set a title and labels\n",
    "ax.set_title('GDP ($US Trillion)')\n",
    "ax.set_xlabel('Country')\n",
    "ax.set_ylabel('GDP')"
   ]
  },
  {
   "cell_type": "code",
   "execution_count": 98,
   "id": "434c6228",
   "metadata": {},
   "outputs": [
    {
     "data": {
      "image/png": "[encoded data removed]",
      "text/plain": [
       "<Figure size 800x480 with 1 Axes>"
      ]
     },
     "metadata": {
      "needs_background": "light"
     },
     "output_type": "display_data"
    }
   ],
   "source": [
    "fig = plt.figure(figsize=(10, 6), dpi=80)\n",
    " \n",
    "# creating the bar plot\n",
    "plt.bar(df.index, df['gdp_per_cap'], color ='maroon', width = 0.4)\n",
    " \n",
    "plt.xlabel(\"Country\")\n",
    "plt.ylabel(\"gdp/person\")\n",
    "plt.title(\"gdp_per_cap\")\n",
    "plt.show()"
   ]
  },
  {
   "cell_type": "code",
   "execution_count": 129,
   "id": "c8030450",
   "metadata": {},
   "outputs": [
    {
     "data": {
      "image/png": "[encoded data removed]",
      "text/plain": [
       "<Figure size 800x480 with 1 Axes>"
      ]
     },
     "metadata": {
      "needs_background": "light"
     },
     "output_type": "display_data"
    }
   ],
   "source": [
    "# Figure Size\n",
    "fig, ax = plt.subplots(figsize=(10, 6), dpi=80)\n",
    " \n",
    "# Horizontal Bar Plot\n",
    "plt.barh(df.index, df['gdp_per_cap'], color ='blue')\n",
    "# Remove axes splines\n",
    "# for s in ['top', 'bottom', 'left', 'right']: \n",
    "#     ax.spines[s].set_visible(False)\n",
    "\n",
    "# Add x, y gridlines\n",
    "ax.grid(visible = True, color ='blue', linestyle ='-.', linewidth = 0.5, alpha = 0.2)\n",
    "\n",
    "# Show top values and Add Plot Title\n",
    "ax.invert_yaxis()\n",
    "ax.set_title('gdp_per_cap', loc ='left', )\n",
    "\n",
    "# Add annotation to bars\n",
    "for i in ax.patches:\n",
    "    plt.text(i.get_width()+0.5, i.get_y()+0.5, str(round((i.get_width()), 2)),\n",
    "             fontsize = 10, fontweight ='bold', color ='grey')\n",
    "\n",
    "plt.show()"
   ]
  },
  {
   "cell_type": "code",
   "execution_count": null,
   "id": "3af2cdb8",
   "metadata": {},
   "outputs": [],
   "source": []
  }
 ],
 "metadata": {
  "kernelspec": {
   "display_name": "Python 3 (ipykernel)",
   "language": "python",
   "name": "python3"
  },
  "language_info": {
   "codemirror_mode": {
    "name": "ipython",
    "version": 3
   },
   "file_extension": ".py",
   "mimetype": "text/x-python",
   "name": "python",
   "nbconvert_exporter": "python",
   "pygments_lexer": "ipython3",
   "version": "3.9.12"
  }
 },
 "nbformat": 4,
 "nbformat_minor": 5
}
