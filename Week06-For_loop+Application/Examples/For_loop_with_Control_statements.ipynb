{
 "cells": [
  {
   "cell_type": "code",
   "execution_count": null,
   "id": "8aea04bc",
   "metadata": {},
   "outputs": [],
   "source": [
    "# Break statement with for loop\n",
    "nums = [1, 2, 3, 4, 5, 6]\n",
    "n = 4\n",
    "found = False\n",
    "for num in nums:\n",
    "    if n == num:\n",
    "        found = True\n",
    "        break\n",
    "print(f'List contains {n}: {found}')"
   ]
  },
  {
   "cell_type": "code",
   "execution_count": null,
   "id": "2f409a09",
   "metadata": {},
   "outputs": [],
   "source": [
    "# Continue statement with for loop\n",
    "nums = [1, 2, -3, 4, -5, 6]\n",
    "sum_positives = 0\n",
    "\n",
    "for num in nums:\n",
    "    if num < 0:\n",
    "        continue\n",
    "    sum_positives += num\n",
    "print(f'Sum of Positive Numbers: {sum_positives}')"
   ]
  },
  {
   "cell_type": "code",
   "execution_count": null,
   "id": "2e6a6562",
   "metadata": {},
   "outputs": [],
   "source": [
    "# Pass Statement in Python\n",
    "# An empty loop\n",
    "for letter in 'geeksforgeeks':\n",
    "    pass\n",
    "print('Last Letter :', letter)"
   ]
  },
  {
   "cell_type": "code",
   "execution_count": null,
   "id": "8130857f",
   "metadata": {},
   "outputs": [],
   "source": []
  }
 ],
 "metadata": {
  "kernelspec": {
   "display_name": "Python 3 (ipykernel)",
   "language": "python",
   "name": "python3"
  },
  "language_info": {
   "codemirror_mode": {
    "name": "ipython",
    "version": 3
   },
   "file_extension": ".py",
   "mimetype": "text/x-python",
   "name": "python",
   "nbconvert_exporter": "python",
   "pygments_lexer": "ipython3",
   "version": "3.9.12"
  }
 },
 "nbformat": 4,
 "nbformat_minor": 5
}
