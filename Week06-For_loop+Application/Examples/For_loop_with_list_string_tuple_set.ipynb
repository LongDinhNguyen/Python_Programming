{
 "cells": [
  {
   "cell_type": "code",
   "execution_count": null,
   "id": "fd695004",
   "metadata": {},
   "outputs": [],
   "source": [
    "# lists\n",
    "words= [\"Apple\", \"Banana\", \"Car\", \"Dolphin\" ]\n",
    "for word in words:\n",
    "    print (word)"
   ]
  },
  {
   "cell_type": "code",
   "execution_count": null,
   "id": "a26a1d9d",
   "metadata": {},
   "outputs": [],
   "source": [
    "# tuples\n",
    "nums = (1, 2, 3, 4)\n",
    "sum_nums = 0\n",
    "\n",
    "for num in nums:\n",
    "    sum_nums = sum_nums + num\n",
    "print(f'Sum of numbers is {sum_nums}')"
   ]
  },
  {
   "cell_type": "code",
   "execution_count": null,
   "id": "7db0d157",
   "metadata": {},
   "outputs": [],
   "source": [
    "# strings\n",
    "word=\"anaconda\"\n",
    "for letter in word:\n",
    "    print (letter)"
   ]
  },
  {
   "cell_type": "code",
   "execution_count": null,
   "id": "2a41cf49",
   "metadata": {},
   "outputs": [],
   "source": [
    "# dictionary\n",
    "print(\"Dictionary Iteration\")\n",
    "d = dict()\n",
    "d['xyz'] = 123\n",
    "d['abc'] = 345\n",
    "for i in d:\n",
    "    print(\"% s % d\" % (i, d[i]))"
   ]
  },
  {
   "cell_type": "code",
   "execution_count": null,
   "id": "2eba2288",
   "metadata": {},
   "outputs": [],
   "source": [
    "myset = {'python', 'programming', 'examples'}\n",
    "\n",
    "for x in myset:\n",
    "    print(x)"
   ]
  },
  {
   "cell_type": "code",
   "execution_count": null,
   "id": "07ce5095",
   "metadata": {},
   "outputs": [],
   "source": []
  }
 ],
 "metadata": {
  "kernelspec": {
   "display_name": "Python 3 (ipykernel)",
   "language": "python",
   "name": "python3"
  },
  "language_info": {
   "codemirror_mode": {
    "name": "ipython",
    "version": 3
   },
   "file_extension": ".py",
   "mimetype": "text/x-python",
   "name": "python",
   "nbconvert_exporter": "python",
   "pygments_lexer": "ipython3",
   "version": "3.9.12"
  }
 },
 "nbformat": 4,
 "nbformat_minor": 5
}
