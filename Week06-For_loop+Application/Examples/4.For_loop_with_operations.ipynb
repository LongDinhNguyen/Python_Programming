{
 "cells": [
  {
   "cell_type": "code",
   "execution_count": null,
   "id": "e66cfa7f",
   "metadata": {},
   "outputs": [],
   "source": [
    "# Nesting Python for loops\n",
    "words= [\"Apple\", \"Banana\", \"Car\", \"Dolphin\" ]\n",
    "for word in words:\n",
    "        #This loop is fetching word from the list\n",
    "        print (\"The following lines will print each letters of \"+word)\n",
    "        for letter in word:\n",
    "                print (letter) #This loop is fetching letter for the word\n",
    "        print(\"\") #This print is used to print a blank line"
   ]
  },
  {
   "cell_type": "code",
   "execution_count": null,
   "id": "07fc8329",
   "metadata": {},
   "outputs": [],
   "source": [
    "def print_sum_even_nums(even_nums):\n",
    "    total = 0\n",
    "\n",
    "    for x in even_nums:\n",
    "        if x % 2 != 0:\n",
    "            print(\"This array is not even nums\")\n",
    "            break           \n",
    "        total += x\n",
    "    else:\n",
    "        print(\"For loop executed normally\")\n",
    "        print(f'Sum of numbers {total}')"
   ]
  },
  {
   "cell_type": "code",
   "execution_count": null,
   "id": "d0a709f2",
   "metadata": {},
   "outputs": [],
   "source": [
    "# this will print the sum\n",
    "print_sum_even_nums([2, 4, 6, 8])"
   ]
  },
  {
   "cell_type": "code",
   "execution_count": null,
   "id": "47fa16ba",
   "metadata": {},
   "outputs": [],
   "source": [
    "# this won't print the sum because of an odd number in the sequence\n",
    "print_sum_even_nums([2, 4, 5, 8])"
   ]
  },
  {
   "cell_type": "code",
   "execution_count": null,
   "id": "79027c5b",
   "metadata": {},
   "outputs": [],
   "source": [
    "# range() function\n",
    "for x in range(3):\n",
    "    print(\"Printing:\", x)"
   ]
  },
  {
   "cell_type": "code",
   "execution_count": null,
   "id": "1d53530f",
   "metadata": {},
   "outputs": [],
   "source": [
    "for n in range(1, 10, 3):\n",
    "    print(\"Printing with step:\", n)"
   ]
  },
  {
   "cell_type": "code",
   "execution_count": null,
   "id": "a0fdb814",
   "metadata": {},
   "outputs": [],
   "source": [
    "# printing a number\n",
    "for i in range(10):\n",
    "    print(i, end=\" \")"
   ]
  },
  {
   "cell_type": "code",
   "execution_count": null,
   "id": "6a2a2d11",
   "metadata": {},
   "outputs": [],
   "source": [
    "# performing sum of first 10 numbers\n",
    "sum = 0\n",
    "for i in range(1, 10):\n",
    "    sum = sum + i\n",
    "print(\"\\nSum of first 10 numbers :\", sum)"
   ]
  },
  {
   "cell_type": "code",
   "execution_count": null,
   "id": "ba91b57a",
   "metadata": {},
   "outputs": [],
   "source": [
    "for x in range(6):\n",
    "    if x == 3:\n",
    "        print(\"Finished!\")\n",
    "        break\n",
    "    else:\n",
    "        print(\"Num:\", x)"
   ]
  },
  {
   "cell_type": "code",
   "execution_count": null,
   "id": "0f81312e",
   "metadata": {},
   "outputs": [],
   "source": []
  }
 ],
 "metadata": {
  "kernelspec": {
   "display_name": "Python 3 (ipykernel)",
   "language": "python",
   "name": "python3"
  },
  "language_info": {
   "codemirror_mode": {
    "name": "ipython",
    "version": 3
   },
   "file_extension": ".py",
   "mimetype": "text/x-python",
   "name": "python",
   "nbconvert_exporter": "python",
   "pygments_lexer": "ipython3",
   "version": "3.9.12"
  }
 },
 "nbformat": 4,
 "nbformat_minor": 5
}
