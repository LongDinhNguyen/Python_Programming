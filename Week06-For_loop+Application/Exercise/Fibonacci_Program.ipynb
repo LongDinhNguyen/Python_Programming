{
 "cells": [
  {
   "cell_type": "code",
   "execution_count": 25,
   "id": "c53c3b92",
   "metadata": {},
   "outputs": [],
   "source": [
    "import time\n",
    "import numpy\n",
    "import matplotlib.pyplot as plt"
   ]
  },
  {
   "cell_type": "code",
   "execution_count": 26,
   "id": "39605de2",
   "metadata": {},
   "outputs": [
    {
     "name": "stdout",
     "output_type": "stream",
     "text": [
      "Ban dang su dung chuong trinh hien thi chuoi Fibonacci.\n",
      "Neu ban muon vao chuong trinh, vui long nhap ma: {DH21HM}DH21HM\n",
      "Number of elements in Fibonacci Series, N, (N>=2) : 13\n",
      "[0, 1, 1, 2, 3, 5, 8, 13, 21, 34, 55, 89, 144]\n",
      "Chuoi Fibonacci se ton tai trong 3s!\n",
      "Neu ban muon ket thuc, vui long nhap ma: {Fibonacci}Fibonacci\n"
     ]
    }
   ],
   "source": [
    "def my_program():\n",
    "    count_flag = 0\n",
    "    while 3>1:\n",
    "        print(\"Ban dang su dung chuong trinh hien thi chuoi Fibonacci.\")\n",
    "        keywork = input(\"Neu ban muon vao chuong trinh, vui long nhap ma: {DH21HM}\")\n",
    "        \n",
    "        # thuc hien Fibonacci_series function\n",
    "        if keywork == \"DH21HM\":\n",
    "            N_size = int(input(\"Number of elements in Fibonacci Series, N, (N>=2) : \"))\n",
    "            Fibonacci_series(N_size)\n",
    "            \n",
    "            print(\"Chuoi Fibonacci se ton tai trong 3s!\")\n",
    "            time.sleep(3)\n",
    "            keywork_1 = input(\"Neu ban muon ket thuc, vui long nhap ma: {Fibonacci}\")\n",
    "            if keywork_1 == \"Fibonacci\":\n",
    "                break\n",
    "            else:\n",
    "                pass\n",
    "        else:\n",
    "            count_flag = count_flag + 1\n",
    "            if count_flag >= 4:\n",
    "                print(\"Ban nhap sai mat ma 3 lan. Ket thuc chuong trinh!\")\n",
    "                break\n",
    "                \n",
    "            print(\"Ban nhap sai mat ma. Lan: \", count_flag)\n",
    "            print(\"Vui long thu lai!\")\n",
    "        \n",
    "# initialize the list with starting elements: 0, 1\n",
    "Fibonacci_Series = [0,1]\n",
    "def Fibonacci_series(N_size):\n",
    "    if N_size > 2:\n",
    "        for i in range(2, N_size):\n",
    "        # next elment in series = sum of its previous two numbers\n",
    "            nextElement = Fibonacci_Series[i-1] + Fibonacci_Series[i-2]\n",
    "            Fibonacci_Series.append(nextElement)\n",
    "    print(Fibonacci_Series)\n",
    "\n",
    "    \n",
    "my_program()"
   ]
  },
  {
   "cell_type": "code",
   "execution_count": 28,
   "id": "5f5b1d05",
   "metadata": {},
   "outputs": [
    {
     "data": {
      "image/png": "[encoded data removed]",
      "text/plain": [
       "<Figure size 800x480 with 1 Axes>"
      ]
     },
     "metadata": {
      "needs_background": "light"
     },
     "output_type": "display_data"
    }
   ],
   "source": [
    "# create a figure and axis\n",
    "fig, ax = plt.subplots(figsize=(10, 6), dpi=80)\n",
    "\n",
    "index_Fibo = []\n",
    "for i in range(len(Fibonacci_Series)):\n",
    "    index_Fibo.append(i)\n",
    "\n",
    "# plot each data-point\n",
    "for i in range(len(Fibonacci_Series)):\n",
    "    ax.scatter(index_Fibo[i], Fibonacci_Series[i])\n",
    "    \n",
    "# set a title and labels\n",
    "ax.set_title('Fibonacci Series')\n",
    "ax.set_xlabel('Fibonacci index')\n",
    "ax.set_ylabel('Values')\n",
    "\n",
    "plt.plot(range(len(index_Fibo)), Fibonacci_Series, 'bo') # Plotting data\n",
    "plt.xticks(range(len(index_Fibo)), index_Fibo) # Redefining x-axis labels\n",
    "\n",
    "for i, v in enumerate(Fibonacci_Series):\n",
    "#     plt.text(i.get_width()+0.5, i.get_y()+0.5, str(round((i.get_width()), 2)),\n",
    "#              fontsize = 10, fontweight ='bold', color ='grey')\n",
    "    ax.annotate(str(v), xy=(i,v), xytext=(-7,7), textcoords='offset points')\n",
    "    \n",
    "plt.show()"
   ]
  },
  {
   "cell_type": "code",
   "execution_count": null,
   "id": "163ff685",
   "metadata": {},
   "outputs": [],
   "source": []
  }
 ],
 "metadata": {
  "kernelspec": {
   "display_name": "Python 3 (ipykernel)",
   "language": "python",
   "name": "python3"
  },
  "language_info": {
   "codemirror_mode": {
    "name": "ipython",
    "version": 3
   },
   "file_extension": ".py",
   "mimetype": "text/x-python",
   "name": "python",
   "nbconvert_exporter": "python",
   "pygments_lexer": "ipython3",
   "version": "3.9.12"
  }
 },
 "nbformat": 4,
 "nbformat_minor": 5
}
