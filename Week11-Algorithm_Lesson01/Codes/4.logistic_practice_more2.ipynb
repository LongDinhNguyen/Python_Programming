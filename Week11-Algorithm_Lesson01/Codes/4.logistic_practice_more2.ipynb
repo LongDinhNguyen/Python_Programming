{
 "cells": [
  {
   "cell_type": "code",
   "execution_count": 2,
   "id": "9df1b173",
   "metadata": {},
   "outputs": [],
   "source": [
    "import numpy as np\n",
    "import cvxpy as cp"
   ]
  },
  {
   "cell_type": "code",
   "execution_count": 3,
   "id": "7a8bcc76",
   "metadata": {},
   "outputs": [],
   "source": [
    "def logistic_min_time(Nc, Np, Npt, N1p, N2p, N3p, N_truck):\n",
    "    sum_pack = Nc*Np\n",
    "    \n",
    "    area1_pack = sum_pack*N1p\n",
    "    area2_pack = sum_pack*N2p\n",
    "    area3_pack = sum_pack*N3p\n",
    "    \n",
    "    area1_tours = area1_pack/Npt\n",
    "    area2_tours = area2_pack/Npt\n",
    "    area3_tours = area3_pack/Npt\n",
    "    \n",
    "    sum_tour = N_truck*Npt\n",
    "    \n",
    "    return area1_tours, area2_tours, area3_tours, sum_tour"
   ]
  },
  {
   "cell_type": "code",
   "execution_count": 4,
   "id": "e36ed8e1",
   "metadata": {},
   "outputs": [],
   "source": [
    "# system model\n",
    "Nc = 2000 # containers\n",
    "Np = 500 # packages/container\n",
    "Npt = 100 # packages\n",
    "N1p = 0.5 # 1/2\n",
    "A1t = 0.5 # hours\n",
    "N2p = 0.25 # 1/4\n",
    "A2t = 1 # hours\n",
    "N3p = 0.25 # 1/4\n",
    "A3t = 2 # hours\n",
    "\n",
    "N_truck = 100 # trucks"
   ]
  },
  {
   "cell_type": "code",
   "execution_count": 5,
   "id": "721cbedf",
   "metadata": {},
   "outputs": [
    {
     "name": "stdout",
     "output_type": "stream",
     "text": [
      "10000\n"
     ]
    }
   ],
   "source": [
    "area1_tours, area2_tours, area3_tours, sum_tour = logistic_min_time(Nc, Np, Npt, N1p, N2p, N3p, N_truck)\n",
    "print(sum_tour)"
   ]
  },
  {
   "cell_type": "code",
   "execution_count": 11,
   "id": "68e5e30b",
   "metadata": {},
   "outputs": [
    {
     "name": "stdout",
     "output_type": "stream",
     "text": [
      "\n",
      "The optimal value is 100.00001567370046\n",
      "24.999996839210098\n",
      "24.999996081575496\n",
      "50.000007073728646\n"
     ]
    }
   ],
   "source": [
    "# Define and solve the CVXPY problem.\n",
    "x1 = cp.Variable()\n",
    "x2 = cp.Variable()\n",
    "x3 = cp.Variable()\n",
    "obj_func1 = area1_tours*A1t*cp.inv_pos(x1)  \n",
    "obj_func2 = area2_tours*A2t*cp.inv_pos(x2)\n",
    "obj_func3 = area3_tours*A3t*cp.inv_pos(x3)\n",
    "prob = cp.Problem(cp.Minimize(cp.max(cp.hstack([obj_func1, obj_func2, obj_func3]))), [x1 + x2 + x3 <= N_truck])\n",
    "prob.solve()\n",
    "\n",
    "# Print result.\n",
    "print(\"\\nThe optimal value is\", prob.value)\n",
    "print(x1.value)\n",
    "print(x2.value)\n",
    "print(x3.value)"
   ]
  },
  {
   "cell_type": "code",
   "execution_count": 12,
   "id": "56b34abf",
   "metadata": {},
   "outputs": [
    {
     "name": "stdout",
     "output_type": "stream",
     "text": [
      "4.1666673197375195\n"
     ]
    }
   ],
   "source": [
    "min_time_opt = np.max([area1_tours*A1t/(x1.value), area2_tours*A2t/(x2.value), area3_tours*A3t/(x3.value)])\n",
    "print(min_time_opt/24)"
   ]
  },
  {
   "cell_type": "code",
   "execution_count": 13,
   "id": "eaf7f734",
   "metadata": {},
   "outputs": [
    {
     "name": "stdout",
     "output_type": "stream",
     "text": [
      "100.0\n",
      "100.0\n",
      "100.0\n"
     ]
    }
   ],
   "source": [
    "area1_truck = np.round(x1.value)\n",
    "area2_truck = np.round(x2.value)\n",
    "area3_truck = np.round(x3.value)\n",
    "\n",
    "print(area1_tours*A1t/area1_truck)\n",
    "print(area2_tours*A2t/area2_truck)\n",
    "print(area3_tours*A3t/area3_truck)"
   ]
  },
  {
   "cell_type": "code",
   "execution_count": 16,
   "id": "5ad5452a",
   "metadata": {},
   "outputs": [
    {
     "name": "stdout",
     "output_type": "stream",
     "text": [
      "5.208333333333333\n"
     ]
    }
   ],
   "source": [
    "min_time = np.max([area1_tours*A1t/30, area2_tours*A2t/30, area3_tours*A3t/40])\n",
    "print(min_time/24)"
   ]
  },
  {
   "cell_type": "code",
   "execution_count": null,
   "id": "80a63a0c",
   "metadata": {},
   "outputs": [],
   "source": []
  }
 ],
 "metadata": {
  "kernelspec": {
   "display_name": "Python 3 (ipykernel)",
   "language": "python",
   "name": "python3"
  },
  "language_info": {
   "codemirror_mode": {
    "name": "ipython",
    "version": 3
   },
   "file_extension": ".py",
   "mimetype": "text/x-python",
   "name": "python",
   "nbconvert_exporter": "python",
   "pygments_lexer": "ipython3",
   "version": "3.9.15"
  }
 },
 "nbformat": 4,
 "nbformat_minor": 5
}
