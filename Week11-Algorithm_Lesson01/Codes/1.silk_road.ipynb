{
 "cells": [
  {
   "cell_type": "code",
   "execution_count": 2,
   "id": "881c9373",
   "metadata": {},
   "outputs": [],
   "source": [
    "import numpy as np"
   ]
  },
  {
   "cell_type": "code",
   "execution_count": 15,
   "id": "45367936",
   "metadata": {},
   "outputs": [],
   "source": [
    "# calculate the time for travel in silk road\n",
    "def time_silk_route(speed, distance):\n",
    "    time = distance/speed\n",
    "    days = time/18    # 18h travel per day, 6h for rest\n",
    "    return time, days"
   ]
  },
  {
   "cell_type": "code",
   "execution_count": 19,
   "id": "d8ecc252",
   "metadata": {},
   "outputs": [
    {
     "name": "stdout",
     "output_type": "stream",
     "text": [
      "7.111111111111111\n",
      "0.3950617283950617\n"
     ]
    }
   ],
   "source": [
    "# speed = 10 # km/h\n",
    "# speed = 60 # km/h\n",
    "speed = 900 # km/h\n",
    "distance = 6400 # km\n",
    "\n",
    "time, days = time_silk_route(speed, distance)\n",
    "print(time)\n",
    "print(days)"
   ]
  },
  {
   "cell_type": "code",
   "execution_count": null,
   "id": "d6065b22",
   "metadata": {},
   "outputs": [],
   "source": []
  }
 ],
 "metadata": {
  "kernelspec": {
   "display_name": "Python 3 (ipykernel)",
   "language": "python",
   "name": "python3"
  },
  "language_info": {
   "codemirror_mode": {
    "name": "ipython",
    "version": 3
   },
   "file_extension": ".py",
   "mimetype": "text/x-python",
   "name": "python",
   "nbconvert_exporter": "python",
   "pygments_lexer": "ipython3",
   "version": "3.9.12"
  }
 },
 "nbformat": 4,
 "nbformat_minor": 5
}
