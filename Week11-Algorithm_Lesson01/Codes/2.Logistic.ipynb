{
 "cells": [
  {
   "cell_type": "code",
   "execution_count": 1,
   "id": "9c017006",
   "metadata": {},
   "outputs": [],
   "source": [
    "import numpy as np"
   ]
  },
  {
   "cell_type": "code",
   "execution_count": 3,
   "id": "6e91b9df",
   "metadata": {},
   "outputs": [],
   "source": [
    "# calculate the time for travel in global logistcic\n",
    "def time_logistic_route(speed, distance):\n",
    "    time = distance/speed\n",
    "    days = time/20    # 20h travel per day, 4h for rest\n",
    "    return time, days"
   ]
  },
  {
   "cell_type": "code",
   "execution_count": 5,
   "id": "931a47cc",
   "metadata": {},
   "outputs": [
    {
     "name": "stdout",
     "output_type": "stream",
     "text": [
      "14.606666666666667\n"
     ]
    }
   ],
   "source": [
    "speed = 900 # km/h\n",
    "distance = 13146 # km from LA to Vietnam\n",
    "\n",
    "time, days = time_logistic_route(speed, distance)\n",
    "print(time)\n",
    "# print(days)"
   ]
  },
  {
   "cell_type": "code",
   "execution_count": 7,
   "id": "3894f191",
   "metadata": {},
   "outputs": [
    {
     "name": "stdout",
     "output_type": "stream",
     "text": [
      "1273500000.0\n"
     ]
    }
   ],
   "source": [
    "# cost for air cargo per kg\n",
    "cost_kg = 6  # usd\n",
    "global_logistic_2017 = 7641*1e9  # usd\n",
    "\n",
    "weight = global_logistic_2017/cost_kg\n",
    "print(weight/1000)"
   ]
  },
  {
   "cell_type": "code",
   "execution_count": null,
   "id": "d46b5b8c",
   "metadata": {},
   "outputs": [],
   "source": []
  }
 ],
 "metadata": {
  "kernelspec": {
   "display_name": "Python 3 (ipykernel)",
   "language": "python",
   "name": "python3"
  },
  "language_info": {
   "codemirror_mode": {
    "name": "ipython",
    "version": 3
   },
   "file_extension": ".py",
   "mimetype": "text/x-python",
   "name": "python",
   "nbconvert_exporter": "python",
   "pygments_lexer": "ipython3",
   "version": "3.9.12"
  }
 },
 "nbformat": 4,
 "nbformat_minor": 5
}
