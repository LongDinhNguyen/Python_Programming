{
 "cells": [
  {
   "cell_type": "code",
   "execution_count": 1,
   "id": "9df1b173",
   "metadata": {},
   "outputs": [],
   "source": [
    "import numpy as np"
   ]
  },
  {
   "cell_type": "code",
   "execution_count": 16,
   "id": "7a8bcc76",
   "metadata": {},
   "outputs": [],
   "source": [
    "def logistic_trucking(Nc, Np, Npt, N1p, A1t, N2p, A2t, N3p, A3t, time_limit):\n",
    "    sum_pack = Nc*Np\n",
    "    \n",
    "    area1_pack = sum_pack*N1p\n",
    "    area2_pack = sum_pack*N2p\n",
    "    area3_pack = sum_pack*N3p\n",
    "    \n",
    "    area1_tours = area1_pack/Npt\n",
    "    area1_trucks = area1_tours/(time_limit*24/A1t)\n",
    "    area2_tours = area2_pack/Npt\n",
    "    area2_trucks = area2_tours/(time_limit*24/A2t)\n",
    "    area3_tours = area3_pack/Npt\n",
    "    area3_trucks = area3_tours/(time_limit*24/A3t)\n",
    "    \n",
    "    return area1_trucks, area2_trucks, area3_trucks"
   ]
  },
  {
   "cell_type": "code",
   "execution_count": 17,
   "id": "e36ed8e1",
   "metadata": {},
   "outputs": [],
   "source": [
    "# system model\n",
    "Nc = 2000 # containers\n",
    "Np = 500 # packages/container\n",
    "Npt = 100 # packages\n",
    "N1p = 0.5 # 1/2\n",
    "A1t = 0.5 # hours\n",
    "N2p = 0.25 # 1/4\n",
    "A2t = 1 # hours\n",
    "N3p = 0.25 # 1/4\n",
    "A3t = 2 # hours\n",
    "time_limit = 7 # days"
   ]
  },
  {
   "cell_type": "code",
   "execution_count": 23,
   "id": "721cbedf",
   "metadata": {},
   "outputs": [
    {
     "name": "stdout",
     "output_type": "stream",
     "text": [
      "15.0\n",
      "15.0\n",
      "30.0\n",
      "60.0\n"
     ]
    }
   ],
   "source": [
    "area1_trucks, area2_trucks, area3_trucks = logistic_trucking(Nc, Np, Npt, N1p, A1t, N2p, A2t, N3p, A3t, time_limit)\n",
    "print(np.round(area1_trucks))\n",
    "print(np.round(area2_trucks))\n",
    "print(np.round(area3_trucks))\n",
    "\n",
    "print(np.round(area1_trucks+area2_trucks+area3_trucks))"
   ]
  },
  {
   "cell_type": "code",
   "execution_count": null,
   "id": "68e5e30b",
   "metadata": {},
   "outputs": [],
   "source": []
  }
 ],
 "metadata": {
  "kernelspec": {
   "display_name": "Python 3 (ipykernel)",
   "language": "python",
   "name": "python3"
  },
  "language_info": {
   "codemirror_mode": {
    "name": "ipython",
    "version": 3
   },
   "file_extension": ".py",
   "mimetype": "text/x-python",
   "name": "python",
   "nbconvert_exporter": "python",
   "pygments_lexer": "ipython3",
   "version": "3.9.12"
  }
 },
 "nbformat": 4,
 "nbformat_minor": 5
}
