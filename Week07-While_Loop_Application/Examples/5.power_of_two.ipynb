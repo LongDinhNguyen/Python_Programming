{
 "cells": [
  {
   "cell_type": "code",
   "execution_count": null,
   "id": "7a683764",
   "metadata": {},
   "outputs": [],
   "source": [
    "# the power of two \n",
    "pow2_n = 8\n",
    "result = 1\n",
    "count = 1\n",
    "while count <= pow2_n:\n",
    "    result = 2**count\n",
    "    count += 1\n",
    "    print(result)"
   ]
  },
  {
   "cell_type": "code",
   "execution_count": null,
   "id": "1313b21e",
   "metadata": {},
   "outputs": [],
   "source": [
    "# wheat and chessboard problem \n",
    "pow2_array = []\n",
    "pow2_n = 64\n",
    "result = 0\n",
    "count = 0\n",
    "while count < pow2_n:\n",
    "    pow2_array.append(2**count)\n",
    "    result = result + 2**count\n",
    "    count += 1\n",
    "#     print(result)\n",
    "result_fin = 2**pow2_n-1\n",
    "    \n",
    "print(\"power-of-two array: \", pow2_array)\n",
    "print(\"sum of values: \",f\"{result_fin:,}\")"
   ]
  },
  {
   "cell_type": "code",
   "execution_count": null,
   "id": "857cdbdf",
   "metadata": {},
   "outputs": [],
   "source": [
    "# wheat and chessboard function\n",
    "def pow_two_func(pow2_n):\n",
    "    pow2_array = []\n",
    "    result = 0\n",
    "    count = 0\n",
    "    while count < pow2_n:\n",
    "        pow2_array.append(2**count)\n",
    "        result = result + 2**count\n",
    "        count += 1\n",
    "    result_fin = 2**pow2_n-1\n",
    "    print(\"power-of-two array: \", pow2_array)\n",
    "    print(\"sum of values: \",f\"{result_fin:,}\")\n",
    "    \n",
    "    return pow2_array, result_fin"
   ]
  },
  {
   "cell_type": "code",
   "execution_count": null,
   "id": "8964edc8",
   "metadata": {},
   "outputs": [],
   "source": [
    "pow2_array, result_fin = pow_two_func(33)"
   ]
  },
  {
   "cell_type": "code",
   "execution_count": null,
   "id": "8e18a22e",
   "metadata": {},
   "outputs": [],
   "source": []
  }
 ],
 "metadata": {
  "kernelspec": {
   "display_name": "Python 3 (ipykernel)",
   "language": "python",
   "name": "python3"
  },
  "language_info": {
   "codemirror_mode": {
    "name": "ipython",
    "version": 3
   },
   "file_extension": ".py",
   "mimetype": "text/x-python",
   "name": "python",
   "nbconvert_exporter": "python",
   "pygments_lexer": "ipython3",
   "version": "3.9.12"
  }
 },
 "nbformat": 4,
 "nbformat_minor": 5
}
