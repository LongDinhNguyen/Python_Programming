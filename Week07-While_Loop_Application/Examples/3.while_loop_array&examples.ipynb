{
 "cells": [
  {
   "cell_type": "code",
   "execution_count": null,
   "id": "d26b7784",
   "metadata": {},
   "outputs": [],
   "source": [
    "# Sum of squares of the first 15 natural numbers using a while loop\n",
    "# Python program example to show the use of while loop   \n",
    "num = 12  \n",
    "\n",
    "# initializing summation and a counter for iteration  \n",
    "summation = 0  \n",
    "c = 1  \n",
    "while c <= num: # specifying the condition of the loop  \n",
    "    # begining the code block  \n",
    "    summation = c**2 + summation  \n",
    "    c = c + 1    # incrementing the counter   \n",
    "# print the final sum  \n",
    "print(\"The sum of squares of the first\", num, \"natural numbers is\", summation)"
   ]
  },
  {
   "cell_type": "code",
   "execution_count": null,
   "id": "420146d8",
   "metadata": {},
   "outputs": [],
   "source": [
    "# a Python program to verify if the given integer is a prime number or not\n",
    "num = [34, 12, 54, 23, 75, 34, 11]    \n",
    "  \n",
    "def prime_number(number):  \n",
    "    condition = 0  \n",
    "    iteration = 2  \n",
    "    while iteration <= number / 2:  \n",
    "        if number % iteration == 0:  \n",
    "            condition = 1  \n",
    "            break  \n",
    "        iteration = iteration + 1  \n",
    "  \n",
    "    if condition == 0:  \n",
    "        print(f\"{number} is a PRIME number\")  \n",
    "    else:  \n",
    "        print(f\"{number} is not a PRIME number\")  \n",
    "for i in num:  \n",
    "    prime_number(i)  "
   ]
  },
  {
   "cell_type": "code",
   "execution_count": null,
   "id": "8fa45af0",
   "metadata": {},
   "outputs": [],
   "source": [
    "# the multiplication table of a given number\n",
    "num = 21        \n",
    "counter = 1      \n",
    "# we will use a while loop for iterating 10 times for the multiplication table        \n",
    "print(\"The Multiplication Table of: \", num)      \n",
    "while counter <= 10: # specifying the condition  \n",
    "    ans = num * counter      \n",
    "    print (num, 'x', counter, '=', ans)      \n",
    "    counter += 1 # expression to increment the counter  "
   ]
  },
  {
   "cell_type": "code",
   "execution_count": null,
   "id": "1886fa62",
   "metadata": {},
   "outputs": [],
   "source": [
    "# square every number of a list\n",
    "# Python program to square every number of a list  \n",
    "# initializing a list  \n",
    "list_ = [3, 5, 1, 4, 6]  \n",
    "squares = []  \n",
    "# programing a while loop   \n",
    "while list_: # until list is not empty this expression will give boolean True after that False  \n",
    "    squares.append( (list_.pop())**2)    \n",
    "print( squares )"
   ]
  },
  {
   "cell_type": "code",
   "execution_count": null,
   "id": "6bcb7bf9",
   "metadata": {},
   "outputs": [],
   "source": [
    "# combine two or more expressions specifying conditions into a single while loop\n",
    "num1 = 17  \n",
    "num2 = -12  \n",
    "   \n",
    "while num1 > 5 and num2 < -5 : # multiple conditions in a single while loop  \n",
    "    num1 -= 2  \n",
    "    num2 += 3  \n",
    "    print( (num1, num2) )"
   ]
  },
  {
   "cell_type": "code",
   "execution_count": null,
   "id": "f5235089",
   "metadata": {},
   "outputs": [],
   "source": [
    "num1 = 17  \n",
    "num2 = -12  \n",
    "   \n",
    "while num1 > 5 or num2 < -5 :  \n",
    "    num1 -= 2  \n",
    "    num2 += 3  \n",
    "    print( (num1, num2) )"
   ]
  },
  {
   "cell_type": "code",
   "execution_count": null,
   "id": "2a572e92",
   "metadata": {},
   "outputs": [],
   "source": [
    "num1 = 9   \n",
    "num = 14   \n",
    "maximum_value = 4  \n",
    "counter = 0   \n",
    "while (counter < num1 or counter < num2) and not counter >= maximum_value: # grouping multiple conditions  \n",
    "    print(f\"Number of iterations: {counter}\")   \n",
    "    counter += 1"
   ]
  },
  {
   "cell_type": "code",
   "execution_count": null,
   "id": "da910897",
   "metadata": {},
   "outputs": [],
   "source": [
    "# while ... loop with array\n",
    "my_vec = [8,9,2,3,4,6]\n",
    "i = 0\n",
    "while i < len(my_vec):\n",
    "    print(my_vec[i])\n",
    "    i = i+1"
   ]
  },
  {
   "cell_type": "code",
   "execution_count": null,
   "id": "6a4ecd4a",
   "metadata": {},
   "outputs": [],
   "source": [
    "my_mat = [ [1,3,6], [8,2,0], [4,7,10], [1,5,2], [6, 0, 0] ]\n",
    "print(my_mat)\n",
    "print(my_mat[1])\n",
    "print(my_mat[1][1])\n",
    "i_id = 0\n",
    "j_id = 0\n",
    "while i_id < len(my_mat):\n",
    "    while j_id < len(my_mat[i_id]):\n",
    "        print(\"Element of list in list - \", my_mat[i_id][j_id])\n",
    "        j_id += 1\n",
    "    i_id += 1"
   ]
  },
  {
   "cell_type": "code",
   "execution_count": null,
   "id": "dea5f7d1",
   "metadata": {},
   "outputs": [],
   "source": [
    "# average of the first 10 positive (non-zero integers)\n",
    "count = 1\n",
    "result = 0\n",
    "while count <= 10:\n",
    "    result += count\n",
    "    count += 1\n",
    "    print(result)\n",
    "print(result /(count-1))"
   ]
  },
  {
   "cell_type": "code",
   "execution_count": null,
   "id": "764676e3",
   "metadata": {},
   "outputs": [],
   "source": [
    "# product of two list (same size)\n",
    "listC = []\n",
    "listA = [2,4,6,8,10]\n",
    "listB = [25,30,35,40,45]\n",
    "count = 0\n",
    "\n",
    "while count < len(listA):\n",
    "    listC.append(listA[count]*listB[count])\n",
    "    count += 1\n",
    "print(listC)"
   ]
  },
  {
   "cell_type": "code",
   "execution_count": null,
   "id": "33326fea",
   "metadata": {},
   "outputs": [],
   "source": [
    "# the factorial \n",
    "fac_num = 5\n",
    "result = 1\n",
    "count = 1\n",
    "\n",
    "while count <= fac_num:\n",
    "    result *= count\n",
    "    count += 1\n",
    "    print(result)"
   ]
  },
  {
   "cell_type": "code",
   "execution_count": null,
   "id": "d5050142",
   "metadata": {},
   "outputs": [],
   "source": []
  }
 ],
 "metadata": {
  "kernelspec": {
   "display_name": "Python 3 (ipykernel)",
   "language": "python",
   "name": "python3"
  },
  "language_info": {
   "codemirror_mode": {
    "name": "ipython",
    "version": 3
   },
   "file_extension": ".py",
   "mimetype": "text/x-python",
   "name": "python",
   "nbconvert_exporter": "python",
   "pygments_lexer": "ipython3",
   "version": "3.9.12"
  }
 },
 "nbformat": 4,
 "nbformat_minor": 5
}
