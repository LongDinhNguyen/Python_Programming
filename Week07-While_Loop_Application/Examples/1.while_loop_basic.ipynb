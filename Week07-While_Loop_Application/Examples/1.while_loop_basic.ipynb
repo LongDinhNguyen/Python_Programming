{
 "cells": [
  {
   "cell_type": "code",
   "execution_count": 1,
   "id": "b3a5d669",
   "metadata": {},
   "outputs": [
    {
     "name": "stdout",
     "output_type": "stream",
     "text": [
      "Hello Geek\n",
      "Hello Geek\n",
      "Hello Geek\n"
     ]
    }
   ],
   "source": [
    "# Python program to illustrate\n",
    "# while loop\n",
    "count = 0\n",
    "while (count < 3):\n",
    "    count = count + 1\n",
    "    print(\"Hello Geek\")\n"
   ]
  },
  {
   "cell_type": "code",
   "execution_count": 2,
   "id": "e90130e4",
   "metadata": {},
   "outputs": [
    {
     "name": "stdout",
     "output_type": "stream",
     "text": [
      "9\n",
      "6\n",
      "10\n",
      "5\n"
     ]
    }
   ],
   "source": [
    "myList = ['pineapple', 'banana', 'watermelon', 'mango']\n",
    "\n",
    "index = 0\n",
    "while index < len(myList):\n",
    "    element = myList[index]\n",
    "    print(len(element))\n",
    "    index += 1"
   ]
  },
  {
   "cell_type": "code",
   "execution_count": 3,
   "id": "7a886ed4",
   "metadata": {},
   "outputs": [
    {
     "name": "stdout",
     "output_type": "stream",
     "text": [
      "4\n",
      "3\n",
      "2\n",
      "1\n"
     ]
    }
   ],
   "source": [
    "# checks if list still\n",
    "# contains any element\n",
    "a = [1, 2, 3, 4]\n",
    "\n",
    "while a:\n",
    "    print(a.pop())\n"
   ]
  },
  {
   "cell_type": "code",
   "execution_count": 4,
   "id": "d26a336c",
   "metadata": {},
   "outputs": [
    {
     "name": "stdout",
     "output_type": "stream",
     "text": [
      "odd\n",
      "odd\n",
      "even\n",
      "odd\n",
      "even\n",
      "even\n",
      "odd\n"
     ]
    }
   ],
   "source": [
    "myList = [5, 7, 8, 3, 4, 2, 9]\n",
    "\n",
    "index = 0\n",
    "while index < len(myList):\n",
    "    element = myList[index]\n",
    "    if element % 2 == 0:\n",
    "        print('even')\n",
    "    else:\n",
    "        print('odd')\n",
    "    index += 1"
   ]
  },
  {
   "cell_type": "code",
   "execution_count": 5,
   "id": "432c00fc",
   "metadata": {},
   "outputs": [
    {
     "name": "stdout",
     "output_type": "stream",
     "text": [
      "a\n",
      "e\n",
      "i\n",
      "o\n",
      "u\n"
     ]
    }
   ],
   "source": [
    "tuple1 = ('a', 'e', 'i', 'o', 'u')\n",
    "\n",
    "index = 0\n",
    "\n",
    "while index<len(tuple1):\n",
    "    #do something\n",
    "    print(tuple1[index])\n",
    "    #increment index\n",
    "    index = index+1"
   ]
  },
  {
   "cell_type": "code",
   "execution_count": 6,
   "id": "78839a90",
   "metadata": {},
   "outputs": [
    {
     "name": "stdout",
     "output_type": "stream",
     "text": [
      "34\n"
     ]
    }
   ],
   "source": [
    "tuple1 = (5, 3, 2, 8, 4, 4, 6, 2)\n",
    "\n",
    "sum = 0\n",
    "index = 0\n",
    "\n",
    "while index<len(tuple1):\n",
    "    sum = sum + tuple1[index]\n",
    "    #increment index\n",
    "    index = index+1\n",
    "    \n",
    "print(sum)"
   ]
  },
  {
   "cell_type": "code",
   "execution_count": null,
   "id": "378b703f",
   "metadata": {},
   "outputs": [],
   "source": []
  }
 ],
 "metadata": {
  "kernelspec": {
   "display_name": "Python 3 (ipykernel)",
   "language": "python",
   "name": "python3"
  },
  "language_info": {
   "codemirror_mode": {
    "name": "ipython",
    "version": 3
   },
   "file_extension": ".py",
   "mimetype": "text/x-python",
   "name": "python",
   "nbconvert_exporter": "python",
   "pygments_lexer": "ipython3",
   "version": "3.9.12"
  }
 },
 "nbformat": 4,
 "nbformat_minor": 5
}
