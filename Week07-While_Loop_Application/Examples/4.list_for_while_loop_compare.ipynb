{
 "cells": [
  {
   "cell_type": "code",
   "execution_count": 1,
   "id": "1f535bfe",
   "metadata": {},
   "outputs": [
    {
     "name": "stdout",
     "output_type": "stream",
     "text": [
      "[2, 4, 6, 8, 10, 12, 14, 16, 18, 20]\n"
     ]
    }
   ],
   "source": [
    "# list \n",
    "numberlist = [count for count in range(1,21) if count % 2 == 0]\n",
    "print(numberlist)"
   ]
  },
  {
   "cell_type": "code",
   "execution_count": 2,
   "id": "23059638",
   "metadata": {},
   "outputs": [
    {
     "name": "stdout",
     "output_type": "stream",
     "text": [
      "[2, 4, 6, 8, 10, 12, 14, 16, 18, 20]\n"
     ]
    }
   ],
   "source": [
    "# for ... loop\n",
    "numberlist = []\n",
    "for count in range(1,21):\n",
    "    if count % 2 == 0:\n",
    "        numberlist.append(count)\n",
    "print(numberlist)"
   ]
  },
  {
   "cell_type": "code",
   "execution_count": 5,
   "id": "a94c0e75",
   "metadata": {},
   "outputs": [
    {
     "name": "stdout",
     "output_type": "stream",
     "text": [
      "[2, 4, 6, 8, 10, 12, 14, 16, 18, 20]\n"
     ]
    }
   ],
   "source": [
    "# while ... loop\n",
    "numberlist = []\n",
    "count = 1\n",
    "while count <= 20:\n",
    "    if count % 2 == 0:\n",
    "        numberlist.append(count)\n",
    "    count += 1\n",
    "print(numberlist)"
   ]
  },
  {
   "cell_type": "code",
   "execution_count": null,
   "id": "d03b446d",
   "metadata": {},
   "outputs": [],
   "source": []
  }
 ],
 "metadata": {
  "kernelspec": {
   "display_name": "Python 3 (ipykernel)",
   "language": "python",
   "name": "python3"
  },
  "language_info": {
   "codemirror_mode": {
    "name": "ipython",
    "version": 3
   },
   "file_extension": ".py",
   "mimetype": "text/x-python",
   "name": "python",
   "nbconvert_exporter": "python",
   "pygments_lexer": "ipython3",
   "version": "3.9.12"
  }
 },
 "nbformat": 4,
 "nbformat_minor": 5
}
