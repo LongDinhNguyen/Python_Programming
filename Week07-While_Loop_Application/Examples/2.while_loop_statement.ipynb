{
 "cells": [
  {
   "cell_type": "code",
   "execution_count": null,
   "id": "b9de04ff",
   "metadata": {},
   "outputs": [],
   "source": [
    "# Python program to illustrate\n",
    "# Single statement while block\n",
    "count = 0\n",
    "while (count < 5): count += 1; print(\"Hello Geek\")"
   ]
  },
  {
   "cell_type": "code",
   "execution_count": null,
   "id": "a721f34d",
   "metadata": {},
   "outputs": [],
   "source": [
    "# continue statement\n",
    "# Prints all letters except 'e' and 's'\n",
    "i = 0\n",
    "a = 'geeksforgeeks'\n",
    "\n",
    "while i < len(a):\n",
    "    if a[i] == 'e' or a[i] == 's':\n",
    "        i += 1\n",
    "        continue\n",
    "    print('Current Letter :', a[i])\n",
    "    i += 1\n"
   ]
  },
  {
   "cell_type": "code",
   "execution_count": null,
   "id": "99ac7fe5",
   "metadata": {},
   "outputs": [],
   "source": [
    "# Python program to show how to use continue loop control  \n",
    "  \n",
    "# Initiating the loop  \n",
    "for string in \"While Loops\":  \n",
    "    if string == \"o\" or string == \"i\" or string == \"e\":  \n",
    "         continue  \n",
    "    print('Current Letter:', string) "
   ]
  },
  {
   "cell_type": "code",
   "execution_count": null,
   "id": "1b6e976f",
   "metadata": {},
   "outputs": [],
   "source": [
    "# break statement\n",
    "# break the loop as soon it sees 'e' or 's'\n",
    "i = 0\n",
    "a = 'geeksforgeeks'\n",
    "\n",
    "while i < len(a):\n",
    "    if a[i] == 'e' or a[i] == 's':\n",
    "        i += 1\n",
    "        break\n",
    "    print('Current Letter :', a[i])\n",
    "    i += 1\n"
   ]
  },
  {
   "cell_type": "code",
   "execution_count": null,
   "id": "e6cb9e1d",
   "metadata": {},
   "outputs": [],
   "source": [
    "# Python program to show how to use the break statement  \n",
    "# Initiating the loop  \n",
    "for string in \"Python Loops\":  \n",
    "    if string == 'n':  \n",
    "         break  \n",
    "    print('Current Letter: ', string)"
   ]
  },
  {
   "cell_type": "code",
   "execution_count": null,
   "id": "63739f74",
   "metadata": {},
   "outputs": [],
   "source": [
    "# pass statement\n",
    "# An empty loop\n",
    "a = 'geeksforgeeks'\n",
    "i = 0\n",
    "while i < len(a):\n",
    "    i += 1\n",
    "    pass\n",
    "print('Value of i :', i)\n"
   ]
  },
  {
   "cell_type": "code",
   "execution_count": null,
   "id": "7161eda3",
   "metadata": {},
   "outputs": [],
   "source": [
    "# Python program to show how to use the pass statement  \n",
    "for string in \"Python Loops\":  \n",
    "    pass  \n",
    "print('Last Letter:', string) "
   ]
  },
  {
   "cell_type": "code",
   "execution_count": null,
   "id": "35361eed",
   "metadata": {},
   "outputs": [],
   "source": [
    "# else statement\n",
    "# Python program to demonstrate while-else loop\n",
    "i = 0\n",
    "while i < 4:\n",
    "    i += 1\n",
    "    print(i)\n",
    "else: # Executed because no break in for\n",
    "    print(\"No Break\\n\")\n",
    "\n",
    "i = 0\n",
    "while i < 4:\n",
    "    i += 1\n",
    "    print(i)\n",
    "    break\n",
    "else: # Not executed as there is a break\n",
    "    print(\"No Break\")\n"
   ]
  },
  {
   "cell_type": "code",
   "execution_count": null,
   "id": "e74e1afa",
   "metadata": {},
   "outputs": [],
   "source": [
    "# Sentinel Controlled Statement\n",
    "a = int(input('Enter a number (-1 to quit): '))\n",
    "while a != -1:\n",
    "    a = int(input('Enter a number (-1 to quit): '))\n"
   ]
  },
  {
   "cell_type": "code",
   "execution_count": null,
   "id": "27c7c206",
   "metadata": {},
   "outputs": [],
   "source": [
    "# Nested While Loop\n",
    "i = 1\n",
    "j = 5\n",
    "while i < 6:\n",
    "    while j > 0:\n",
    "     print(i,j)\n",
    "     j = j -1\n",
    "     i = i + 1"
   ]
  },
  {
   "cell_type": "code",
   "execution_count": null,
   "id": "50605b59",
   "metadata": {},
   "outputs": [],
   "source": [
    "i = 'edureka'\n",
    "j = 1\n",
    "while j > 0:\n",
    "    for x in i:\n",
    "       print(j , x)\n",
    "       j = j + 1\n",
    "    if x == 'a':\n",
    "        break"
   ]
  },
  {
   "cell_type": "code",
   "execution_count": null,
   "id": "66958ebf",
   "metadata": {},
   "outputs": [],
   "source": [
    "# Infinite While ... Loop\n",
    "i = 4\n",
    "count = 0\n",
    "while i > 0:\n",
    "    print('i am an infinite while loop')\n",
    "    count += 1\n",
    "    if count == 10:\n",
    "        break"
   ]
  },
  {
   "cell_type": "code",
   "execution_count": null,
   "id": "932d87ef",
   "metadata": {},
   "outputs": [],
   "source": []
  }
 ],
 "metadata": {
  "kernelspec": {
   "display_name": "Python 3 (ipykernel)",
   "language": "python",
   "name": "python3"
  },
  "language_info": {
   "codemirror_mode": {
    "name": "ipython",
    "version": 3
   },
   "file_extension": ".py",
   "mimetype": "text/x-python",
   "name": "python",
   "nbconvert_exporter": "python",
   "pygments_lexer": "ipython3",
   "version": "3.9.12"
  }
 },
 "nbformat": 4,
 "nbformat_minor": 5
}
