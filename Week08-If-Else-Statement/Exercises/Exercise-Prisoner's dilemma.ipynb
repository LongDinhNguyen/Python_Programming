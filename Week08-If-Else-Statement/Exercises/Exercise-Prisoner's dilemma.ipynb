{
 "cells": [
  {
   "cell_type": "code",
   "execution_count": 1,
   "id": "1d4694b6",
   "metadata": {},
   "outputs": [],
   "source": [
    "import time\n",
    "import numpy as np\n",
    "import matplotlib.pyplot as plt"
   ]
  },
  {
   "cell_type": "code",
   "execution_count": 11,
   "id": "eca2752d",
   "metadata": {},
   "outputs": [],
   "source": [
    "# per_1_rel > 0: A betray B \n",
    "# per_1_rel < 0: A silent (cooperated B) \n",
    "\n",
    "def prisoner_dilemma(per_1_rel, per_2_rel):\n",
    "    if per_1_rel > 0:\n",
    "        if per_2_rel > 0:\n",
    "            per_1_year = 5\n",
    "            per_2_year = 5\n",
    "        else:\n",
    "            per_1_year = 0\n",
    "            per_2_year = 20\n",
    "    else:\n",
    "        if per_2_rel > 0:  \n",
    "            per_1_year = 20\n",
    "            per_2_year = 0\n",
    "        else:\n",
    "            per_1_year = 3\n",
    "            per_2_year = 3\n",
    "    return per_1_year, per_2_year            \n",
    "        \n",
    "def my_program():\n",
    "    print(\"Day la chuong trinh xu ly toi pham, ung dung Prisoner's dilemma!\")\n",
    "    print(\"Chung ta doi pho voi hai toi pham: A, B \\n\")\n",
    "    \n",
    "    per_1_rel = int(input(\"Ket qua A khai bao, {1}:betray or {-1}:silent,: \" ))\n",
    "    per_2_rel = int(input(\"Ket qua B khai bao, {1}:betray or {-1}:silent,: \" ))\n",
    "    \n",
    "    per_1_year, per_2_year = prisoner_dilemma(per_1_rel, per_2_rel)\n",
    "    \n",
    "    print(\"\\nKet an: A se ngoi tu\", per_1_year, \"nam\")\n",
    "    print(\"Ket an: B se ngoi tu\", per_2_year, \"nam\")\n",
    "    "
   ]
  },
  {
   "cell_type": "code",
   "execution_count": 12,
   "id": "dd93d8a1",
   "metadata": {},
   "outputs": [
    {
     "name": "stdout",
     "output_type": "stream",
     "text": [
      "Day la chuong trinh xu ly toi pham, ung dung Prisoner's dilemma!\n",
      "Chung ta doi pho voi hai toi pham: A, B \n",
      "\n",
      "Ket qua A khai bao, {1}:betray or {-1}:silent,: 1\n",
      "Ket qua B khai bao, {1}:betray or {-1}:silent,: 1\n",
      "\n",
      "Ket an: A se ngoi tu 5 nam\n",
      "Ket an: B se ngoi tu 5 nam\n"
     ]
    }
   ],
   "source": [
    "my_program()"
   ]
  },
  {
   "cell_type": "code",
   "execution_count": null,
   "id": "38ba0763",
   "metadata": {},
   "outputs": [],
   "source": []
  }
 ],
 "metadata": {
  "kernelspec": {
   "display_name": "Python 3 (ipykernel)",
   "language": "python",
   "name": "python3"
  },
  "language_info": {
   "codemirror_mode": {
    "name": "ipython",
    "version": 3
   },
   "file_extension": ".py",
   "mimetype": "text/x-python",
   "name": "python",
   "nbconvert_exporter": "python",
   "pygments_lexer": "ipython3",
   "version": "3.9.12"
  }
 },
 "nbformat": 4,
 "nbformat_minor": 5
}
