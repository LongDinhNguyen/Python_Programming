{
 "cells": [
  {
   "cell_type": "code",
   "execution_count": 1,
   "id": "51515b75",
   "metadata": {},
   "outputs": [
    {
     "name": "stdout",
     "output_type": "stream",
     "text": [
      "jQuery Tutorial\n",
      "jQuery Tutorial\n"
     ]
    }
   ],
   "source": [
    "# Use the in operator in an if statement\n",
    "#create a string\n",
    "s = 'jQuery'\n",
    "#create a list\n",
    "l = ['JavaScript', 'jQuery', 'ZinoUI']\n",
    "\n",
    "# in operator is used to replace various expressions that use the or operator\n",
    "if s in l:\n",
    "    print(s + ' Tutorial')\n",
    "\n",
    "#Alternate if statement with or operator\n",
    "\n",
    "if s == 'JavaScript' or s == 'jQuery' or s == 'ZinoUI':\n",
    "     print(s + ' Tutorial')"
   ]
  },
  {
   "cell_type": "code",
   "execution_count": 4,
   "id": "0a7ebe16",
   "metadata": {},
   "outputs": [
    {
     "name": "stdout",
     "output_type": "stream",
     "text": [
      "Both conditions are True\n"
     ]
    }
   ],
   "source": [
    "# Python Conditions and If statements\n",
    "a = 200\n",
    "b = 33\n",
    "c = 500\n",
    "if a > b and c > a:\n",
    "    print(\"Both conditions are True\")"
   ]
  },
  {
   "cell_type": "code",
   "execution_count": 3,
   "id": "02aaad89",
   "metadata": {},
   "outputs": [
    {
     "name": "stdout",
     "output_type": "stream",
     "text": [
      "At least one of the conditions is True\n"
     ]
    }
   ],
   "source": [
    "a = 200\n",
    "b = 33\n",
    "c = 500\n",
    "if a > b or a > c:\n",
    "    print(\"At least one of the conditions is True\")"
   ]
  },
  {
   "cell_type": "code",
   "execution_count": null,
   "id": "d59d3026",
   "metadata": {},
   "outputs": [],
   "source": []
  }
 ],
 "metadata": {
  "kernelspec": {
   "display_name": "Python 3 (ipykernel)",
   "language": "python",
   "name": "python3"
  },
  "language_info": {
   "codemirror_mode": {
    "name": "ipython",
    "version": 3
   },
   "file_extension": ".py",
   "mimetype": "text/x-python",
   "name": "python",
   "nbconvert_exporter": "python",
   "pygments_lexer": "ipython3",
   "version": "3.9.12"
  }
 },
 "nbformat": 4,
 "nbformat_minor": 5
}
