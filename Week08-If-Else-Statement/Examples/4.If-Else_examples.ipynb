{
 "cells": [
  {
   "cell_type": "code",
   "execution_count": 10,
   "id": "d1448d09",
   "metadata": {},
   "outputs": [
    {
     "name": "stdout",
     "output_type": "stream",
     "text": [
      "Enter a number: 3\n",
      "3 is Odd\n"
     ]
    }
   ],
   "source": [
    "# A practical example of if-else – is the number even or odd\n",
    "#Take user input\n",
    "inp_num = input(\"Enter a number: \")\n",
    "\n",
    "#Convert string to int\n",
    "inp_num = int(inp_num)\n",
    "\n",
    "if inp_num == 0:\n",
    "  print(inp_num, \"is Even\")\n",
    "elif inp_num%2==0:\n",
    "  print(inp_num, \"is Even\")\n",
    "else:\n",
    "  print(inp_num, \"is Odd\")"
   ]
  },
  {
   "cell_type": "code",
   "execution_count": 1,
   "id": "b0bd2419",
   "metadata": {},
   "outputs": [
    {
     "name": "stdout",
     "output_type": "stream",
     "text": [
      "Enter a? 2\n",
      "Enter b? 3\n",
      "Enter c? 4\n",
      "c is largest\n"
     ]
    }
   ],
   "source": [
    "# Program to print the largest of the three numbers\n",
    "a = int(input(\"Enter a? \"))  \n",
    "b = int(input(\"Enter b? \"))  \n",
    "c = int(input(\"Enter c? \"))  \n",
    "if a>b and a>c:  \n",
    "    print(\"a is largest\")  \n",
    "if b>a and b>c:  \n",
    "    print(\"b is largest\")  \n",
    "if c>a and c>b:  \n",
    "    print(\"c is largest\")  "
   ]
  },
  {
   "cell_type": "code",
   "execution_count": 3,
   "id": "311e77f1",
   "metadata": {},
   "outputs": [
    {
     "name": "stdout",
     "output_type": "stream",
     "text": [
      "Enter the marks? 23\n",
      "Sorry you are fail ?\n"
     ]
    }
   ],
   "source": [
    "# Program to assessment your grades\n",
    "marks = int(input(\"Enter the marks? \"))  \n",
    "if marks > 85 and marks <= 100:  \n",
    "   print(\"Congrats ! you scored grade A ...\")  \n",
    "elif marks > 60 and marks <= 85:  \n",
    "   print(\"You scored grade B + ...\")  \n",
    "elif marks > 40 and marks <= 60:  \n",
    "   print(\"You scored grade B ...\")  \n",
    "elif (marks > 30 and marks <= 40):  \n",
    "   print(\"You scored grade C ...\")  \n",
    "else:  \n",
    "   print(\"Sorry you are fail ?\")  "
   ]
  },
  {
   "cell_type": "code",
   "execution_count": 11,
   "id": "f685b03a",
   "metadata": {},
   "outputs": [
    {
     "name": "stdout",
     "output_type": "stream",
     "text": [
      "Type of the variable is Complex\n"
     ]
    }
   ],
   "source": [
    "# we have applied if, series of elif and else to get the type of a variable\n",
    "var1 = 1+2j\n",
    "if (type(var1) == int):\n",
    "    print(\"Type of the variable is Integer\")\n",
    "elif (type(var1) == float):\n",
    "    print(\"Type of the variable is Float\")\n",
    "elif (type(var1) == complex):\n",
    "    print(\"Type of the variable is Complex\")\n",
    "elif (type(var1) == bool):\n",
    "    print(\"Type of the variable is Bool\")\n",
    "elif (type(var1) == str):\n",
    "    print(\"Type of the variable is String\")\n",
    "elif (type(var1) == tuple):\n",
    "    print(\"Type of the variable is Tuple\")\n",
    "elif (type(var1) == dict):\n",
    "    print(\"Type of the variable is Dictionaries\")\n",
    "elif (type(var1) == list):\n",
    "    print(\"Type of the variable is List\")\n",
    "else:\n",
    "    print(\"Type of the variable is Unknown\")"
   ]
  },
  {
   "cell_type": "code",
   "execution_count": 12,
   "id": "3b3a672d",
   "metadata": {},
   "outputs": [
    {
     "name": "stdout",
     "output_type": "stream",
     "text": [
      "How many cents do you need to give out? 13\n",
      "Your change is\n",
      "1 dime\n",
      "3 pennies.\n"
     ]
    }
   ],
   "source": [
    "# Making change\n",
    "# Get input\n",
    "cents = int(input('How many cents do you need to give out? '))\n",
    "\n",
    "# Do computations\n",
    "quarters = cents // 25\n",
    "cents = cents % 25\n",
    "dimes = cents // 10\n",
    "cents = cents % 10\n",
    "nickels = cents // 5\n",
    "pennies = cents % 5\n",
    "\n",
    "# Print results\n",
    "print('Your change is')\n",
    "if quarters > 1:\n",
    "    print(str(quarters)+' quarters')\n",
    "elif quarters == 1:\n",
    "    print('1 quarter')\n",
    "\n",
    "if dimes > 1:\n",
    "    print(str(dimes)+' dimes')\n",
    "elif dimes == 1:\n",
    "    print('1 dime')\n",
    "\n",
    "if nickels == 1:\n",
    "    print('1 nickel')\n",
    "\n",
    "if pennies > 1:\n",
    "    print(str(pennies)+' pennies.')\n",
    "elif pennies == 1:\n",
    "    print('1 penny.')"
   ]
  },
  {
   "cell_type": "code",
   "execution_count": 5,
   "id": "d6f0b8c7",
   "metadata": {},
   "outputs": [
    {
     "name": "stdout",
     "output_type": "stream",
     "text": [
      "[16, 3, 18, 18]\n"
     ]
    }
   ],
   "source": [
    "# Python if else in list comprehension\n",
    "# Explicit function\n",
    "def digitSum(n):\n",
    "    dsum = 0\n",
    "    for ele in str(n):\n",
    "        dsum += int(ele)\n",
    "    return dsum\n",
    "  \n",
    "  \n",
    "# Initializing list\n",
    "List = [367, 111, 562, 945, 6726, 873]\n",
    "  \n",
    "# Using the function on odd elements of the list\n",
    "newList = [digitSum(i) for i in List if i & 1]\n",
    "  \n",
    "# Displaying new list\n",
    "print(newList)"
   ]
  },
  {
   "cell_type": "code",
   "execution_count": 9,
   "id": "4010ea40",
   "metadata": {},
   "outputs": [
    {
     "ename": "UnboundLocalError",
     "evalue": "local variable 'st' referenced before assignment",
     "output_type": "error",
     "traceback": [
      "\u001b[1;31m---------------------------------------------------------------------------\u001b[0m",
      "\u001b[1;31mUnboundLocalError\u001b[0m                         Traceback (most recent call last)",
      "Input \u001b[1;32mIn [9]\u001b[0m, in \u001b[0;36m<cell line: 7>\u001b[1;34m()\u001b[0m\n\u001b[0;32m      6\u001b[0m     \u001b[38;5;28mprint\u001b[39m (st)\n\u001b[0;32m      7\u001b[0m \u001b[38;5;28;01mif\u001b[39;00m \u001b[38;5;18m__name__\u001b[39m \u001b[38;5;241m==\u001b[39m \u001b[38;5;124m\"\u001b[39m\u001b[38;5;124m__main__\u001b[39m\u001b[38;5;124m\"\u001b[39m:\n\u001b[1;32m----> 8\u001b[0m     \u001b[43mmain\u001b[49m\u001b[43m(\u001b[49m\u001b[43m)\u001b[49m\n",
      "Input \u001b[1;32mIn [9]\u001b[0m, in \u001b[0;36mmain\u001b[1;34m()\u001b[0m\n\u001b[0;32m      4\u001b[0m \u001b[38;5;28;01mif\u001b[39;00m(x \u001b[38;5;241m<\u001b[39m y):\n\u001b[0;32m      5\u001b[0m     st\u001b[38;5;241m=\u001b[39m \u001b[38;5;124m\"\u001b[39m\u001b[38;5;124mx is less than y\u001b[39m\u001b[38;5;124m\"\u001b[39m\n\u001b[1;32m----> 6\u001b[0m \u001b[38;5;28mprint\u001b[39m (\u001b[43mst\u001b[49m)\n",
      "\u001b[1;31mUnboundLocalError\u001b[0m: local variable 'st' referenced before assignment"
     ]
    }
   ],
   "source": [
    "# What happen when “if condition” does not meet\n",
    "def main():\n",
    "    x,y =8,4\n",
    "    if(x < y):\n",
    "        st= \"x is less than y\"\n",
    "    print (st)\n",
    "if __name__ == \"__main__\":\n",
    "    main()"
   ]
  },
  {
   "cell_type": "code",
   "execution_count": 8,
   "id": "2d19bcea",
   "metadata": {},
   "outputs": [
    {
     "name": "stdout",
     "output_type": "stream",
     "text": [
      "x is greater than y\n"
     ]
    }
   ],
   "source": [
    "# solution\n",
    "def main():\n",
    "    x,y =8,4\n",
    "    if(x < y):\n",
    "        st= \"x is less than y\"\n",
    "    else:\n",
    "        st= \"x is greater than y\"\n",
    "    print (st)\n",
    "if __name__ == \"__main__\":\n",
    "    main()"
   ]
  },
  {
   "cell_type": "code",
   "execution_count": null,
   "id": "bba107b5",
   "metadata": {},
   "outputs": [],
   "source": []
  }
 ],
 "metadata": {
  "kernelspec": {
   "display_name": "Python 3 (ipykernel)",
   "language": "python",
   "name": "python3"
  },
  "language_info": {
   "codemirror_mode": {
    "name": "ipython",
    "version": 3
   },
   "file_extension": ".py",
   "mimetype": "text/x-python",
   "name": "python",
   "nbconvert_exporter": "python",
   "pygments_lexer": "ipython3",
   "version": "3.9.12"
  }
 },
 "nbformat": 4,
 "nbformat_minor": 5
}
