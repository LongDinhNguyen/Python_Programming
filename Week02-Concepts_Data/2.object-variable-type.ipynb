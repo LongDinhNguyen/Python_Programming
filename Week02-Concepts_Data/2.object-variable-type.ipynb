{
 "cells": [
  {
   "cell_type": "code",
   "execution_count": 1,
   "id": "219a3fa3",
   "metadata": {},
   "outputs": [
    {
     "name": "stdout",
     "output_type": "stream",
     "text": [
      "5\n",
      "3.4\n"
     ]
    }
   ],
   "source": [
    "# generate objects, variables\n",
    "so_a = 5 # integer number\n",
    "print(so_a)\n",
    "so_b = 3.4 # float number\n",
    "print(so_b)"
   ]
  },
  {
   "cell_type": "code",
   "execution_count": 2,
   "id": "6df65107",
   "metadata": {},
   "outputs": [],
   "source": [
    "# generate boolean variable\n",
    "finish = True\n",
    "\n",
    "not_finish = False"
   ]
  },
  {
   "cell_type": "code",
   "execution_count": 3,
   "id": "555d32cf",
   "metadata": {},
   "outputs": [
    {
     "name": "stdout",
     "output_type": "stream",
     "text": [
      "chao lop DH21HM\n"
     ]
    }
   ],
   "source": [
    "# generate string\n",
    "message = \"chao lop DH21HM\"\n",
    "print(message)"
   ]
  },
  {
   "cell_type": "code",
   "execution_count": 8,
   "id": "7003b546",
   "metadata": {},
   "outputs": [
    {
     "data": {
      "text/plain": [
       "int"
      ]
     },
     "execution_count": 8,
     "metadata": {},
     "output_type": "execute_result"
    }
   ],
   "source": [
    "# check type of objects\n",
    "type(so_a)"
   ]
  },
  {
   "cell_type": "code",
   "execution_count": 9,
   "id": "baa71217",
   "metadata": {},
   "outputs": [
    {
     "data": {
      "text/plain": [
       "float"
      ]
     },
     "execution_count": 9,
     "metadata": {},
     "output_type": "execute_result"
    }
   ],
   "source": [
    "# check type of objects\n",
    "type(so_b)"
   ]
  },
  {
   "cell_type": "code",
   "execution_count": 10,
   "id": "c725f38e",
   "metadata": {},
   "outputs": [
    {
     "data": {
      "text/plain": [
       "bool"
      ]
     },
     "execution_count": 10,
     "metadata": {},
     "output_type": "execute_result"
    }
   ],
   "source": [
    "# check type of objects\n",
    "type(finish)"
   ]
  },
  {
   "cell_type": "code",
   "execution_count": 11,
   "id": "22e2ba5e",
   "metadata": {},
   "outputs": [
    {
     "data": {
      "text/plain": [
       "str"
      ]
     },
     "execution_count": 11,
     "metadata": {},
     "output_type": "execute_result"
    }
   ],
   "source": [
    "# check type of objects\n",
    "type(message)"
   ]
  },
  {
   "cell_type": "code",
   "execution_count": null,
   "id": "0e9482f6",
   "metadata": {},
   "outputs": [],
   "source": []
  }
 ],
 "metadata": {
  "kernelspec": {
   "display_name": "Python 3 (ipykernel)",
   "language": "python",
   "name": "python3"
  },
  "language_info": {
   "codemirror_mode": {
    "name": "ipython",
    "version": 3
   },
   "file_extension": ".py",
   "mimetype": "text/x-python",
   "name": "python",
   "nbconvert_exporter": "python",
   "pygments_lexer": "ipython3",
   "version": "3.9.12"
  }
 },
 "nbformat": 4,
 "nbformat_minor": 5
}
