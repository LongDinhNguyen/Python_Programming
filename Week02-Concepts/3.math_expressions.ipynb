{
 "cells": [
  {
   "cell_type": "code",
   "execution_count": 1,
   "id": "9a86cbdf",
   "metadata": {},
   "outputs": [],
   "source": [
    "import math"
   ]
  },
  {
   "cell_type": "code",
   "execution_count": 3,
   "id": "d3db5c24",
   "metadata": {},
   "outputs": [
    {
     "name": "stdout",
     "output_type": "stream",
     "text": [
      "ket qua phep tinh:  151.0\n"
     ]
    }
   ],
   "source": [
    "phep_tinh = 3*(2**5 - 12/4) + 4**3\n",
    "print(\"ket qua phep tinh: \", phep_tinh)"
   ]
  },
  {
   "cell_type": "code",
   "execution_count": 4,
   "id": "f8b82851",
   "metadata": {},
   "outputs": [
    {
     "data": {
      "text/plain": [
       "True"
      ]
     },
     "execution_count": 4,
     "metadata": {},
     "output_type": "execute_result"
    }
   ],
   "source": [
    "# boolean expressions\n",
    "# using operators: ==, !=, <, >, <=, >= \n",
    "3 < 5"
   ]
  },
  {
   "cell_type": "code",
   "execution_count": 7,
   "id": "6447f8c8",
   "metadata": {},
   "outputs": [
    {
     "data": {
      "text/plain": [
       "True"
      ]
     },
     "execution_count": 7,
     "metadata": {},
     "output_type": "execute_result"
    }
   ],
   "source": [
    "\"nguyen_van_a\" < \"van_a\""
   ]
  },
  {
   "cell_type": "code",
   "execution_count": 8,
   "id": "65e5c5ae",
   "metadata": {},
   "outputs": [
    {
     "data": {
      "text/plain": [
       "False"
      ]
     },
     "execution_count": 8,
     "metadata": {},
     "output_type": "execute_result"
    }
   ],
   "source": [
    "27 == 14"
   ]
  },
  {
   "cell_type": "code",
   "execution_count": 9,
   "id": "55629ce4",
   "metadata": {},
   "outputs": [
    {
     "data": {
      "text/plain": [
       "False"
      ]
     },
     "execution_count": 9,
     "metadata": {},
     "output_type": "execute_result"
    }
   ],
   "source": [
    "3.14 != 3.14"
   ]
  },
  {
   "cell_type": "code",
   "execution_count": null,
   "id": "ae8082cf",
   "metadata": {},
   "outputs": [],
   "source": []
  }
 ],
 "metadata": {
  "kernelspec": {
   "display_name": "Python 3 (ipykernel)",
   "language": "python",
   "name": "python3"
  },
  "language_info": {
   "codemirror_mode": {
    "name": "ipython",
    "version": 3
   },
   "file_extension": ".py",
   "mimetype": "text/x-python",
   "name": "python",
   "nbconvert_exporter": "python",
   "pygments_lexer": "ipython3",
   "version": "3.9.12"
  }
 },
 "nbformat": 4,
 "nbformat_minor": 5
}
