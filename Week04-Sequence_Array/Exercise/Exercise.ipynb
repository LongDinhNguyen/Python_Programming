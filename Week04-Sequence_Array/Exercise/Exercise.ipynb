{
 "cells": [
  {
   "cell_type": "code",
   "execution_count": 32,
   "id": "6876616b",
   "metadata": {},
   "outputs": [],
   "source": [
    "import pandas\n",
    "import numpy\n",
    "import time"
   ]
  },
  {
   "cell_type": "code",
   "execution_count": 33,
   "id": "d9f45b23",
   "metadata": {},
   "outputs": [
    {
     "data": {
      "text/html": [
       "<div>\n",
       "<style scoped>\n",
       "    .dataframe tbody tr th:only-of-type {\n",
       "        vertical-align: middle;\n",
       "    }\n",
       "\n",
       "    .dataframe tbody tr th {\n",
       "        vertical-align: top;\n",
       "    }\n",
       "\n",
       "    .dataframe thead th {\n",
       "        text-align: right;\n",
       "    }\n",
       "</style>\n",
       "<table border=\"1\" class=\"dataframe\">\n",
       "  <thead>\n",
       "    <tr style=\"text-align: right;\">\n",
       "      <th></th>\n",
       "      <th>NOC</th>\n",
       "      <th>Gold</th>\n",
       "      <th>Silver</th>\n",
       "      <th>Bronze</th>\n",
       "      <th>Total</th>\n",
       "    </tr>\n",
       "  </thead>\n",
       "  <tbody>\n",
       "    <tr>\n",
       "      <th>0</th>\n",
       "      <td>Austria</td>\n",
       "      <td>5</td>\n",
       "      <td>3</td>\n",
       "      <td>6</td>\n",
       "      <td>14</td>\n",
       "    </tr>\n",
       "    <tr>\n",
       "      <th>1</th>\n",
       "      <td>Canada</td>\n",
       "      <td>11</td>\n",
       "      <td>8</td>\n",
       "      <td>10</td>\n",
       "      <td>29</td>\n",
       "    </tr>\n",
       "    <tr>\n",
       "      <th>2</th>\n",
       "      <td>France</td>\n",
       "      <td>5</td>\n",
       "      <td>4</td>\n",
       "      <td>6</td>\n",
       "      <td>15</td>\n",
       "    </tr>\n",
       "    <tr>\n",
       "      <th>3</th>\n",
       "      <td>Germany</td>\n",
       "      <td>14</td>\n",
       "      <td>10</td>\n",
       "      <td>7</td>\n",
       "      <td>31</td>\n",
       "    </tr>\n",
       "    <tr>\n",
       "      <th>4</th>\n",
       "      <td>Italy</td>\n",
       "      <td>3</td>\n",
       "      <td>2</td>\n",
       "      <td>5</td>\n",
       "      <td>10</td>\n",
       "    </tr>\n",
       "  </tbody>\n",
       "</table>\n",
       "</div>"
      ],
      "text/plain": [
       "       NOC  Gold  Silver  Bronze  Total\n",
       "0  Austria     5       3       6     14\n",
       "1   Canada    11       8      10     29\n",
       "2   France     5       4       6     15\n",
       "3  Germany    14      10       7     31\n",
       "4    Italy     3       2       5     10"
      ]
     },
     "execution_count": 33,
     "metadata": {},
     "output_type": "execute_result"
    }
   ],
   "source": [
    "# data_read = pandas.read_csv('x-ANACONDA/NLU-DH21HM/Week04-Sequence_Array/Exercise/IP04-exercise.csv')\n",
    "data_read = pandas.read_csv('IP04-exercise.csv')\n",
    "data_read.head()\n",
    "# print(data_read.head())\n",
    "# data_read.info()"
   ]
  },
  {
   "cell_type": "code",
   "execution_count": 34,
   "id": "810c4aa0",
   "metadata": {},
   "outputs": [],
   "source": [
    "countries = data_read[['NOC']]\n",
    "# countries\n",
    "gold = data_read[['Gold']]\n",
    "# gold\n",
    "silver = data_read[['Silver']]\n",
    "# silver\n",
    "bronze = data_read[['Bronze']]\n",
    "# bronze"
   ]
  },
  {
   "cell_type": "code",
   "execution_count": 64,
   "id": "537fd656",
   "metadata": {},
   "outputs": [
    {
     "name": "stdout",
     "output_type": "stream",
     "text": [
      "['Austria' 'Canada' 'France' 'Germany' 'Italy' 'Japan' 'Netherlands'\n",
      " 'Norway' 'Russia' 'South Korea' 'Sweden' 'Swizerland' 'United State']\n",
      "[ 5 11  5 14  3  4  8 14  2  5  7  5  9]\n",
      "[ 3  8  4 10  2  5  6 14  6  8  6  6  8]\n",
      "[ 6 10  6  7  5  4  6 11  9  4  1  4  6]\n"
     ]
    }
   ],
   "source": [
    "countries = data_read.NOC.values\n",
    "print(countries)\n",
    "gold = data_read.Gold.values\n",
    "print(gold)\n",
    "silver = data_read.Silver.values\n",
    "print(silver)\n",
    "bronze = data_read.Bronze.values\n",
    "print(bronze)"
   ]
  },
  {
   "cell_type": "code",
   "execution_count": 66,
   "id": "3e888bcb",
   "metadata": {},
   "outputs": [],
   "source": [
    "gold_sum = []\n",
    "def medal_compute(gold, silver, bronze):\n",
    "    for i in range(len(gold)):\n",
    "        gold_sum.append(gold[i] + silver[i]/2 + bronze[i]/3)\n",
    "    return gold_sum\n",
    "\n",
    "# gold_sum = numpy.random.random(len(gold))\n",
    "# def medal_compute(gold, silver, bronze):\n",
    "#     for i in range(len(gold)):\n",
    "#         gold_sum[i] = gold[i] + silver[i]/2 + bronze[i]/3\n",
    "#     return gold_sum"
   ]
  },
  {
   "cell_type": "code",
   "execution_count": 67,
   "id": "b6c2bdf2",
   "metadata": {},
   "outputs": [
    {
     "data": {
      "text/plain": [
       "array([ 8.5 , 18.33,  9.  , 21.33,  5.67,  7.83, 13.  , 24.67,  8.  ,\n",
       "       10.33, 10.33,  9.33, 15.  ])"
      ]
     },
     "execution_count": 67,
     "metadata": {},
     "output_type": "execute_result"
    }
   ],
   "source": [
    "medal_sum = medal_compute(gold, silver, bronze)\n",
    "medal_sum = numpy.round(medal_sum, 2)\n",
    "medal_sum"
   ]
  },
  {
   "cell_type": "code",
   "execution_count": 80,
   "id": "b234dd08",
   "metadata": {},
   "outputs": [],
   "source": [
    "sort_list = []\n",
    "for i in range(len(countries)):\n",
    "#     sort_list.append((countries[i], medal_sum[i]))\n",
    "    sort_list.append((medal_sum[i], countries[i]))\n",
    "# sort_list"
   ]
  },
  {
   "cell_type": "code",
   "execution_count": 83,
   "id": "d087c332",
   "metadata": {},
   "outputs": [
    {
     "data": {
      "text/plain": [
       "[(5.67, 'Italy'),\n",
       " (7.83, 'Japan'),\n",
       " (8.0, 'Russia'),\n",
       " (8.5, 'Austria'),\n",
       " (9.0, 'France'),\n",
       " (9.33, 'Swizerland'),\n",
       " (10.33, 'South Korea'),\n",
       " (10.33, 'Sweden'),\n",
       " (13.0, 'Netherlands'),\n",
       " (15.0, 'United State'),\n",
       " (18.33, 'Canada'),\n",
       " (21.33, 'Germany'),\n",
       " (24.67, 'Norway')]"
      ]
     },
     "execution_count": 83,
     "metadata": {},
     "output_type": "execute_result"
    }
   ],
   "source": [
    "sort_list.sort()\n",
    "sort_list"
   ]
  },
  {
   "cell_type": "code",
   "execution_count": 84,
   "id": "fc0601a0",
   "metadata": {},
   "outputs": [
    {
     "name": "stdout",
     "output_type": "stream",
     "text": [
      "[(18.33, 'Canada'), (21.33, 'Germany'), (24.67, 'Norway')]\n"
     ]
    }
   ],
   "source": [
    "end_list = len(sort_list)\n",
    "rank_123 = sort_list[(end_list-3):end_list]\n",
    "print(rank_123)"
   ]
  },
  {
   "cell_type": "code",
   "execution_count": 88,
   "id": "fdff0fcc",
   "metadata": {},
   "outputs": [
    {
     "name": "stdout",
     "output_type": "stream",
     "text": [
      "Country with 3rd ranking:  [(18.33, 'Canada')]\n",
      "Country with 2nd ranking:  [(21.33, 'Germany')]\n",
      "Country with 1st ranking:  [(24.67, 'Norway')]\n"
     ]
    }
   ],
   "source": [
    "print(\"Country with 3rd ranking: \", sort_list[(end_list-3):(end_list-2)])\n",
    "print(\"Country with 2nd ranking: \", sort_list[(end_list-2):(end_list-1)])\n",
    "print(\"Country with 1st ranking: \", sort_list[(end_list-1):(end_list-0)])"
   ]
  },
  {
   "cell_type": "code",
   "execution_count": 103,
   "id": "2acebb51",
   "metadata": {},
   "outputs": [],
   "source": [
    "dict_save = {'rank': rank_123}\n",
    "# pandas.DataFrame(dict_save).to_csv('IP04-exercise-save.csv')\n",
    "pandas.DataFrame(dict_save).to_csv('IP04-exercise-save.csv', header=True, index=False)"
   ]
  },
  {
   "cell_type": "code",
   "execution_count": null,
   "id": "df2a0b29",
   "metadata": {},
   "outputs": [],
   "source": []
  }
 ],
 "metadata": {
  "kernelspec": {
   "display_name": "Python 3 (ipykernel)",
   "language": "python",
   "name": "python3"
  },
  "language_info": {
   "codemirror_mode": {
    "name": "ipython",
    "version": 3
   },
   "file_extension": ".py",
   "mimetype": "text/x-python",
   "name": "python",
   "nbconvert_exporter": "python",
   "pygments_lexer": "ipython3",
   "version": "3.9.12"
  }
 },
 "nbformat": 4,
 "nbformat_minor": 5
}
