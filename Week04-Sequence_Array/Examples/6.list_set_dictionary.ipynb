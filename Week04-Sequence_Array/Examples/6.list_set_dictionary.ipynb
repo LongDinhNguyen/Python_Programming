{
 "cells": [
  {
   "cell_type": "code",
   "execution_count": 1,
   "id": "03cb587d",
   "metadata": {},
   "outputs": [],
   "source": [
    "import time"
   ]
  },
  {
   "cell_type": "code",
   "execution_count": 9,
   "id": "8081cd8d",
   "metadata": {},
   "outputs": [],
   "source": [
    "large_list = list(range(1000000))"
   ]
  },
  {
   "cell_type": "code",
   "execution_count": 10,
   "id": "b1f3627a",
   "metadata": {},
   "outputs": [],
   "source": [
    "large_set = set(large_list)"
   ]
  },
  {
   "cell_type": "code",
   "execution_count": 17,
   "id": "2f7f6508",
   "metadata": {},
   "outputs": [],
   "source": [
    "def func_test_list(start_time):\n",
    "    for num in range(10000):\n",
    "        if num not in large_list:\n",
    "            print(\"what?\")\n",
    "    print(\"Running time for list: %f seconds\" % (time.time()-start_time))\n",
    "    \n",
    "def func_test_set(start_time):\n",
    "    for num in range(10000):\n",
    "        if num not in large_set:\n",
    "            print(\"what?\")\n",
    "    print(\"Running time for set: %f seconds\" % (time.time()-start_time))"
   ]
  },
  {
   "cell_type": "code",
   "execution_count": 19,
   "id": "d0f2aa6e",
   "metadata": {},
   "outputs": [
    {
     "name": "stdout",
     "output_type": "stream",
     "text": [
      "Running time for list: 0.356006 seconds\n"
     ]
    }
   ],
   "source": [
    "start_time = time.time()\n",
    "func_test_list(start_time)\n",
    "# func_test_set(start_time)"
   ]
  },
  {
   "cell_type": "code",
   "execution_count": null,
   "id": "122d4789",
   "metadata": {},
   "outputs": [],
   "source": []
  }
 ],
 "metadata": {
  "kernelspec": {
   "display_name": "Python 3 (ipykernel)",
   "language": "python",
   "name": "python3"
  },
  "language_info": {
   "codemirror_mode": {
    "name": "ipython",
    "version": 3
   },
   "file_extension": ".py",
   "mimetype": "text/x-python",
   "name": "python",
   "nbconvert_exporter": "python",
   "pygments_lexer": "ipython3",
   "version": "3.9.12"
  }
 },
 "nbformat": 4,
 "nbformat_minor": 5
}
