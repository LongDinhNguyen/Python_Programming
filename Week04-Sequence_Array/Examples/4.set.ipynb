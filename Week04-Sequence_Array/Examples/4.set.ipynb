{
 "cells": [
  {
   "cell_type": "code",
   "execution_count": 4,
   "id": "bf8215f8",
   "metadata": {},
   "outputs": [],
   "source": [
    "countries = [\"Austria\", \"Canada\", \"France\", \"Germany\", \"Italy\", \"Japan\", \"Netherlands\", \"Norway\", \"Russia\", \"South Korea\", \n",
    "             \"Sweden\", \"Swizerland\", \"United State\"]\n",
    "gold = [5, 11, 5, 14, 3, 4, 8, 14, 2, 5, 7, 5, 9]\n",
    "silver = [3, 8, 4, 10, 2, 5, 6, 14, 6, 8, 6, 6, 8]\n",
    "bronze = [6, 10, 6, 7, 5, 4, 6, 11, 9, 4, 1, 4, 6]"
   ]
  },
  {
   "cell_type": "code",
   "execution_count": 1,
   "id": "c3253943",
   "metadata": {},
   "outputs": [],
   "source": [
    "odds = {1, 3, 5, 7, 9}"
   ]
  },
  {
   "cell_type": "code",
   "execution_count": 2,
   "id": "5abe657a",
   "metadata": {},
   "outputs": [
    {
     "data": {
      "text/plain": [
       "{1, 3, 5, 7, 9}"
      ]
     },
     "execution_count": 2,
     "metadata": {},
     "output_type": "execute_result"
    }
   ],
   "source": [
    "odds"
   ]
  },
  {
   "cell_type": "code",
   "execution_count": 3,
   "id": "c92ce965",
   "metadata": {},
   "outputs": [
    {
     "data": {
      "text/plain": [
       "set()"
      ]
     },
     "execution_count": 3,
     "metadata": {},
     "output_type": "execute_result"
    }
   ],
   "source": [
    "set()"
   ]
  },
  {
   "cell_type": "code",
   "execution_count": 6,
   "id": "10540f0b",
   "metadata": {},
   "outputs": [
    {
     "data": {
      "text/plain": [
       "{2, 3, 4, 5, 7, 8, 9, 11, 14}"
      ]
     },
     "execution_count": 6,
     "metadata": {},
     "output_type": "execute_result"
    }
   ],
   "source": [
    "goldset = set(gold)\n",
    "goldset"
   ]
  },
  {
   "cell_type": "code",
   "execution_count": 9,
   "id": "971d31fd",
   "metadata": {},
   "outputs": [
    {
     "data": {
      "text/plain": [
       "True"
      ]
     },
     "execution_count": 9,
     "metadata": {},
     "output_type": "execute_result"
    }
   ],
   "source": [
    "3 in goldset"
   ]
  },
  {
   "cell_type": "code",
   "execution_count": 13,
   "id": "a887d8fe",
   "metadata": {},
   "outputs": [],
   "source": [
    "for num in goldset:\n",
    "    num\n",
    "#     print(num)"
   ]
  },
  {
   "cell_type": "code",
   "execution_count": null,
   "id": "1b1d1092",
   "metadata": {},
   "outputs": [],
   "source": []
  },
  {
   "cell_type": "code",
   "execution_count": null,
   "id": "439a5c98",
   "metadata": {},
   "outputs": [],
   "source": []
  }
 ],
 "metadata": {
  "kernelspec": {
   "display_name": "Python 3 (ipykernel)",
   "language": "python",
   "name": "python3"
  },
  "language_info": {
   "codemirror_mode": {
    "name": "ipython",
    "version": 3
   },
   "file_extension": ".py",
   "mimetype": "text/x-python",
   "name": "python",
   "nbconvert_exporter": "python",
   "pygments_lexer": "ipython3",
   "version": "3.9.12"
  }
 },
 "nbformat": 4,
 "nbformat_minor": 5
}
