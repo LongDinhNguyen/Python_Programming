{
 "cells": [
  {
   "cell_type": "code",
   "execution_count": 1,
   "id": "c23f605a",
   "metadata": {},
   "outputs": [],
   "source": [
    "majors = {\n",
    "    \"CS\": \"Computer Science\",\n",
    "    \"EE\": \"Electrical Engineering\",\n",
    "    \"MS\": \"Mathematical Sciences\",\n",
    "    \"ME\": \"Machanical Engineering\"\n",
    "}"
   ]
  },
  {
   "cell_type": "code",
   "execution_count": 3,
   "id": "4b563c6e",
   "metadata": {},
   "outputs": [],
   "source": [
    "# majors"
   ]
  },
  {
   "cell_type": "code",
   "execution_count": 4,
   "id": "40ceee7c",
   "metadata": {},
   "outputs": [],
   "source": [
    "majors[\"PE\"] = \"Physical Engineering\""
   ]
  },
  {
   "cell_type": "code",
   "execution_count": 5,
   "id": "15a5abfc",
   "metadata": {},
   "outputs": [
    {
     "data": {
      "text/plain": [
       "{'CS': 'Computer Science',\n",
       " 'EE': 'Electrical Engineering',\n",
       " 'MS': 'Mathematical Sciences',\n",
       " 'ME': 'Machanical Engineering',\n",
       " 'PE': 'Physical Engineering'}"
      ]
     },
     "execution_count": 5,
     "metadata": {},
     "output_type": "execute_result"
    }
   ],
   "source": [
    "majors"
   ]
  },
  {
   "cell_type": "code",
   "execution_count": null,
   "id": "3faea88d",
   "metadata": {},
   "outputs": [],
   "source": []
  }
 ],
 "metadata": {
  "kernelspec": {
   "display_name": "Python 3 (ipykernel)",
   "language": "python",
   "name": "python3"
  },
  "language_info": {
   "codemirror_mode": {
    "name": "ipython",
    "version": 3
   },
   "file_extension": ".py",
   "mimetype": "text/x-python",
   "name": "python",
   "nbconvert_exporter": "python",
   "pygments_lexer": "ipython3",
   "version": "3.9.12"
  }
 },
 "nbformat": 4,
 "nbformat_minor": 5
}
