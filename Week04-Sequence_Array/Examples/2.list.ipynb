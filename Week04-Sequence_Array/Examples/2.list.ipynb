{
 "cells": [
  {
   "cell_type": "code",
   "execution_count": 1,
   "id": "09d0e821",
   "metadata": {},
   "outputs": [],
   "source": [
    "import math"
   ]
  },
  {
   "cell_type": "code",
   "execution_count": 17,
   "id": "88a457fe",
   "metadata": {},
   "outputs": [],
   "source": [
    "countries = [\"Austria\", \"Canada\", \"France\", \"Germany\", \"Italy\", \"Japan\", \"Netherlands\", \"Norway\", \"Russia\", \"South Korea\", \n",
    "             \"Sweden\", \"Swizerland\", \"United State\"]\n",
    "gold = [5, 11, 5, 14, 3, 4, 8, 14, 2, 5, 7, 5, 9]\n",
    "silver = [3, 8, 4, 10, 2, 5, 6, 14, 6, 8, 6, 6, 8]\n",
    "bronze = [6, 10, 6, 7, 5, 4, 6, 11, 9, 4, 1, 4, 6]"
   ]
  },
  {
   "cell_type": "code",
   "execution_count": 3,
   "id": "d367fcef",
   "metadata": {},
   "outputs": [
    {
     "data": {
      "text/plain": [
       "13"
      ]
     },
     "execution_count": 3,
     "metadata": {},
     "output_type": "execute_result"
    }
   ],
   "source": [
    "# list properties\n",
    "len(countries)"
   ]
  },
  {
   "cell_type": "code",
   "execution_count": 4,
   "id": "5ffbf5f4",
   "metadata": {},
   "outputs": [],
   "source": [
    "# list mutable\n",
    "nobles = ['helium', 'none', 'argon', 'krypton', 'xenon']"
   ]
  },
  {
   "cell_type": "code",
   "execution_count": 5,
   "id": "59d39862",
   "metadata": {},
   "outputs": [],
   "source": [
    "# list aliasing\n",
    "list1 = [\"A\", \"B\", \"C\"]"
   ]
  },
  {
   "cell_type": "code",
   "execution_count": 9,
   "id": "f75dd17d",
   "metadata": {},
   "outputs": [
    {
     "name": "stdout",
     "output_type": "stream",
     "text": [
      "13\n",
      "92\n"
     ]
    }
   ],
   "source": [
    "# list built-in function\n",
    "print(len(gold))\n",
    "print(sum(gold))"
   ]
  },
  {
   "cell_type": "code",
   "execution_count": 10,
   "id": "19a78519",
   "metadata": {},
   "outputs": [
    {
     "name": "stdout",
     "output_type": "stream",
     "text": [
      "Austria\n",
      "Canada\n",
      "France\n",
      "Germany\n",
      "Italy\n",
      "Japan\n",
      "Netherlands\n",
      "Norway\n",
      "Russia\n",
      "South Korea\n",
      "Sweden\n",
      "Swizerland\n",
      "United State\n"
     ]
    }
   ],
   "source": [
    "# list traversing\n",
    "for country in countries:\n",
    "    print(country)"
   ]
  },
  {
   "cell_type": "code",
   "execution_count": 12,
   "id": "c1eca203",
   "metadata": {},
   "outputs": [
    {
     "name": "stdout",
     "output_type": "stream",
     "text": [
      "Austria 5 3 6 14\n",
      "Canada 11 8 10 29\n",
      "France 5 4 6 15\n",
      "Germany 14 10 7 31\n",
      "Italy 3 2 5 10\n",
      "Japan 4 5 4 13\n",
      "Netherlands 8 6 6 20\n",
      "Norway 14 14 11 39\n",
      "Russia 2 6 9 17\n",
      "South Korea 5 8 4 17\n",
      "Sweden 7 6 1 14\n",
      "Swizerland 5 6 4 15\n",
      "United State 9 8 6 23\n"
     ]
    }
   ],
   "source": [
    "for i in range(len(countries)):\n",
    "    print(countries[i], gold[i],silver[i],bronze[i], gold[i]+silver[i]+bronze[i])"
   ]
  },
  {
   "cell_type": "code",
   "execution_count": 26,
   "id": "a60c7aee",
   "metadata": {},
   "outputs": [
    {
     "data": {
      "text/plain": [
       "[(9, 'Austria'),\n",
       " (5, 'Canada'),\n",
       " (7, 'France'),\n",
       " (5, 'Germany'),\n",
       " (2, 'Italy'),\n",
       " (14, 'Japan'),\n",
       " (8, 'Netherlands'),\n",
       " (4, 'Norway'),\n",
       " (3, 'Russia'),\n",
       " (14, 'South Korea'),\n",
       " (5, 'Sweden'),\n",
       " (11, 'Swizerland'),\n",
       " (5, 'United State')]"
      ]
     },
     "execution_count": 26,
     "metadata": {},
     "output_type": "execute_result"
    }
   ],
   "source": [
    "totals = []\n",
    "for i in range(len(countries)):\n",
    "    medals = gold[i]\n",
    "    totals.append((medals, countries[i]))\n",
    "totals"
   ]
  },
  {
   "cell_type": "code",
   "execution_count": 20,
   "id": "a72c4752",
   "metadata": {},
   "outputs": [],
   "source": [
    "# list sorting\n",
    "ta = [\"Changmin\", \"Jeongmin\", \"Kyeongdeok\", \"Taesik\", \"Kyuho\", \"Sumin\"]"
   ]
  },
  {
   "cell_type": "code",
   "execution_count": 24,
   "id": "b143c9f6",
   "metadata": {},
   "outputs": [
    {
     "data": {
      "text/plain": [
       "['Canada', 'France']"
      ]
     },
     "execution_count": 24,
     "metadata": {},
     "output_type": "execute_result"
    }
   ],
   "source": [
    "# list slicing\n",
    "sublist = countries[1:3]\n",
    "sublist"
   ]
  },
  {
   "cell_type": "code",
   "execution_count": 27,
   "id": "b84c8d43",
   "metadata": {},
   "outputs": [
    {
     "data": {
      "text/plain": [
       "[(5, 'United State'),\n",
       " (11, 'Swizerland'),\n",
       " (5, 'Sweden'),\n",
       " (14, 'South Korea'),\n",
       " (3, 'Russia'),\n",
       " (4, 'Norway'),\n",
       " (8, 'Netherlands'),\n",
       " (14, 'Japan'),\n",
       " (2, 'Italy'),\n",
       " (5, 'Germany'),\n",
       " (7, 'France'),\n",
       " (5, 'Canada'),\n",
       " (9, 'Austria')]"
      ]
     },
     "execution_count": 27,
     "metadata": {},
     "output_type": "execute_result"
    }
   ],
   "source": [
    "# list reversing\n",
    "totals.reverse()\n",
    "totals"
   ]
  },
  {
   "cell_type": "code",
   "execution_count": 28,
   "id": "64e788d2",
   "metadata": {},
   "outputs": [],
   "source": [
    "# list selecting\n",
    "def no_medals(countries, al, bl):\n",
    "    result = []\n",
    "    for i in range(len(countries)):\n",
    "        if al[i] == 0 and bl[i] == 0:\n",
    "            result.append(countries[i])\n",
    "    return result  "
   ]
  },
  {
   "cell_type": "code",
   "execution_count": null,
   "id": "b4e88584",
   "metadata": {},
   "outputs": [],
   "source": []
  }
 ],
 "metadata": {
  "celltoolbar": "Raw Cell Format",
  "kernelspec": {
   "display_name": "Python 3 (ipykernel)",
   "language": "python",
   "name": "python3"
  },
  "language_info": {
   "codemirror_mode": {
    "name": "ipython",
    "version": 3
   },
   "file_extension": ".py",
   "mimetype": "text/x-python",
   "name": "python",
   "nbconvert_exporter": "python",
   "pygments_lexer": "ipython3",
   "version": "3.9.12"
  }
 },
 "nbformat": 4,
 "nbformat_minor": 5
}
