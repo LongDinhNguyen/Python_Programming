{
 "cells": [
  {
   "cell_type": "code",
   "execution_count": null,
   "id": "09d0e821",
   "metadata": {},
   "outputs": [],
   "source": []
  },
  {
   "cell_type": "code",
   "execution_count": 1,
   "id": "88a457fe",
   "metadata": {},
   "outputs": [],
   "source": [
    "countries = [\"Austria\", \"Canada\", \"France\", \"Germany\", \"Italy\", \"Japan\", \"Netherlands\", \"Norway\", \"Russia\", \"South Korea\", \n",
    "             \"Sweden\", \"Swizerland\", \"United State\"]\n",
    "gold = [5, 11, 5, 14, 3, 4, 8, 14, 2, 5, 7, 5, 9]\n",
    "silver = [3, 8, 4, 10, 2, 5, 6, 14, 6, 8, 6, 6, 8]\n",
    "bronze = [6, 10, 6, 7, 5, 4, 6, 11, 9, 4, 1, 4, 6]"
   ]
  },
  {
   "cell_type": "code",
   "execution_count": null,
   "id": "d367fcef",
   "metadata": {},
   "outputs": [],
   "source": []
  }
 ],
 "metadata": {
  "celltoolbar": "Raw Cell Format",
  "kernelspec": {
   "display_name": "Python 3 (ipykernel)",
   "language": "python",
   "name": "python3"
  },
  "language_info": {
   "codemirror_mode": {
    "name": "ipython",
    "version": 3
   },
   "file_extension": ".py",
   "mimetype": "text/x-python",
   "name": "python",
   "nbconvert_exporter": "python",
   "pygments_lexer": "ipython3",
   "version": "3.9.12"
  }
 },
 "nbformat": 4,
 "nbformat_minor": 5
}
