{
 "cells": [
  {
   "cell_type": "code",
   "execution_count": 1,
   "id": "7c57dcc6",
   "metadata": {},
   "outputs": [],
   "source": [
    "import numpy as np"
   ]
  },
  {
   "cell_type": "code",
   "execution_count": 2,
   "id": "007d69ab",
   "metadata": {},
   "outputs": [
    {
     "name": "stdout",
     "output_type": "stream",
     "text": [
      "[0 1 2 3 4 5]\n"
     ]
    }
   ],
   "source": [
    "arr1 = np.arange(6)\n",
    "print(arr1)"
   ]
  },
  {
   "cell_type": "code",
   "execution_count": 3,
   "id": "62d49820",
   "metadata": {},
   "outputs": [
    {
     "name": "stdout",
     "output_type": "stream",
     "text": [
      "[[0 1]\n",
      " [2 3]\n",
      " [4 5]]\n"
     ]
    }
   ],
   "source": [
    "arr1 = np.arange(6).reshape(3,2)\n",
    "print(arr1)"
   ]
  },
  {
   "cell_type": "code",
   "execution_count": 5,
   "id": "11980b0b",
   "metadata": {},
   "outputs": [
    {
     "data": {
      "text/plain": [
       "array([[1, 0, 0],\n",
       "       [0, 0, 0],\n",
       "       [0, 0, 3]])"
      ]
     },
     "execution_count": 5,
     "metadata": {},
     "output_type": "execute_result"
    }
   ],
   "source": [
    "arr = np.array([[1, 0, 0], [0,0,0], [0,0,3]])\n",
    "arr"
   ]
  },
  {
   "cell_type": "code",
   "execution_count": 16,
   "id": "93416834",
   "metadata": {},
   "outputs": [
    {
     "name": "stdout",
     "output_type": "stream",
     "text": [
      "[[0.02485729 0.21341185 0.20973404]\n",
      " [0.87399679 0.88871006 0.59291031]]\n",
      "[[0.48472597 0.13827441 0.12827444]\n",
      " [0.5339554  0.63681073 0.33538177]]\n",
      "[[0.50958326 0.35168626 0.33800849]\n",
      " [1.40795219 1.5255208  0.92829208]]\n",
      "[[0.50958326 0.35168626 0.33800849]\n",
      " [1.40795219 1.5255208  0.92829208]]\n"
     ]
    }
   ],
   "source": [
    "mat_a = np.random.random((2,3))\n",
    "print(mat_a)\n",
    "mat_b = np.random.random((2,3))\n",
    "print(mat_b)\n",
    "mat_c = mat_a + mat_b\n",
    "print(mat_c)\n",
    "\n",
    "mat_c2 = np.add(mat_a, mat_b)\n",
    "print(mat_c2)"
   ]
  },
  {
   "cell_type": "code",
   "execution_count": 10,
   "id": "2a6e976b",
   "metadata": {},
   "outputs": [
    {
     "ename": "ValueError",
     "evalue": "operands could not be broadcast together with shapes (2,3) (3,3) ",
     "output_type": "error",
     "traceback": [
      "\u001b[1;31m---------------------------------------------------------------------------\u001b[0m",
      "\u001b[1;31mValueError\u001b[0m                                Traceback (most recent call last)",
      "Input \u001b[1;32mIn [10]\u001b[0m, in \u001b[0;36m<cell line: 3>\u001b[1;34m()\u001b[0m\n\u001b[0;32m      1\u001b[0m \u001b[38;5;66;03m# error with matrix size\u001b[39;00m\n\u001b[0;32m      2\u001b[0m mat_d \u001b[38;5;241m=\u001b[39m np\u001b[38;5;241m.\u001b[39mrandom\u001b[38;5;241m.\u001b[39mrandom((\u001b[38;5;241m3\u001b[39m,\u001b[38;5;241m3\u001b[39m))\n\u001b[1;32m----> 3\u001b[0m mat_e \u001b[38;5;241m=\u001b[39m \u001b[43mmat_a\u001b[49m\u001b[43m \u001b[49m\u001b[38;5;241;43m+\u001b[39;49m\u001b[43m \u001b[49m\u001b[43mmat_d\u001b[49m\n\u001b[0;32m      4\u001b[0m \u001b[38;5;28mprint\u001b[39m(mat_e)\n",
      "\u001b[1;31mValueError\u001b[0m: operands could not be broadcast together with shapes (2,3) (3,3) "
     ]
    }
   ],
   "source": [
    "# error with matrix size\n",
    "mat_d = np.random.random((3,3))\n",
    "mat_e = mat_a + mat_d\n",
    "print(mat_e)"
   ]
  },
  {
   "cell_type": "code",
   "execution_count": 13,
   "id": "4909b314",
   "metadata": {},
   "outputs": [
    {
     "name": "stdout",
     "output_type": "stream",
     "text": [
      "[[0.85351188 0.70472331]\n",
      " [1.07173446 1.30307539]]\n"
     ]
    }
   ],
   "source": [
    "mat_c = mat_a.dot(mat_b.T)\n",
    "print(mat_c)"
   ]
  },
  {
   "cell_type": "code",
   "execution_count": 15,
   "id": "7ce18a3d",
   "metadata": {},
   "outputs": [
    {
     "ename": "ValueError",
     "evalue": "shapes (2,3) and (2,3) not aligned: 3 (dim 1) != 2 (dim 0)",
     "output_type": "error",
     "traceback": [
      "\u001b[1;31m---------------------------------------------------------------------------\u001b[0m",
      "\u001b[1;31mValueError\u001b[0m                                Traceback (most recent call last)",
      "Input \u001b[1;32mIn [15]\u001b[0m, in \u001b[0;36m<cell line: 2>\u001b[1;34m()\u001b[0m\n\u001b[0;32m      1\u001b[0m \u001b[38;5;66;03m# error with matrix size\u001b[39;00m\n\u001b[1;32m----> 2\u001b[0m mat_c \u001b[38;5;241m=\u001b[39m \u001b[43mmat_a\u001b[49m\u001b[38;5;241;43m.\u001b[39;49m\u001b[43mdot\u001b[49m\u001b[43m(\u001b[49m\u001b[43mmat_b\u001b[49m\u001b[43m)\u001b[49m\n\u001b[0;32m      3\u001b[0m \u001b[38;5;28mprint\u001b[39m(mat_c)\n",
      "\u001b[1;31mValueError\u001b[0m: shapes (2,3) and (2,3) not aligned: 3 (dim 1) != 2 (dim 0)"
     ]
    }
   ],
   "source": [
    "# error with matrix size\n",
    "mat_c = mat_a.dot(mat_b)\n",
    "print(mat_c)"
   ]
  },
  {
   "cell_type": "code",
   "execution_count": 18,
   "id": "9fc2d01f",
   "metadata": {},
   "outputs": [
    {
     "name": "stdout",
     "output_type": "stream",
     "text": [
      "[[0.12428644 1.06705925 1.0486702 ]\n",
      " [4.36998394 4.44355031 2.96455154]]\n"
     ]
    }
   ],
   "source": [
    "mat_a2 = 5*mat_a\n",
    "print(mat_a2)"
   ]
  },
  {
   "cell_type": "code",
   "execution_count": 21,
   "id": "d68d0f56",
   "metadata": {},
   "outputs": [
    {
     "name": "stdout",
     "output_type": "stream",
     "text": [
      "[[0.97032259 0.04921482 0.79353168]\n",
      " [0.46719402 0.09984587 0.59460247]]\n",
      "0.49578524158518267\n",
      "0.11343567760742641\n",
      "0.33680213420853855\n"
     ]
    }
   ],
   "source": [
    "mat_i = np.random.random((2,3))\n",
    "print(mat_i)\n",
    "\n",
    "print(np.mean(mat_i))\n",
    "print(np.var(mat_i))\n",
    "print(np.std(mat_i))"
   ]
  },
  {
   "cell_type": "code",
   "execution_count": null,
   "id": "6e7cf128",
   "metadata": {},
   "outputs": [],
   "source": []
  }
 ],
 "metadata": {
  "kernelspec": {
   "display_name": "Python 3 (ipykernel)",
   "language": "python",
   "name": "python3"
  },
  "language_info": {
   "codemirror_mode": {
    "name": "ipython",
    "version": 3
   },
   "file_extension": ".py",
   "mimetype": "text/x-python",
   "name": "python",
   "nbconvert_exporter": "python",
   "pygments_lexer": "ipython3",
   "version": "3.9.12"
  }
 },
 "nbformat": 4,
 "nbformat_minor": 5
}
