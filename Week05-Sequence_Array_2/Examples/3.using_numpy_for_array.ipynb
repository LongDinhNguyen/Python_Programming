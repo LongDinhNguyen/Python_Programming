{
 "cells": [
  {
   "cell_type": "code",
   "execution_count": 2,
   "id": "a2a31675",
   "metadata": {},
   "outputs": [],
   "source": [
    "import numpy as np"
   ]
  },
  {
   "cell_type": "code",
   "execution_count": 4,
   "id": "cfacbebb",
   "metadata": {},
   "outputs": [
    {
     "data": {
      "text/plain": [
       "array([ 1,  3,  5,  7,  9, 11, 13, 15])"
      ]
     },
     "execution_count": 4,
     "metadata": {},
     "output_type": "execute_result"
    }
   ],
   "source": [
    "vector = np.array([1,3,5,7,9,11,13,15])\n",
    "vector"
   ]
  },
  {
   "cell_type": "code",
   "execution_count": 7,
   "id": "90ab2c36",
   "metadata": {},
   "outputs": [
    {
     "data": {
      "text/plain": [
       "array([ 1,  3,  5,  7,  9, 11, 13, 15])"
      ]
     },
     "execution_count": 7,
     "metadata": {},
     "output_type": "execute_result"
    }
   ],
   "source": [
    "vec_transpose = vector.T\n",
    "vec_transpose"
   ]
  },
  {
   "cell_type": "code",
   "execution_count": 5,
   "id": "2fa978a4",
   "metadata": {},
   "outputs": [
    {
     "data": {
      "text/plain": [
       "array([[ 1,  3,  5],\n",
       "       [ 7,  9, 11],\n",
       "       [13, 15, 17]])"
      ]
     },
     "execution_count": 5,
     "metadata": {},
     "output_type": "execute_result"
    }
   ],
   "source": [
    "matrix = np.array( [ [1,3,5], [7,9,11], [13,15,17] ] )\n",
    "matrix"
   ]
  },
  {
   "cell_type": "code",
   "execution_count": 8,
   "id": "02249c9f",
   "metadata": {},
   "outputs": [
    {
     "data": {
      "text/plain": [
       "array([[ 1,  7, 13],\n",
       "       [ 3,  9, 15],\n",
       "       [ 5, 11, 17]])"
      ]
     },
     "execution_count": 8,
     "metadata": {},
     "output_type": "execute_result"
    }
   ],
   "source": [
    "matrix_transpose = matrix.T\n",
    "matrix_transpose"
   ]
  },
  {
   "cell_type": "code",
   "execution_count": 6,
   "id": "b86eb3d0",
   "metadata": {},
   "outputs": [
    {
     "name": "stderr",
     "output_type": "stream",
     "text": [
      "C:\\Users\\dinhl\\AppData\\Local\\Temp\\ipykernel_18088\\2881831747.py:1: VisibleDeprecationWarning: Creating an ndarray from ragged nested sequences (which is a list-or-tuple of lists-or-tuples-or ndarrays with different lengths or shapes) is deprecated. If you meant to do this, you must specify 'dtype=object' when creating the ndarray.\n",
      "  matrix2 = np.array( [ [1,3,5], [7,9,11], [13,15,17,19] ] )\n"
     ]
    },
    {
     "data": {
      "text/plain": [
       "array([list([1, 3, 5]), list([7, 9, 11]), list([13, 15, 17, 19])],\n",
       "      dtype=object)"
      ]
     },
     "execution_count": 6,
     "metadata": {},
     "output_type": "execute_result"
    }
   ],
   "source": [
    "# error with size of matrix\n",
    "matrix2 = np.array( [ [1,3,5], [7,9,11], [13,15,17,19] ] )\n",
    "matrix2"
   ]
  },
  {
   "cell_type": "code",
   "execution_count": 12,
   "id": "2288e4d9",
   "metadata": {},
   "outputs": [
    {
     "name": "stdout",
     "output_type": "stream",
     "text": [
      "[[0.13563463 0.38755699 0.15519904 0.99662919]\n",
      " [0.71208985 0.41475593 0.99076433 0.91798074]\n",
      " [0.63168753 0.96849647 0.62357794 0.5704042 ]\n",
      " [0.83961853 0.46487818 0.84271211 0.40823876]\n",
      " [0.40088142 0.4106487  0.53997456 0.67075824]]\n",
      "[0.63168753 0.96849647 0.62357794 0.5704042 ]\n",
      "0.5704041958023962\n",
      "0.5704041958023962\n"
     ]
    }
   ],
   "source": [
    "# matrix with randomness and indexing\n",
    "arr1 = np.random.random((5,4))\n",
    "print(arr1)\n",
    "print(arr1[2]) # 3rd row\n",
    "print(arr1[2][3]) # accessing element\n",
    "print(arr1[2,3])"
   ]
  },
  {
   "cell_type": "code",
   "execution_count": 16,
   "id": "3c4c6cd5",
   "metadata": {},
   "outputs": [
    {
     "name": "stdout",
     "output_type": "stream",
     "text": [
      "[[1 2 3]\n",
      " [4 5 6]]\n",
      "[[1. 2. 3.]\n",
      " [4. 5. 6.]]\n",
      "[[1.+0.j 2.+0.j 3.+0.j]\n",
      " [4.+0.j 5.+0.j 6.+0.j]]\n"
     ]
    }
   ],
   "source": [
    "matrix_A = np.array([[1,2,3], [4,5,6]], dtype=int)\n",
    "print(matrix_A)\n",
    "matrix_B = np.array([[1,2,3], [4,5,6]], dtype=float)\n",
    "print(matrix_B)\n",
    "matrix_C = np.array([[1,2,3], [4,5,6]], dtype=complex)\n",
    "print(matrix_C)"
   ]
  },
  {
   "cell_type": "code",
   "execution_count": 18,
   "id": "cec3bc84",
   "metadata": {},
   "outputs": [
    {
     "name": "stdout",
     "output_type": "stream",
     "text": [
      "[[0. 0. 0. 0.]\n",
      " [0. 0. 0. 0.]]\n",
      "[[0 0 0 0]\n",
      " [0 0 0 0]]\n"
     ]
    }
   ],
   "source": [
    "mat_1 = np.zeros( (2,4))\n",
    "print(mat_1)\n",
    "mat_2 = np.zeros( (2,4), dtype=np.int32 )\n",
    "print(mat_2)"
   ]
  },
  {
   "cell_type": "code",
   "execution_count": 19,
   "id": "1404281c",
   "metadata": {},
   "outputs": [
    {
     "name": "stdout",
     "output_type": "stream",
     "text": [
      "[[1 1 1 1]\n",
      " [1 1 1 1]]\n"
     ]
    }
   ],
   "source": [
    "mat_3 = np.ones( (2,4), dtype=np.int32 )\n",
    "print(mat_3)"
   ]
  },
  {
   "cell_type": "code",
   "execution_count": 22,
   "id": "28aa2471",
   "metadata": {},
   "outputs": [
    {
     "name": "stdout",
     "output_type": "stream",
     "text": [
      "[[1 0 0 0]\n",
      " [0 1 0 0]\n",
      " [0 0 1 0]\n",
      " [0 0 0 1]]\n"
     ]
    }
   ],
   "source": [
    "mat_3 = np.eye(4, dtype=int )\n",
    "print(mat_3)"
   ]
  },
  {
   "cell_type": "code",
   "execution_count": null,
   "id": "b420d137",
   "metadata": {},
   "outputs": [],
   "source": []
  }
 ],
 "metadata": {
  "kernelspec": {
   "display_name": "Python 3 (ipykernel)",
   "language": "python",
   "name": "python3"
  },
  "language_info": {
   "codemirror_mode": {
    "name": "ipython",
    "version": 3
   },
   "file_extension": ".py",
   "mimetype": "text/x-python",
   "name": "python",
   "nbconvert_exporter": "python",
   "pygments_lexer": "ipython3",
   "version": "3.9.12"
  }
 },
 "nbformat": 4,
 "nbformat_minor": 5
}
