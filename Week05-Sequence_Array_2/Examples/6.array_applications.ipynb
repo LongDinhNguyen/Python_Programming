{
 "cells": [
  {
   "cell_type": "code",
   "execution_count": 1,
   "id": "a764f099",
   "metadata": {},
   "outputs": [],
   "source": [
    "import numpy as np"
   ]
  },
  {
   "cell_type": "code",
   "execution_count": 4,
   "id": "639c2be8",
   "metadata": {},
   "outputs": [
    {
     "data": {
      "text/plain": [
       "array([[0.93632101, 0.5972533 , 0.86560726, 0.89657234],\n",
       "       [0.66663779, 0.36324632, 0.58289472, 0.05059645],\n",
       "       [0.58698579, 0.83856151, 0.66011538, 0.8340055 ],\n",
       "       [0.49529882, 0.01355795, 0.07489884, 0.95839386]])"
      ]
     },
     "execution_count": 4,
     "metadata": {},
     "output_type": "execute_result"
    }
   ],
   "source": [
    "# svd array\n",
    "mat_1 = np.random.random((4,4))\n",
    "mat_1"
   ]
  },
  {
   "cell_type": "code",
   "execution_count": 8,
   "id": "434deb5c",
   "metadata": {},
   "outputs": [
    {
     "name": "stdout",
     "output_type": "stream",
     "text": [
      "[[-0.66677721 -0.0732488   0.22001371 -0.70826318]\n",
      " [-0.32414645 -0.5762248   0.53125063  0.52977999]\n",
      " [-0.57708616 -0.07287868 -0.74856769  0.31828708]\n",
      " [-0.34250372  0.81073318  0.33017139  0.34115944]]\n",
      "[2.49613324 0.79773746 0.42201348 0.0934531 ]\n",
      "[[-0.5403513  -0.40244077 -0.46980947 -0.57038668]\n",
      " [-0.11775951 -0.3800511  -0.48470639  0.77894388]\n",
      " [ 0.6736517  -0.70818793  0.07273951 -0.19842432]\n",
      " [ 0.49025153  0.4382607  -0.73419871 -0.1689179 ]]\n"
     ]
    }
   ],
   "source": [
    "u, s, vh = np.linalg.svd(mat_1, full_matrices=True)\n",
    "print(u)\n",
    "print(s)\n",
    "print(vh)"
   ]
  },
  {
   "cell_type": "code",
   "execution_count": 9,
   "id": "743bfbab",
   "metadata": {},
   "outputs": [
    {
     "data": {
      "text/plain": [
       "((4, 4), (4,), (4, 4))"
      ]
     },
     "execution_count": 9,
     "metadata": {},
     "output_type": "execute_result"
    }
   ],
   "source": [
    "u.shape, s.shape, vh.shape"
   ]
  },
  {
   "cell_type": "code",
   "execution_count": 11,
   "id": "b29db7f2",
   "metadata": {},
   "outputs": [
    {
     "name": "stdout",
     "output_type": "stream",
     "text": [
      "[ 2.36403987+0.j         -0.1140368 +0.17166767j -0.1140368 -0.17166767j\n",
      "  0.78211031+0.j        ]\n",
      "[[ 0.67550627+0.j         -0.30804834-0.28789448j -0.30804834+0.28789448j\n",
      "  -0.19442151+0.j        ]\n",
      " [ 0.39512629+0.j         -0.50991889+0.20358099j -0.50991889-0.20358099j\n",
      "  -0.61326329+0.j        ]\n",
      " [ 0.56013886+0.j          0.70321443+0.j          0.70321443-0.j\n",
      "  -0.28017665+0.j        ]\n",
      " [ 0.27168171+0.j          0.07676612+0.14267768j  0.07676612-0.14267768j\n",
      "   0.71246716+0.j        ]]\n"
     ]
    }
   ],
   "source": [
    "evalues, evectors = np.linalg.eig(mat_1)\n",
    "print(evalues)\n",
    "print(evectors)"
   ]
  },
  {
   "cell_type": "code",
   "execution_count": null,
   "id": "1fd1e348",
   "metadata": {},
   "outputs": [],
   "source": []
  }
 ],
 "metadata": {
  "kernelspec": {
   "display_name": "Python 3 (ipykernel)",
   "language": "python",
   "name": "python3"
  },
  "language_info": {
   "codemirror_mode": {
    "name": "ipython",
    "version": 3
   },
   "file_extension": ".py",
   "mimetype": "text/x-python",
   "name": "python",
   "nbconvert_exporter": "python",
   "pygments_lexer": "ipython3",
   "version": "3.9.12"
  }
 },
 "nbformat": 4,
 "nbformat_minor": 5
}
