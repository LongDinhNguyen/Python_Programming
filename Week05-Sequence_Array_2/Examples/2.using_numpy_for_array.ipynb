{
 "cells": [
  {
   "cell_type": "code",
   "execution_count": 1,
   "id": "a2a31675",
   "metadata": {},
   "outputs": [],
   "source": [
    "import numpy as np"
   ]
  },
  {
   "cell_type": "code",
   "execution_count": 12,
   "id": "2288e4d9",
   "metadata": {},
   "outputs": [
    {
     "name": "stdout",
     "output_type": "stream",
     "text": [
      "[[0.63074519 0.7123047  0.02907602 0.3582527 ]\n",
      " [0.71231421 0.4578486  0.69616634 0.06185461]\n",
      " [0.86458739 0.73316716 0.47437676 0.77506726]\n",
      " [0.57810407 0.97283457 0.99997605 0.63259825]\n",
      " [0.01789015 0.1765616  0.98234932 0.46844864]]\n"
     ]
    }
   ],
   "source": [
    "arr1 = np.random.random((5,4))\n",
    "print(arr1)"
   ]
  },
  {
   "cell_type": "code",
   "execution_count": 25,
   "id": "35abf653",
   "metadata": {},
   "outputs": [
    {
     "name": "stdout",
     "output_type": "stream",
     "text": [
      "[[0.66370816 0.29225125 0.19083547 0.2212626  0.32866637 0.44205094\n",
      "  0.91637942 0.69944004]\n",
      " [0.02471647 0.24089615 0.54598998 0.2778482  0.51312677 0.43316308\n",
      "  0.33547976 0.38773663]\n",
      " [0.50821676 0.96294773 0.51435582 0.60735924 0.99709421 0.73975644\n",
      "  0.17221691 0.92991127]\n",
      " [0.87775935 0.85471122 0.69754287 0.27738841 0.32851053 0.46561877\n",
      "  0.35962681 0.32816513]\n",
      " [0.98648942 0.81358778 0.38677979 0.76801879 0.31989914 0.18893984\n",
      "  0.81903558 0.95276269]\n",
      " [0.34961905 0.15611354 0.98118599 0.66266744 0.79645928 0.25919938\n",
      "  0.73948868 0.55302167]]\n"
     ]
    }
   ],
   "source": [
    "arr1 = np.random.random((6,8))\n",
    "print(arr1)"
   ]
  },
  {
   "cell_type": "code",
   "execution_count": 28,
   "id": "3c4c6cd5",
   "metadata": {},
   "outputs": [
    {
     "name": "stdout",
     "output_type": "stream",
     "text": [
      "0.6073592435600461\n"
     ]
    }
   ],
   "source": [
    "print(arr1[2][3])"
   ]
  },
  {
   "cell_type": "code",
   "execution_count": 23,
   "id": "e81d9e01",
   "metadata": {},
   "outputs": [
    {
     "name": "stdout",
     "output_type": "stream",
     "text": [
      "[[1 2 3]\n",
      " [2 3 1]]\n",
      "[[1 2]\n",
      " [2 3]\n",
      " [3 1]]\n"
     ]
    }
   ],
   "source": [
    "arr1 = np.array([[1, 2, 3], [2,3,1]])\n",
    "print(arr1)\n",
    "arr2 = arr1.T\n",
    "print(arr2)"
   ]
  },
  {
   "cell_type": "code",
   "execution_count": null,
   "id": "ed4ff290",
   "metadata": {},
   "outputs": [],
   "source": []
  }
 ],
 "metadata": {
  "kernelspec": {
   "display_name": "Python 3 (ipykernel)",
   "language": "python",
   "name": "python3"
  },
  "language_info": {
   "codemirror_mode": {
    "name": "ipython",
    "version": 3
   },
   "file_extension": ".py",
   "mimetype": "text/x-python",
   "name": "python",
   "nbconvert_exporter": "python",
   "pygments_lexer": "ipython3",
   "version": "3.9.12"
  }
 },
 "nbformat": 4,
 "nbformat_minor": 5
}
